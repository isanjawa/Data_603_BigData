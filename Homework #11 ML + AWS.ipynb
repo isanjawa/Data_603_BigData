{
 "cells": [
  {
   "cell_type": "markdown",
   "metadata": {},
   "source": [
    "\n",
    "DATA 603 – Big Data Platforms\n",
    "\n",
    "Homework #11 ML + AWS\n",
    "\n",
    "Write a Spark ML-lib program to predict flight delays for certain airline UMAIR. UMAIR operates throughout the US. "
   ]
  },
  {
   "cell_type": "code",
   "execution_count": 1,
   "metadata": {},
   "outputs": [],
   "source": [
    "from pyspark import SparkContext \n",
    "from pyspark.sql import SQLContext\n",
    "import pyspark.sql.functions as F\n",
    "from pyspark.sql.types import *\n",
    "from pyspark.ml.classification import LogisticRegression\n",
    "from pyspark.mllib.util import MLUtils\n",
    "from pyspark.ml.feature import OneHotEncoder, StringIndexer, StandardScaler, Imputer, VectorAssembler, SQLTransformer\n",
    "from pyspark.ml.feature import OneHotEncoderEstimator, StringIndexer, VectorAssembler\n",
    "from pyspark.ml.linalg import Vectors"
   ]
  },
  {
   "cell_type": "code",
   "execution_count": null,
   "metadata": {},
   "outputs": [],
   "source": []
  },
  {
   "cell_type": "code",
   "execution_count": 2,
   "metadata": {},
   "outputs": [],
   "source": [
    "#generate random data for flights of size about 100 rows.\n",
    "\n",
    "import random\n",
    "from datetime import date, time\n",
    "import csv\n",
    "\n",
    "list_airport_code=['ABE', 'ABI', 'BWI', 'CAE', 'CDC', 'PHL', 'LAX', 'JFK']\n",
    "\n",
    "# random Day generator\n",
    "def generate_date():\n",
    "\n",
    "    start_dt = date.today().replace(day=1, month=1, year=2019).toordinal()\n",
    "    end_dt = date.today().toordinal()\n",
    "    random_day = date.fromordinal(random.randint(start_dt, end_dt))\n",
    "    return random_day\n",
    "\n",
    "# random Time generator\n",
    "def generate_time():\n",
    "    hours = random.randint(3,23)\n",
    "    minutes= random.randint(0,59)\n",
    "    \n",
    "    t1 = time(hours-(random.randint(0,2)), minutes) #flight schedule land time\n",
    "    t2 = time(hours, minutes) # flight actual land time\n",
    "    \n",
    "    format = \"%H:%M\"\n",
    "    #format datetime using strftime()\n",
    "    start_time = t1.strftime(format)\n",
    "    end_time= t2.strftime(format)\n",
    "    \n",
    "    return [start_time, end_time]\n",
    "\n",
    " \n",
    "#Final function\n",
    "def createFakeData(name_of_file, number_of_rows):\n",
    "    with open (name_of_file, 'w', newline='') as file:\n",
    "        writeData = csv.writer(file)\n",
    "\n",
    "        #The headers\n",
    "        writeData.writerow(['Flight No', \n",
    "                            'Date', \n",
    "                            'Time',\n",
    "                            'Actual Date',\n",
    "                            'Actual Time', \n",
    "                            'Origin',\n",
    "                            'Destination'])\n",
    "        \n",
    "        for i in range(1,number_of_rows):\n",
    "            \n",
    "            day=generate_date()\n",
    "            time=generate_time()\n",
    "            aiport_codes = random.sample(list_airport_code, 2)\n",
    "            \n",
    "            writeData.writerow(['UM-'+ str(random.randint(400,799)+i),\n",
    "                                 day, \n",
    "                                 time[0] ,\n",
    "                                 day,\n",
    "                                 time[1],\n",
    "                                 aiport_codes[0],\n",
    "                                 aiport_codes[1]\n",
    "                               ])\n",
    "                                \n",
    "                                \n",
    "    #print('You created a CSV file: ' + str(name_of_file) + ' with ' + str(number_of_rows) + ' rows.' )\n",
    "            \n",
    "createFakeData('FlightData.csv', 101)                                 "
   ]
  },
  {
   "cell_type": "code",
   "execution_count": 3,
   "metadata": {},
   "outputs": [],
   "source": [
    "from pyspark.sql import SparkSession\n",
    "spark = SparkSession.builder.appName('flights delay').getOrCreate()"
   ]
  },
  {
   "cell_type": "code",
   "execution_count": 4,
   "metadata": {},
   "outputs": [],
   "source": [
    "from pyspark.ml.regression import LinearRegression"
   ]
  },
  {
   "cell_type": "code",
   "execution_count": 5,
   "metadata": {},
   "outputs": [
    {
     "name": "stdout",
     "output_type": "stream",
     "text": [
      "+---------+----------+-----+-----------+-----------+------+-----------+\n",
      "|Flight No|      Date| Time|Actual Date|Actual Time|Origin|Destination|\n",
      "+---------+----------+-----+-----------+-----------+------+-----------+\n",
      "|   UM-794|2019-08-31|12:06| 2019-08-31|      12:06|   CAE|        ABE|\n",
      "|   UM-749|2020-05-12|16:05| 2020-05-12|      16:05|   CDC|        ABE|\n",
      "|   UM-498|2019-10-25|15:46| 2019-10-25|      16:46|   JFK|        CDC|\n",
      "|   UM-786|2020-07-03|22:52| 2020-07-03|      23:52|   ABE|        CDC|\n",
      "|   UM-780|2019-11-16|12:55| 2019-11-16|      13:55|   CAE|        LAX|\n",
      "+---------+----------+-----+-----------+-----------+------+-----------+\n",
      "only showing top 5 rows\n",
      "\n"
     ]
    }
   ],
   "source": [
    "# Load training data\n",
    "df1 = spark.read.csv(\"FlightData.csv\", header='true', inferSchema='false')\n",
    "#spark.read.format(\"csv\").load(\"FlightData.csv\")\n",
    "df1.show(5)"
   ]
  },
  {
   "cell_type": "code",
   "execution_count": 6,
   "metadata": {},
   "outputs": [
    {
     "name": "stdout",
     "output_type": "stream",
     "text": [
      "root\n",
      " |-- Flight No: string (nullable = true)\n",
      " |-- Date: string (nullable = true)\n",
      " |-- Time: string (nullable = true)\n",
      " |-- Actual Date: string (nullable = true)\n",
      " |-- Actual Time: string (nullable = true)\n",
      " |-- Origin: string (nullable = true)\n",
      " |-- Destination: string (nullable = true)\n",
      "\n"
     ]
    }
   ],
   "source": [
    "df1.printSchema()"
   ]
  },
  {
   "cell_type": "code",
   "execution_count": 7,
   "metadata": {},
   "outputs": [
    {
     "name": "stdout",
     "output_type": "stream",
     "text": [
      "+---------+----------+-----+-----------+-----------+------+-----------+\n",
      "|Flight No|      Date| Time|Actual Date|Actual Time|Origin|Destination|\n",
      "+---------+----------+-----+-----------+-----------+------+-----------+\n",
      "|   UM-479|2020-07-11|16:39| 2020-07-11|      18:39|   JFK|        CDC|\n",
      "|   UM-470|2020-07-10|20:33| 2020-07-10|      20:33|   PHL|        CDC|\n",
      "|   UM-649|2020-07-07|06:07| 2020-07-07|      08:07|   CAE|        JFK|\n",
      "|   UM-710|2020-07-03|19:46| 2020-07-03|      20:46|   JFK|        ABE|\n",
      "|   UM-786|2020-07-03|22:52| 2020-07-03|      23:52|   ABE|        CDC|\n",
      "+---------+----------+-----+-----------+-----------+------+-----------+\n",
      "only showing top 5 rows\n",
      "\n"
     ]
    }
   ],
   "source": [
    "# Sort the dataframe in descending- sort by a single colunm\n",
    "\n",
    "df2 = df1.orderBy('Date', ascending=False)\n",
    "df2.show(5)"
   ]
  },
  {
   "cell_type": "code",
   "execution_count": 8,
   "metadata": {},
   "outputs": [],
   "source": [
    "\n",
    "#Change columns type\n",
    "for d in df2.columns:\n",
    "    if d in [\"Date\", \"Actual Date\"]:\n",
    "    # add condition for the cols to be type cast\n",
    "       df2=df2.withColumn(d, df2[d].cast(DateType()))"
   ]
  },
  {
   "cell_type": "code",
   "execution_count": 9,
   "metadata": {},
   "outputs": [
    {
     "name": "stdout",
     "output_type": "stream",
     "text": [
      "root\n",
      " |-- Flight No: string (nullable = true)\n",
      " |-- Date: date (nullable = true)\n",
      " |-- Time: string (nullable = true)\n",
      " |-- Actual Date: date (nullable = true)\n",
      " |-- Actual Time: string (nullable = true)\n",
      " |-- Origin: string (nullable = true)\n",
      " |-- Destination: string (nullable = true)\n",
      "\n"
     ]
    }
   ],
   "source": [
    "df2.printSchema()"
   ]
  },
  {
   "cell_type": "code",
   "execution_count": 10,
   "metadata": {},
   "outputs": [],
   "source": [
    "#df2.show(5)"
   ]
  },
  {
   "cell_type": "code",
   "execution_count": 11,
   "metadata": {},
   "outputs": [],
   "source": [
    "#df2.printSchema()"
   ]
  },
  {
   "cell_type": "code",
   "execution_count": 12,
   "metadata": {},
   "outputs": [],
   "source": [
    "#df2.describe().show()"
   ]
  },
  {
   "cell_type": "code",
   "execution_count": 13,
   "metadata": {},
   "outputs": [],
   "source": [
    "# define timedelta function (obtain delay duration in minutes)\n",
    "from pyspark.sql.functions import udf\n",
    "\n",
    "def time_delta(y,x): \n",
    "    from datetime import datetime\n",
    "    end = datetime.strptime(y, '%H:%M')\n",
    "    start = datetime.strptime(x, '%H:%M')\n",
    "    delta = (end-start).seconds\n",
    "    return delta\n",
    "\n",
    "# register as a UDF \n",
    "f = udf(time_delta, IntegerType())\n",
    "\n",
    "# Apply function\n",
    "df_new = df2.withColumn('Delay Duration', f(df2[\"Actual Time\"], df2[\"Time\"])/60)"
   ]
  },
  {
   "cell_type": "code",
   "execution_count": 14,
   "metadata": {},
   "outputs": [
    {
     "name": "stdout",
     "output_type": "stream",
     "text": [
      "+---------+----------+-----+-----------+-----------+------+-----------+--------------+\n",
      "|Flight No|      Date| Time|Actual Date|Actual Time|Origin|Destination|Delay Duration|\n",
      "+---------+----------+-----+-----------+-----------+------+-----------+--------------+\n",
      "|   UM-479|2020-07-11|16:39| 2020-07-11|      18:39|   JFK|        CDC|         120.0|\n",
      "|   UM-470|2020-07-10|20:33| 2020-07-10|      20:33|   PHL|        CDC|           0.0|\n",
      "|   UM-649|2020-07-07|06:07| 2020-07-07|      08:07|   CAE|        JFK|         120.0|\n",
      "|   UM-786|2020-07-03|22:52| 2020-07-03|      23:52|   ABE|        CDC|          60.0|\n",
      "|   UM-710|2020-07-03|19:46| 2020-07-03|      20:46|   JFK|        ABE|          60.0|\n",
      "+---------+----------+-----+-----------+-----------+------+-----------+--------------+\n",
      "only showing top 5 rows\n",
      "\n"
     ]
    }
   ],
   "source": [
    "df_new.show(5)"
   ]
  },
  {
   "cell_type": "code",
   "execution_count": 15,
   "metadata": {},
   "outputs": [
    {
     "name": "stdout",
     "output_type": "stream",
     "text": [
      "+-------+---------+-----+-----------+------+-----------+------------------+\n",
      "|summary|Flight No| Time|Actual Time|Origin|Destination|    Delay Duration|\n",
      "+-------+---------+-----+-----------+------+-----------+------------------+\n",
      "|  count|      100|  100|        100|   100|        100|               100|\n",
      "|   mean|     null| null|       null|  null|       null|              60.6|\n",
      "| stddev|     null| null|       null|  null|       null|50.087196694637164|\n",
      "|    min|   UM-432|01:14|      03:14|   ABE|        ABE|               0.0|\n",
      "|    max|   UM-873|23:56|      23:56|   PHL|        PHL|             120.0|\n",
      "+-------+---------+-----+-----------+------+-----------+------------------+\n",
      "\n"
     ]
    }
   ],
   "source": [
    "df_new.describe().show()"
   ]
  },
  {
   "cell_type": "code",
   "execution_count": 16,
   "metadata": {},
   "outputs": [
    {
     "name": "stdout",
     "output_type": "stream",
     "text": [
      "root\n",
      " |-- Flight No: string (nullable = true)\n",
      " |-- Date: date (nullable = true)\n",
      " |-- Time: string (nullable = true)\n",
      " |-- Actual Date: date (nullable = true)\n",
      " |-- Actual Time: string (nullable = true)\n",
      " |-- Origin: string (nullable = true)\n",
      " |-- Destination: string (nullable = true)\n",
      " |-- Delay Duration: double (nullable = true)\n",
      "\n"
     ]
    }
   ],
   "source": [
    "df_new.printSchema()"
   ]
  },
  {
   "cell_type": "markdown",
   "metadata": {},
   "source": [
    "### Use OneHotEncoder to encode my categorical data."
   ]
  },
  {
   "cell_type": "code",
   "execution_count": 17,
   "metadata": {},
   "outputs": [
    {
     "name": "stdout",
     "output_type": "stream",
     "text": [
      "+---------+----------+-----+-----------+-----------+------+-----------+--------------+-----------+----------------+\n",
      "|Flight No|      Date| Time|Actual Date|Actual Time|Origin|Destination|Delay Duration|OriginIndex|DestinationIndex|\n",
      "+---------+----------+-----+-----------+-----------+------+-----------+--------------+-----------+----------------+\n",
      "|   UM-479|2020-07-11|16:39| 2020-07-11|      18:39|   JFK|        CDC|         120.0|        0.0|             0.0|\n",
      "|   UM-470|2020-07-10|20:33| 2020-07-10|      20:33|   PHL|        CDC|           0.0|        3.0|             0.0|\n",
      "|   UM-649|2020-07-07|06:07| 2020-07-07|      08:07|   CAE|        JFK|         120.0|        4.0|             6.0|\n",
      "|   UM-786|2020-07-03|22:52| 2020-07-03|      23:52|   ABE|        CDC|          60.0|        1.0|             0.0|\n",
      "|   UM-710|2020-07-03|19:46| 2020-07-03|      20:46|   JFK|        ABE|          60.0|        0.0|             2.0|\n",
      "+---------+----------+-----+-----------+-----------+------+-----------+--------------+-----------+----------------+\n",
      "only showing top 5 rows\n",
      "\n"
     ]
    }
   ],
   "source": [
    " # Category Indexing with StringIndexer\n",
    "\n",
    "stringIndexer = StringIndexer(inputCol = \"Origin\", outputCol = \"Origin\"+ 'Index')\n",
    "df_new= stringIndexer.fit(df_new).transform(df_new)\n",
    "#indexer.show(5) \n",
    "\n",
    "stringIndexer = StringIndexer(inputCol = \"Destination\", outputCol = \"Destination\"+ 'Index')\n",
    "df_new= stringIndexer.fit(df_new).transform(df_new)\n",
    "df_new.show(5) \n"
   ]
  },
  {
   "cell_type": "code",
   "execution_count": 18,
   "metadata": {},
   "outputs": [
    {
     "name": "stdout",
     "output_type": "stream",
     "text": [
      "+---------+----------+-----+-----------+-----------+------+-----------+--------------+-----------+----------------+-------------------+\n",
      "|Flight No|      Date| Time|Actual Date|Actual Time|Origin|Destination|Delay Duration|OriginIndex|DestinationIndex|Delay DurationIndex|\n",
      "+---------+----------+-----+-----------+-----------+------+-----------+--------------+-----------+----------------+-------------------+\n",
      "|   UM-479|2020-07-11|16:39| 2020-07-11|      18:39|   JFK|        CDC|         120.0|        0.0|             0.0|                0.0|\n",
      "|   UM-470|2020-07-10|20:33| 2020-07-10|      20:33|   PHL|        CDC|           0.0|        3.0|             0.0|                1.0|\n",
      "|   UM-649|2020-07-07|06:07| 2020-07-07|      08:07|   CAE|        JFK|         120.0|        4.0|             6.0|                0.0|\n",
      "|   UM-786|2020-07-03|22:52| 2020-07-03|      23:52|   ABE|        CDC|          60.0|        1.0|             0.0|                2.0|\n",
      "|   UM-710|2020-07-03|19:46| 2020-07-03|      20:46|   JFK|        ABE|          60.0|        0.0|             2.0|                2.0|\n",
      "+---------+----------+-----+-----------+-----------+------+-----------+--------------+-----------+----------------+-------------------+\n",
      "only showing top 5 rows\n",
      "\n"
     ]
    }
   ],
   "source": [
    "# Convert the dependent variable(Delay Duration) into dependent variable indices using the StringIndexer\n",
    "dependent_stringIndexer = StringIndexer(inputCol = \"Delay Duration\", outputCol = \"Delay Duration\"+ 'Index')\n",
    "df_new = dependent_stringIndexer.fit(df_new).transform(df_new)\n",
    "df_new.show(5)"
   ]
  },
  {
   "cell_type": "code",
   "execution_count": 19,
   "metadata": {},
   "outputs": [],
   "source": [
    "# Use OneHotEncoder to convert categorical variables into binary SparseVectors\n",
    "\n",
    "encoder = OneHotEncoderEstimator(inputCols=[\"DestinationIndex\"], outputCols=[\"DestinationVec\"], dropLast=False)\n"
   ]
  },
  {
   "cell_type": "code",
   "execution_count": 20,
   "metadata": {},
   "outputs": [],
   "source": [
    "model = encoder.fit(df_new)\n",
    "df_new= model.transform(df_new)\n",
    "#df_new.show(5)"
   ]
  },
  {
   "cell_type": "code",
   "execution_count": 21,
   "metadata": {},
   "outputs": [],
   "source": [
    "encoder = OneHotEncoderEstimator(inputCols=[\"OriginIndex\"], outputCols=[\"OriginVec\"], dropLast=False)"
   ]
  },
  {
   "cell_type": "code",
   "execution_count": 22,
   "metadata": {},
   "outputs": [
    {
     "name": "stdout",
     "output_type": "stream",
     "text": [
      "+---------+----------+-----+-----------+-----------+------+-----------+--------------+-----------+----------------+-------------------+--------------+-------------+\n",
      "|Flight No|      Date| Time|Actual Date|Actual Time|Origin|Destination|Delay Duration|OriginIndex|DestinationIndex|Delay DurationIndex|DestinationVec|    OriginVec|\n",
      "+---------+----------+-----+-----------+-----------+------+-----------+--------------+-----------+----------------+-------------------+--------------+-------------+\n",
      "|   UM-479|2020-07-11|16:39| 2020-07-11|      18:39|   JFK|        CDC|         120.0|        0.0|             0.0|                0.0| (8,[0],[1.0])|(8,[0],[1.0])|\n",
      "|   UM-470|2020-07-10|20:33| 2020-07-10|      20:33|   PHL|        CDC|           0.0|        3.0|             0.0|                1.0| (8,[0],[1.0])|(8,[3],[1.0])|\n",
      "|   UM-649|2020-07-07|06:07| 2020-07-07|      08:07|   CAE|        JFK|         120.0|        4.0|             6.0|                0.0| (8,[6],[1.0])|(8,[4],[1.0])|\n",
      "|   UM-786|2020-07-03|22:52| 2020-07-03|      23:52|   ABE|        CDC|          60.0|        1.0|             0.0|                2.0| (8,[0],[1.0])|(8,[1],[1.0])|\n",
      "|   UM-710|2020-07-03|19:46| 2020-07-03|      20:46|   JFK|        ABE|          60.0|        0.0|             2.0|                2.0| (8,[2],[1.0])|(8,[0],[1.0])|\n",
      "+---------+----------+-----+-----------+-----------+------+-----------+--------------+-----------+----------------+-------------------+--------------+-------------+\n",
      "only showing top 5 rows\n",
      "\n"
     ]
    }
   ],
   "source": [
    "model1 = encoder.fit(df_new)\n",
    "df_new= model1.transform(df_new)\n",
    "df_new.show(5)"
   ]
  },
  {
   "cell_type": "code",
   "execution_count": 23,
   "metadata": {},
   "outputs": [],
   "source": [
    "from pyspark.ml.linalg import Vectors\n",
    "from pyspark.ml.feature import VectorAssembler\n"
   ]
  },
  {
   "cell_type": "code",
   "execution_count": 24,
   "metadata": {},
   "outputs": [
    {
     "name": "stdout",
     "output_type": "stream",
     "text": [
      "+---------+----------+-----+-----------+-----------+------+-----------+--------------+-----------+----------------+-------------------+--------------+-------------+--------------------+\n",
      "|Flight No|      Date| Time|Actual Date|Actual Time|Origin|Destination|Delay Duration|OriginIndex|DestinationIndex|Delay DurationIndex|DestinationVec|    OriginVec|Independent Features|\n",
      "+---------+----------+-----+-----------+-----------+------+-----------+--------------+-----------+----------------+-------------------+--------------+-------------+--------------------+\n",
      "|   UM-479|2020-07-11|16:39| 2020-07-11|      18:39|   JFK|        CDC|         120.0|        0.0|             0.0|                0.0| (8,[0],[1.0])|(8,[0],[1.0])|(16,[0,8],[1.0,1.0])|\n",
      "|   UM-470|2020-07-10|20:33| 2020-07-10|      20:33|   PHL|        CDC|           0.0|        3.0|             0.0|                1.0| (8,[0],[1.0])|(8,[3],[1.0])|(16,[3,8],[1.0,1.0])|\n",
      "|   UM-649|2020-07-07|06:07| 2020-07-07|      08:07|   CAE|        JFK|         120.0|        4.0|             6.0|                0.0| (8,[6],[1.0])|(8,[4],[1.0])|(16,[4,14],[1.0,1...|\n",
      "|   UM-786|2020-07-03|22:52| 2020-07-03|      23:52|   ABE|        CDC|          60.0|        1.0|             0.0|                2.0| (8,[0],[1.0])|(8,[1],[1.0])|(16,[1,8],[1.0,1.0])|\n",
      "|   UM-710|2020-07-03|19:46| 2020-07-03|      20:46|   JFK|        ABE|          60.0|        0.0|             2.0|                2.0| (8,[2],[1.0])|(8,[0],[1.0])|(16,[0,10],[1.0,1...|\n",
      "+---------+----------+-----+-----------+-----------+------+-----------+--------------+-----------+----------------+-------------------+--------------+-------------+--------------------+\n",
      "only showing top 5 rows\n",
      "\n"
     ]
    }
   ],
   "source": [
    "# Transform all features into a vector using VectorAssembler\n",
    "\n",
    "featureassembler = VectorAssembler().setInputCols([\"OriginVec\", \"DestinationVec\"]).setOutputCol(\"Independent Features\")\n",
    "output1 = featureassembler.transform(df_new)\n",
    "output1.show(5)"
   ]
  },
  {
   "cell_type": "code",
   "execution_count": 25,
   "metadata": {},
   "outputs": [],
   "source": [
    " finalize_data = output1.select(\"Independent Features\",\"Delay Duration\")"
   ]
  },
  {
   "cell_type": "code",
   "execution_count": 26,
   "metadata": {},
   "outputs": [
    {
     "name": "stdout",
     "output_type": "stream",
     "text": [
      "+--------------------+--------------+\n",
      "|Independent Features|Delay Duration|\n",
      "+--------------------+--------------+\n",
      "|(16,[0,8],[1.0,1.0])|         120.0|\n",
      "|(16,[3,8],[1.0,1.0])|           0.0|\n",
      "|(16,[4,14],[1.0,1...|         120.0|\n",
      "|(16,[1,8],[1.0,1.0])|          60.0|\n",
      "|(16,[0,10],[1.0,1...|          60.0|\n",
      "|(16,[0,8],[1.0,1.0])|          60.0|\n",
      "|(16,[7,12],[1.0,1...|          60.0|\n",
      "|(16,[1,12],[1.0,1...|         120.0|\n",
      "|(16,[2,15],[1.0,1...|         120.0|\n",
      "|(16,[4,13],[1.0,1...|           0.0|\n",
      "|(16,[0,8],[1.0,1.0])|           0.0|\n",
      "|(16,[6,8],[1.0,1.0])|           0.0|\n",
      "|(16,[0,9],[1.0,1.0])|           0.0|\n",
      "|(16,[2,12],[1.0,1...|          60.0|\n",
      "|(16,[4,9],[1.0,1.0])|          60.0|\n",
      "|(16,[7,8],[1.0,1.0])|           0.0|\n",
      "|(16,[2,10],[1.0,1...|           0.0|\n",
      "|(16,[3,8],[1.0,1.0])|           0.0|\n",
      "|(16,[0,11],[1.0,1...|          60.0|\n",
      "|(16,[0,11],[1.0,1...|          60.0|\n",
      "+--------------------+--------------+\n",
      "only showing top 20 rows\n",
      "\n"
     ]
    }
   ],
   "source": [
    "finalize_data.show()"
   ]
  },
  {
   "cell_type": "code",
   "execution_count": 35,
   "metadata": {},
   "outputs": [
    {
     "name": "stdout",
     "output_type": "stream",
     "text": [
      "Training Dataset Count: 89\n",
      "Test Dataset Count: 11\n"
     ]
    }
   ],
   "source": [
    "train_data, test_data = finalize_data.randomSplit([0.88, 0.12], seed = 100)\n",
    "print(\"Training Dataset Count: \" + str(train_data.count()))\n",
    "print(\"Test Dataset Count: \" + str(test_data.count()))"
   ]
  },
  {
   "cell_type": "code",
   "execution_count": 36,
   "metadata": {},
   "outputs": [],
   "source": [
    "#Create an instance of our model using the given columns and also instantiate a prediction named column for our predictions\n",
    "lin_reg=LinearRegression(featuresCol='Independent Features',labelCol='Delay Duration', predictionCol='prediction')\n",
    "lin_reg = lin_reg.fit(train_data)\n"
   ]
  },
  {
   "cell_type": "code",
   "execution_count": 37,
   "metadata": {},
   "outputs": [
    {
     "data": {
      "text/plain": [
       "DenseVector([-3.7943, -4.01, -14.0408, 1.0868, 8.1722, -5.373, -3.0212, 41.3046, -12.5762, -12.9647, -18.4923, 25.8401, 4.1976, -12.5486, 16.6553, 32.9827])"
      ]
     },
     "execution_count": 37,
     "metadata": {},
     "output_type": "execute_result"
    }
   ],
   "source": [
    "lin_reg.coefficients"
   ]
  },
  {
   "cell_type": "code",
   "execution_count": 38,
   "metadata": {},
   "outputs": [
    {
     "data": {
      "image/png": "[encoded data removed]",
      "text/plain": [
       "<Figure size 432x288 with 1 Axes>"
      ]
     },
     "metadata": {
      "needs_background": "light"
     },
     "output_type": "display_data"
    }
   ],
   "source": [
    "# Visualizing the coefficients\n",
    "\n",
    "import matplotlib.pyplot as plt\n",
    "import numpy as np\n",
    "beta = np.sort(lin_reg.coefficients)\n",
    "plt.plot(beta)\n",
    "plt.ylabel('Beta Coefficients')\n",
    "plt.show()"
   ]
  },
  {
   "cell_type": "code",
   "execution_count": 39,
   "metadata": {},
   "outputs": [
    {
     "name": "stdout",
     "output_type": "stream",
     "text": [
      "+--------------------+--------------+-----------------+\n",
      "|Independent Features|Delay Duration|       prediction|\n",
      "+--------------------+--------------+-----------------+\n",
      "|(16,[0,10],[1.0,1...|          60.0| 39.6469556161622|\n",
      "|(16,[1,12],[1.0,1...|         120.0|62.12126430407105|\n",
      "|(16,[7,8],[1.0,1.0])|           0.0|90.66196873437889|\n",
      "|(16,[3,8],[1.0,1.0])|           0.0|50.44416883227251|\n",
      "|(16,[1,9],[1.0,1.0])|           0.0|44.95888078953659|\n",
      "|(16,[7,11],[1.0,1...|          60.0|129.0782906752908|\n",
      "|(16,[1,15],[1.0,1...|           0.0| 90.9062978918785|\n",
      "|(16,[1,9],[1.0,1.0])|           0.0|44.95888078953659|\n",
      "|(16,[1,13],[1.0,1...|         120.0|45.37506187309671|\n",
      "|(16,[7,9],[1.0,1.0])|         120.0|90.27346634906368|\n",
      "|(16,[1,12],[1.0,1...|         120.0|62.12126430407105|\n",
      "+--------------------+--------------+-----------------+\n",
      "\n"
     ]
    }
   ],
   "source": [
    "#Make predictions on the test set.\n",
    "\n",
    "predictions = lin_reg.transform(test_data)\n",
    "predictions.select('Independent Features','Delay Duration','prediction').show()"
   ]
  },
  {
   "cell_type": "code",
   "execution_count": 40,
   "metadata": {},
   "outputs": [
    {
     "data": {
      "text/plain": [
       "61.93357324773695"
      ]
     },
     "execution_count": 40,
     "metadata": {},
     "output_type": "execute_result"
    }
   ],
   "source": [
    "lin_reg.intercept"
   ]
  },
  {
   "cell_type": "code",
   "execution_count": 41,
   "metadata": {},
   "outputs": [],
   "source": [
    "#Summarize the model over the training set\n",
    "trainingSummary = lin_reg.summary"
   ]
  },
  {
   "cell_type": "code",
   "execution_count": 42,
   "metadata": {},
   "outputs": [
    {
     "name": "stdout",
     "output_type": "stream",
     "text": [
      "39.306987685139134\n",
      "45.110436902702304\n",
      "0.16089606391935152\n"
     ]
    }
   ],
   "source": [
    "#Some probability calculations\n",
    "\n",
    "print(trainingSummary.meanAbsoluteError)\n",
    "print(trainingSummary.rootMeanSquaredError)\n",
    "print(trainingSummary.r2)"
   ]
  },
  {
   "cell_type": "code",
   "execution_count": null,
   "metadata": {},
   "outputs": [],
   "source": []
  }
 ],
 "metadata": {
  "kernelspec": {
   "display_name": "Python 3",
   "language": "python",
   "name": "python3"
  },
  "language_info": {
   "codemirror_mode": {
    "name": "ipython",
    "version": 3
   },
   "file_extension": ".py",
   "mimetype": "text/x-python",
   "name": "python",
   "nbconvert_exporter": "python",
   "pygments_lexer": "ipython3",
   "version": "3.7.3"
  }
 },
 "nbformat": 4,
 "nbformat_minor": 2
}
