{
 "cells": [
  {
   "cell_type": "code",
   "execution_count": 1,
   "metadata": {},
   "outputs": [
    {
     "name": "stdout",
     "output_type": "stream",
     "text": [
      "Requirement already satisfied: pyspark in c:\\programdata\\anaconda3\\lib\\site-packages (2.3.2)\n",
      "Requirement already satisfied: py4j==0.10.7 in c:\\programdata\\anaconda3\\lib\\site-packages (from pyspark) (0.10.7)\n"
     ]
    }
   ],
   "source": [
    "!pip install pyspark"
   ]
  },
  {
   "cell_type": "code",
   "execution_count": 2,
   "metadata": {},
   "outputs": [],
   "source": [
    "from pyspark.sql import SQLContext\n",
    "from pyspark.sql.types import *\n",
    "from pyspark import SparkContext\n"
   ]
  },
  {
   "cell_type": "code",
   "execution_count": 3,
   "metadata": {},
   "outputs": [],
   "source": [
    "from pyspark.sql import SparkSession \n",
    "\n",
    "spark = SparkSession.builder.appName(\"Student Score\").config(\" spark.sql.warehouse.dir\", \"some-value\").getOrCreate()\n"
   ]
  },
  {
   "cell_type": "code",
   "execution_count": 4,
   "metadata": {},
   "outputs": [
    {
     "name": "stdout",
     "output_type": "stream",
     "text": [
      "+----------+-----------------+------------+---+\n",
      "|Student_ID|     Student_Name|Phone_Number|GPA|\n",
      "+----------+-----------------+------------+---+\n",
      "|       301|    Mary Waggoner|919-779-7459|3.8|\n",
      "|       102|    Arthur Weller|940-696-4542|4.0|\n",
      "|       203| Jessica Reynolds|901-691-3881|2.4|\n",
      "|       104|    Marc  Vasquez|573-243-2353|2.9|\n",
      "|       205|    Dylan  Gordon|727-489-8843|3.6|\n",
      "|       126|       Brad Cronk|415-989-2003|3.2|\n",
      "|       187|    steve Francis|517-973-8962|3.9|\n",
      "|       138|     John  Hughes|662-370-6063|3.0|\n",
      "|       199| Kathryn N. Jones|612-304-6827|3.3|\n",
      "|       209|      John  Smith|812-463-0040|3.4|\n",
      "|       219|   Nathan Bennett|812-275-0880|3.5|\n",
      "+----------+-----------------+------------+---+\n",
      "\n"
     ]
    }
   ],
   "source": [
    "df_students = spark.read.csv(\"C:\\\\Users\\\\isanj\\\\OneDrive\\\\Desktop\\\\Student_603.csv\", header='true', inferSchema='true') \n",
    "# Displays the content of the DataFrame to stdout \n",
    "df_students.show() \n"
   ]
  },
  {
   "cell_type": "code",
   "execution_count": 8,
   "metadata": {},
   "outputs": [],
   "source": [
    "#  User defines function\n",
    "\n",
    "def determine_grade(GPA):\n",
    "    if GPA >= 3.6 and GPA <= 4:\n",
    "        return 'A'\n",
    "    elif GPA >= 3.2 and GPA < 3.6:\n",
    "        return 'B'\n",
    "    elif GPA >= 2.8 and GPA <3.2:\n",
    "        return 'C' \n",
    "    elif GPA >= 2 and GPA <2.8:\n",
    "        return 'D'\n",
    "    elif GPA >= 0.0 and GPA <2:\n",
    "        return 'E/F'"
   ]
  },
  {
   "cell_type": "code",
   "execution_count": 9,
   "metadata": {},
   "outputs": [
    {
     "name": "stdout",
     "output_type": "stream",
     "text": [
      "+----------+-----------------+------------+---+-----+\n",
      "|Student_ID|     Student_Name|Phone_Number|GPA|Grade|\n",
      "+----------+-----------------+------------+---+-----+\n",
      "|       301|    Mary Waggoner|919-779-7459|3.8|    A|\n",
      "|       102|    Arthur Weller|940-696-4542|4.0|    A|\n",
      "|       203| Jessica Reynolds|901-691-3881|2.4|    D|\n",
      "|       104|    Marc  Vasquez|573-243-2353|2.9|    C|\n",
      "|       205|    Dylan  Gordon|727-489-8843|3.6|    A|\n",
      "|       126|       Brad Cronk|415-989-2003|3.2|    B|\n",
      "|       187|    steve Francis|517-973-8962|3.9|    A|\n",
      "|       138|     John  Hughes|662-370-6063|3.0|    C|\n",
      "|       199| Kathryn N. Jones|612-304-6827|3.3|    B|\n",
      "|       209|      John  Smith|812-463-0040|3.4|    B|\n",
      "|       219|   Nathan Bennett|812-275-0880|3.5|    B|\n",
      "+----------+-----------------+------------+---+-----+\n",
      "\n"
     ]
    }
   ],
   "source": [
    "from pyspark.sql.functions import udf\n",
    "\n",
    "student_grade = udf(determine_grade, StringType())\n",
    "grade_DF = df_students.withColumn(\"Grade\", student_grade(\"GPA\"))\n",
    "grade_DF.show()"
   ]
  },
  {
   "cell_type": "code",
   "execution_count": 10,
   "metadata": {},
   "outputs": [
    {
     "name": "stdout",
     "output_type": "stream",
     "text": [
      "+----------+-----------------+------------+-----+\n",
      "|Student_ID|     Student_Name|Phone_Number|Grade|\n",
      "+----------+-----------------+------------+-----+\n",
      "|       301|    Mary Waggoner|919-779-7459|    A|\n",
      "|       102|    Arthur Weller|940-696-4542|    A|\n",
      "|       203| Jessica Reynolds|901-691-3881|    D|\n",
      "|       104|    Marc  Vasquez|573-243-2353|    C|\n",
      "|       205|    Dylan  Gordon|727-489-8843|    A|\n",
      "|       126|       Brad Cronk|415-989-2003|    B|\n",
      "|       187|    steve Francis|517-973-8962|    A|\n",
      "|       138|     John  Hughes|662-370-6063|    C|\n",
      "|       199| Kathryn N. Jones|612-304-6827|    B|\n",
      "|       209|      John  Smith|812-463-0040|    B|\n",
      "|       219|   Nathan Bennett|812-275-0880|    B|\n",
      "+----------+-----------------+------------+-----+\n",
      "\n"
     ]
    }
   ],
   "source": [
    "# Register the DataFrame as a SQL temporary view\n",
    "\n",
    "grade_DF.createOrReplaceTempView(\"score\") \n",
    "\n",
    "#Select columns to display\n",
    "sqlDF = spark.sql(\"SELECT Student_ID,Student_Name,Phone_Number,Grade  FROM score\") \n",
    "sqlDF.show() \n"
   ]
  },
  {
   "cell_type": "code",
   "execution_count": null,
   "metadata": {},
   "outputs": [],
   "source": []
  }
 ],
 "metadata": {
  "kernelspec": {
   "display_name": "Python 3",
   "language": "python",
   "name": "python3"
  },
  "language_info": {
   "codemirror_mode": {
    "name": "ipython",
    "version": 3
   },
   "file_extension": ".py",
   "mimetype": "text/x-python",
   "name": "python",
   "nbconvert_exporter": "python",
   "pygments_lexer": "ipython3",
   "version": "3.7.3"
  }
 },
 "nbformat": 4,
 "nbformat_minor": 2
}
