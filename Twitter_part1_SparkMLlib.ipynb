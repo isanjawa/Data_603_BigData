{
 "cells": [
  {
   "cell_type": "code",
   "execution_count": null,
   "metadata": {},
   "outputs": [],
   "source": []
  },
  {
   "cell_type": "code",
   "execution_count": 1,
   "metadata": {
    "scrolled": true
   },
   "outputs": [
    {
     "name": "stdout",
     "output_type": "stream",
     "text": [
      "Requirement already satisfied: tweepy in c:\\programdata\\anaconda3\\lib\\site-packages (3.8.0)\n",
      "Requirement already satisfied: requests>=2.11.1 in c:\\users\\isanj\\appdata\\roaming\\python\\python37\\site-packages (from tweepy) (2.25.0)\n",
      "Requirement already satisfied: six>=1.10.0 in c:\\programdata\\anaconda3\\lib\\site-packages (from tweepy) (1.12.0)\n",
      "Requirement already satisfied: PySocks>=1.5.7 in c:\\programdata\\anaconda3\\lib\\site-packages (from tweepy) (1.6.8)\n",
      "Requirement already satisfied: requests-oauthlib>=0.7.0 in c:\\programdata\\anaconda3\\lib\\site-packages (from tweepy) (1.3.0)\n",
      "Requirement already satisfied: urllib3<1.27,>=1.21.1 in c:\\programdata\\anaconda3\\lib\\site-packages (from requests>=2.11.1->tweepy) (1.24.1)\n",
      "Requirement already satisfied: idna<3,>=2.5 in c:\\programdata\\anaconda3\\lib\\site-packages (from requests>=2.11.1->tweepy) (2.8)\n",
      "Requirement already satisfied: certifi>=2017.4.17 in c:\\programdata\\anaconda3\\lib\\site-packages (from requests>=2.11.1->tweepy) (2019.3.9)\n",
      "Requirement already satisfied: chardet<4,>=3.0.2 in c:\\programdata\\anaconda3\\lib\\site-packages (from requests>=2.11.1->tweepy) (3.0.4)\n",
      "Requirement already satisfied: oauthlib>=3.0.0 in c:\\programdata\\anaconda3\\lib\\site-packages (from requests-oauthlib>=0.7.0->tweepy) (3.1.0)\n"
     ]
    },
    {
     "name": "stderr",
     "output_type": "stream",
     "text": [
      "WARNING: pip is being invoked by an old script wrapper. This will fail in a future version of pip.\n",
      "Please see https://github.com/pypa/pip/issues/5599 for advice on fixing the underlying issue.\n",
      "To avoid this problem you can invoke Python with '-m pip' instead of running pip directly.\n"
     ]
    }
   ],
   "source": [
    "!pip install tweepy"
   ]
  },
  {
   "cell_type": "code",
   "execution_count": 2,
   "metadata": {},
   "outputs": [],
   "source": [
    "# import tweepy\n",
    "# import json\n",
    "\n",
    "# # TWEETER CREDENTIALS\n",
    "\n",
    "# API_KEY = 'YWQbWFHo6P7HNpIEtu1E2wuF8'\n",
    "# API_SECRET_KEY = 'MZee1HeHy8uylAf6lblmQm1f75VVWCFZzMfbcnqaoDY9iREtZ9'\n",
    "# ACCESS_TOKEN = '1268045743941652480-LhmH5i4doXqZHWkNcGWdMzc0Fc0bS2'\n",
    "# ACCESS_TOKEN_SECRET = 'dQFnjNt7eg8vsrdA4hbcy9DokYbA3Vk3VKgGpkeysvaYG'\n",
    "\n",
    "\n",
    "\n",
    "# # Create a stream listener\n",
    "\n",
    "# class MaxListener(tweepy.StreamListener):\n",
    "    \n",
    "#     def on_data(self, raw_data):\n",
    "#         self.process_data(raw_data)\n",
    "        \n",
    "#         return True\n",
    "    \n",
    "#     def process_data(self, data):\n",
    "#         msg = json.loads(data)\n",
    "#         print(msg['text'].encode('utf-8'))\n",
    "    \n",
    "        \n",
    "#     def on_error(self, status_code):\n",
    "#         print(status_code)\n",
    "#         return True\n",
    "            \n",
    "\n",
    "# # Create a stream\n",
    "\n",
    "# class MaxStream():\n",
    "    \n",
    "#     def __init__(self, auth, listener):\n",
    "#         self.stream = tweepy.Stream(auth=auth, listener=listener)\n",
    "        \n",
    "#     def start(self, keyword_list):\n",
    "#         self.stream.filter(track=keyword_list)\n",
    "        \n",
    "\n",
    "# # Start a stream\n",
    "\n",
    "# if __name__ == \"__main__\":\n",
    "#     listener = MaxListener()\n",
    "#     auth = tweepy.OAuthHandler(API_KEY, API_SECRET_KEY)\n",
    "#     auth.set_access_token(ACCESS_TOKEN, ACCESS_TOKEN_SECRET)\n",
    "    \n",
    "#     stream = MaxStream(auth, listener)\n",
    "#     stream.start(['trump'])\n",
    "    \n",
    "\n",
    "    #####This just read the Tweet."
   ]
  },
  {
   "cell_type": "code",
   "execution_count": 3,
   "metadata": {},
   "outputs": [],
   "source": [
    "import tweepy\n",
    "from tweepy import OAuthHandler\n",
    "from tweepy import Stream\n",
    "from tweepy.streaming import StreamListener\n",
    "\n",
    "import socket\n",
    "import json\n",
    "\n",
    "# TWEETER CREDENTIALS\n",
    "\n",
    "API_KEY = 'YWQbWFHo6P7HNpIEtu1E2wuF8'\n",
    "API_SECRET_KEY = 'MZee1HeHy8uylAf6lblmQm1f75VVWCFZzMfbcnqaoDY9iREtZ9'\n",
    "ACCESS_TOKEN = '1268045743941652480-LhmH5i4doXqZHWkNcGWdMzc0Fc0bS2'\n",
    "ACCESS_TOKEN_SECRET = 'dQFnjNt7eg8vsrdA4hbcy9DokYbA3Vk3VKgGpkeysvaYG'\n",
    "\n",
    "\n",
    "\n",
    "# Create a stream listener\n",
    "\n",
    "class TweetsListener(StreamListener):\n",
    "    \n",
    "    def __init__(self, csocket):\n",
    "        self.client_socket = csocket\n",
    "    \n",
    "    def on_data(self, data):\n",
    "        try:\n",
    "            msg = json.loads(data)\n",
    "            encoded_msg = msg['text'].encode('utf-8')\n",
    "            print(encoded_msg)\n",
    "#             print(msg['user']['name'].encode('utf-8'))\n",
    "#             print(msg['hashtag'].encode('utf-8'))\n",
    "            self.client_socket.send(encoded_msg)\n",
    "            return True\n",
    "        except BaseException as e:\n",
    "            print(\"Error on_data: %s\" % str(e))\n",
    "        return True\n",
    "    \n",
    "    def process_data(self, raw_data):\n",
    "        print(raw_data)\n",
    "        \n",
    "    def on_error(self, status_code):\n",
    "        print(status_code)\n",
    "        return True\n",
    "\n",
    "    \n",
    "def sendData(c_socket):\n",
    "    auth = OAuthHandler(API_KEY, API_SECRET_KEY)\n",
    "    auth.set_access_token(ACCESS_TOKEN, ACCESS_TOKEN_SECRET)\n",
    "    twitter_stream = Stream(auth, TweetsListener(c_socket))\n",
    "    #twitter_stream.filter(track=['UMBC'])\n",
    "    twitter_stream.filter(track=['JFK airport'])\n",
    "\n",
    "\n",
    "\n"
   ]
  },
  {
   "cell_type": "code",
   "execution_count": null,
   "metadata": {},
   "outputs": [
    {
     "name": "stdout",
     "output_type": "stream",
     "text": [
      "Listener on port: 9000\n"
     ]
    }
   ],
   "source": [
    "s = socket.socket()\n",
    "host = '127.0.0.1'\n",
    "port = 9000\n",
    "s.bind((host, port))\n",
    "print(\"Listener on port: %s\" % str(port))\n"
   ]
  },
  {
   "cell_type": "code",
   "execution_count": null,
   "metadata": {},
   "outputs": [
    {
     "name": "stdout",
     "output_type": "stream",
     "text": [
      "Received request from: ('127.0.0.1', 64472)\n"
     ]
    }
   ],
   "source": [
    "s.listen(5)\n",
    "c, addr = s.accept()\n",
    "print(\"Received request from: \" + str(addr))"
   ]
  },
  {
   "cell_type": "code",
   "execution_count": null,
   "metadata": {},
   "outputs": [],
   "source": [
    "sendData(c)"
   ]
  },
  {
   "cell_type": "code",
   "execution_count": null,
   "metadata": {},
   "outputs": [],
   "source": []
  }
 ],
 "metadata": {
  "kernelspec": {
   "display_name": "Python 3",
   "language": "python",
   "name": "python3"
  },
  "language_info": {
   "codemirror_mode": {
    "name": "ipython",
    "version": 3
   },
   "file_extension": ".py",
   "mimetype": "text/x-python",
   "name": "python",
   "nbconvert_exporter": "python",
   "pygments_lexer": "ipython3",
   "version": "3.7.3"
  }
 },
 "nbformat": 4,
 "nbformat_minor": 2
}
