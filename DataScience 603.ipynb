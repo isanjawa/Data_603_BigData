{
 "cells": [
  {
   "cell_type": "code",
   "execution_count": 1,
   "metadata": {},
   "outputs": [
    {
     "data": {
      "text/html": [
       "\n",
       "            <div>\n",
       "                <p><b>SparkSession - hive</b></p>\n",
       "                \n",
       "        <div>\n",
       "            <p><b>SparkContext</b></p>\n",
       "\n",
       "            <p><a href=\"http://10.172.238.238:40937\">Spark UI</a></p>\n",
       "\n",
       "            <dl>\n",
       "              <dt>Version</dt>\n",
       "                <dd><code>v2.4.5</code></dd>\n",
       "              <dt>Master</dt>\n",
       "                <dd><code>local[8]</code></dd>\n",
       "              <dt>AppName</dt>\n",
       "                <dd><code>Databricks Shell</code></dd>\n",
       "            </dl>\n",
       "        </div>\n",
       "        \n",
       "            </div>\n",
       "        "
      ]
     },
     "metadata": {},
     "output_type": "display_data"
    }
   ],
   "source": [
    "spark\n",
    "\n",
    "# I've already created the SparkContext as sc here, so I can call it as sc"
   ]
  },
  {
   "cell_type": "code",
   "execution_count": 2,
   "metadata": {},
   "outputs": [
    {
     "data": {
      "text/html": [
       "<style scoped>\n",
       "  .ansiout {\n",
       "    display: block;\n",
       "    unicode-bidi: embed;\n",
       "    white-space: pre-wrap;\n",
       "    word-wrap: break-word;\n",
       "    word-break: break-all;\n",
       "    font-family: \"Source Code Pro\", \"Menlo\", monospace;;\n",
       "    font-size: 13px;\n",
       "    color: #555;\n",
       "    margin-left: 4px;\n",
       "    line-height: 19px;\n",
       "  }\n",
       "</style>\n",
       "<div class=\"ansiout\">Out[10]: (13, 4)</div>"
      ]
     },
     "metadata": {},
     "output_type": "display_data"
    }
   ],
   "source": [
    "# Homework #6\n",
    "\n",
    "# This actually works. It's the first thing I've ever gotten to work.\n",
    "\n",
    "listRDD = sc.parallelize([1,2,3,4], 2)\n",
    "seqOp = (lambda local_result, list_element: (local_result[0] + list_element, local_result[1] + 1))\n",
    "combOp = (lambda some_local_result, another_local_result: (some_local_result[0] + another_local_result[0], some_local_result[1] + another_local_result[1]))\n",
    "\n",
    "listRDD.aggregate((1,0), seqOp, combOp)"
   ]
  },
  {
   "cell_type": "code",
   "execution_count": 3,
   "metadata": {},
   "outputs": [
    {
     "data": {
      "text/html": [
       "<style scoped>\n",
       "  .ansiout {\n",
       "    display: block;\n",
       "    unicode-bidi: embed;\n",
       "    white-space: pre-wrap;\n",
       "    word-wrap: break-word;\n",
       "    word-break: break-all;\n",
       "    font-family: \"Source Code Pro\", \"Menlo\", monospace;;\n",
       "    font-size: 13px;\n",
       "    color: #555;\n",
       "    margin-left: 4px;\n",
       "    line-height: 19px;\n",
       "  }\n",
       "</style>\n",
       "<div class=\"ansiout\">Out[5]: (16, 4)</div>"
      ]
     },
     "metadata": {},
     "output_type": "display_data"
    }
   ],
   "source": [
    "listRDD.aggregate((2,0), seqOp, combOp)"
   ]
  },
  {
   "cell_type": "code",
   "execution_count": 4,
   "metadata": {},
   "outputs": [
    {
     "data": {
      "text/html": [
       "<style scoped>\n",
       "  .ansiout {\n",
       "    display: block;\n",
       "    unicode-bidi: embed;\n",
       "    white-space: pre-wrap;\n",
       "    word-wrap: break-word;\n",
       "    word-break: break-all;\n",
       "    font-family: \"Source Code Pro\", \"Menlo\", monospace;;\n",
       "    font-size: 13px;\n",
       "    color: #555;\n",
       "    margin-left: 4px;\n",
       "    line-height: 19px;\n",
       "  }\n",
       "</style>\n",
       "<div class=\"ansiout\">Out[6]: [&#39;Applied Data Science&#39;,\n",
       " &#39;Ian Langmore Daniel Krasner&#39;,\n",
       " &#39;2&#39;,\n",
       " &#39;Contents&#39;,\n",
       " &#39;I Programming Prerequisites 1&#39;,\n",
       " &#39;1 Unix 2&#39;,\n",
       " &#39;1.1 History and Culture . . . . . . . . . . . . . . . . . . . . . . . 2&#39;,\n",
       " &#39;1.2 The Shell . . . . . . . . . . . . . . . . . . . . . . . . . . . . . 3&#39;,\n",
       " &#39;1.3 Streams . . . . . . . . . . . . . . . . . . . . . . . . . . . . . . 5&#39;,\n",
       " &#39;1.3.1 Standard streams . . . . . . . . . . . . . . . . . . . . . 6&#39;]</div>"
      ]
     },
     "metadata": {},
     "output_type": "display_data"
    }
   ],
   "source": [
    "# Week 6 Question 3\n",
    "# Reading a text file just requires that you flip around the slashes?  Thanks!\n",
    "# The KEY to this entire thing is that you have to read whatever file you're working with into the DBFS. You can't just read from elsewhere.\n",
    "\n",
    "ads_RDD = sc.textFile(\"/FileStore/tables/Applied_Data_Science.txt\")\n",
    "# This shows me the first 10 lines of text in the book\n",
    "ads_RDD.take(10)"
   ]
  },
  {
   "cell_type": "code",
   "execution_count": 5,
   "metadata": {},
   "outputs": [
    {
     "data": {
      "text/html": [
       "<style scoped>\n",
       "  .ansiout {\n",
       "    display: block;\n",
       "    unicode-bidi: embed;\n",
       "    white-space: pre-wrap;\n",
       "    word-wrap: break-word;\n",
       "    word-break: break-all;\n",
       "    font-family: \"Source Code Pro\", \"Menlo\", monospace;;\n",
       "    font-size: 13px;\n",
       "    color: #555;\n",
       "    margin-left: 4px;\n",
       "    line-height: 19px;\n",
       "  }\n",
       "</style>\n",
       "<div class=\"ansiout\">Number of partitions (workers) storing the dataset = 2\n",
       "</div>"
      ]
     },
     "metadata": {},
     "output_type": "display_data"
    }
   ],
   "source": [
    "# Step 2: Inspect the number of partitions (workers) used to store the dataset\n",
    "numPartitions = ads_RDD.getNumPartitions()\n",
    "print(\"Number of partitions (workers) storing the dataset = %d\"%numPartitions)\n"
   ]
  },
  {
   "cell_type": "code",
   "execution_count": 6,
   "metadata": {},
   "outputs": [
    {
     "data": {
      "text/html": [
       "<style scoped>\n",
       "  .ansiout {\n",
       "    display: block;\n",
       "    unicode-bidi: embed;\n",
       "    white-space: pre-wrap;\n",
       "    word-wrap: break-word;\n",
       "    word-break: break-all;\n",
       "    font-family: \"Source Code Pro\", \"Menlo\", monospace;;\n",
       "    font-size: 13px;\n",
       "    color: #555;\n",
       "    margin-left: 4px;\n",
       "    line-height: 19px;\n",
       "  }\n",
       "</style>\n",
       "<div class=\"ansiout\">Out[8]: [(&#39;applied&#39;, 2),\n",
       " (&#39;science&#39;, 9),\n",
       " (&#39;krasner&#39;, 1),\n",
       " (&#39;contents&#39;, 9),\n",
       " (&#39;programming&#39;, 8),\n",
       " (&#39;streams&#39;, 12),\n",
       " (&#39;philosophy&#39;, 6),\n",
       " (&#39;version&#39;, 21),\n",
       " (&#39;online&#39;, 2),\n",
       " (&#39;concepts&#39;, 6)]</div>"
      ]
     },
     "metadata": {},
     "output_type": "display_data"
    }
   ],
   "source": [
    "# Step 3: Split each line into a list of words separated by a space from the dataset\n",
    "# Here I did it in several steps because I don't seem to be able to chain them.\n",
    "\n",
    "# def remove_punc(x):\n",
    "#   punc = '!\"#$%^,:;<=>?@[\\]^_~\"'\n",
    "#   for ch in punc:\n",
    "#       x = ch.replace(ch, '')\n",
    "#   return x\n",
    "\n",
    "# no_punc = ads_RDD.map(remove_punc)\n",
    "# This isn't right.\n",
    "# ads_RDD.map(lambda w: w.translate(None, string.punctuation))\n",
    "\n",
    "words = ads_RDD.flatMap(lambda w: w.split(' ')).map(lambda x: x.lower())\n",
    "# words.take(10)\n",
    "\n",
    "# Step 4: Just get the words I want.\n",
    "# In the web example, they eliminate stopwords by defining a list and then keeping the words not in the list.\n",
    "\n",
    "long_words = words.filter(lambda x: len(x) > 5)\n",
    "# long_words.take(10)\n",
    "\n",
    "# Step 5: Transform filtered words into list of (word, 1) tuples for WordCount\n",
    "\n",
    "word1_tuples = long_words.map(lambda w: (w, 1)) # This maps the words into (word, 1) tuples\n",
    "# word1_tuples.take(10)\n",
    "\n",
    "# Step 6: AGGREGATE the (word, 1) tuples into (word, count) tuples\n",
    "\n",
    "word_count_tuples = word1_tuples.reduceByKey(lambda x, y: x + y)\n",
    "word_count_tuples.take(10)"
   ]
  },
  {
   "cell_type": "code",
   "execution_count": 7,
   "metadata": {},
   "outputs": [
    {
     "data": {
      "text/html": [
       "<style scoped>\n",
       "  .ansiout {\n",
       "    display: block;\n",
       "    unicode-bidi: embed;\n",
       "    white-space: pre-wrap;\n",
       "    word-wrap: break-word;\n",
       "    word-break: break-all;\n",
       "    font-family: \"Source Code Pro\", \"Menlo\", monospace;;\n",
       "    font-size: 13px;\n",
       "    color: #555;\n",
       "    margin-left: 4px;\n",
       "    line-height: 19px;\n",
       "  }\n",
       "</style>\n",
       "<div class=\"ansiout\"></div>"
      ]
     },
     "metadata": {},
     "output_type": "display_data"
    }
   ],
   "source": [
    "# this gives me the list in ascending order. Can I get it in descending order?\n",
    "top5 = word_count_tuples.takeOrdered(5, key = lambda x: -x[1])"
   ]
  },
  {
   "cell_type": "code",
   "execution_count": 8,
   "metadata": {},
   "outputs": [
    {
     "data": {
      "text/html": [
       "<style scoped>\n",
       "  .ansiout {\n",
       "    display: block;\n",
       "    unicode-bidi: embed;\n",
       "    white-space: pre-wrap;\n",
       "    word-wrap: break-word;\n",
       "    word-break: break-all;\n",
       "    font-family: \"Source Code Pro\", \"Menlo\", monospace;;\n",
       "    font-size: 13px;\n",
       "    color: #555;\n",
       "    margin-left: 4px;\n",
       "    line-height: 19px;\n",
       "  }\n",
       "</style>\n",
       "<div class=\"ansiout\">The most used words in the Applied Data Science textbook are:\n",
       "  python occurred 88 times\n",
       "  chapter occurred 76 times\n",
       "  regression occurred 65 times\n",
       "  number occurred 63 times\n",
       "  function occurred 57 times\n",
       "</div>"
      ]
     },
     "metadata": {},
     "output_type": "display_data"
    }
   ],
   "source": [
    "print('The most used words in the Applied Data Science textbook are:')\n",
    "for s in top5:\n",
    "  print('  '+s[0]+' occurred '+str(s[1])+' times')"
   ]
  },
  {
   "cell_type": "code",
   "execution_count": 9,
   "metadata": {},
   "outputs": [
    {
     "data": {
      "text/html": [
       "<style scoped>\n",
       "  .ansiout {\n",
       "    display: block;\n",
       "    unicode-bidi: embed;\n",
       "    white-space: pre-wrap;\n",
       "    word-wrap: break-word;\n",
       "    word-break: break-all;\n",
       "    font-family: \"Source Code Pro\", \"Menlo\", monospace;;\n",
       "    font-size: 13px;\n",
       "    color: #555;\n",
       "    margin-left: 4px;\n",
       "    line-height: 19px;\n",
       "  }\n",
       "</style>\n",
       "<div class=\"ansiout\">Out[11]: [(&#39;Maryland&#39;, (5, 2)), (&#39;Delaware&#39;, (2, 2)), (&#39;Virginia&#39;, (5, 1))]</div>"
      ]
     },
     "metadata": {},
     "output_type": "display_data"
    }
   ],
   "source": [
    "# Homework 7, Question 4 about CombineByKey\n",
    "\n",
    "data = sc.parallelize( [('Maryland', 2), ('Virginia', 5), ('Delaware', 1), ('Maryland', 3), ('Delaware', 1)], 2 )\n",
    "\n",
    "step1 = data.groupByKey().mapValues(lambda x: list(x)).collect()\n",
    "\n",
    "sumCount = data.combineByKey(lambda value: (value, 1),\n",
    "                             lambda x, value: (x[0] + value, x[1] + 1),\n",
    "                             lambda x, y: (x[0] + y[0], x[1] + y[1]))\n",
    "\n",
    "\n",
    "sumCount.take(10)\n",
    "# averageByKey = sumCount.map(lambda (label, (value_sum, count)): (label, value_sum / count))\n",
    "\n",
    "# # print(averageByKey.collectAsMap())"
   ]
  },
  {
   "cell_type": "code",
   "execution_count": 10,
   "metadata": {},
   "outputs": [
    {
     "data": {
      "text/html": [
       "<style scoped>\n",
       "  .ansiout {\n",
       "    display: block;\n",
       "    unicode-bidi: embed;\n",
       "    white-space: pre-wrap;\n",
       "    word-wrap: break-word;\n",
       "    word-break: break-all;\n",
       "    font-family: \"Source Code Pro\", \"Menlo\", monospace;;\n",
       "    font-size: 13px;\n",
       "    color: #555;\n",
       "    margin-left: 4px;\n",
       "    line-height: 19px;\n",
       "  }\n",
       "</style>\n",
       "<div class=\"ansiout\">[(&#39;Maryland&#39;, [2, 3]), (&#39;Delaware&#39;, [1, 1]), (&#39;Virginia&#39;, [5])]\n",
       "</div>"
      ]
     },
     "metadata": {},
     "output_type": "display_data"
    }
   ],
   "source": [
    "print(step1)"
   ]
  },
  {
   "cell_type": "code",
   "execution_count": 11,
   "metadata": {},
   "outputs": [
    {
     "data": {
      "text/html": [
       "<style scoped>\n",
       "  .ansiout {\n",
       "    display: block;\n",
       "    unicode-bidi: embed;\n",
       "    white-space: pre-wrap;\n",
       "    word-wrap: break-word;\n",
       "    word-break: break-all;\n",
       "    font-family: \"Source Code Pro\", \"Menlo\", monospace;;\n",
       "    font-size: 13px;\n",
       "    color: #555;\n",
       "    margin-left: 4px;\n",
       "    line-height: 19px;\n",
       "  }\n",
       "</style>\n",
       "<div class=\"ansiout\"></div>"
      ]
     },
     "metadata": {},
     "output_type": "display_data"
    }
   ],
   "source": [
    "# Homework #6 Question 2\n",
    "\n",
    "# Write a Spark program that reads your browser history file, then displays the top 5 websites you visited in the last week.\n",
    "\n",
    "web_history = sc.textFile(\"/FileStore/tables/web_history.json\")\n"
   ]
  },
  {
   "cell_type": "code",
   "execution_count": 12,
   "metadata": {},
   "outputs": [
    {
     "data": {
      "text/html": [
       "<style scoped>\n",
       "  .ansiout {\n",
       "    display: block;\n",
       "    unicode-bidi: embed;\n",
       "    white-space: pre-wrap;\n",
       "    word-wrap: break-word;\n",
       "    word-break: break-all;\n",
       "    font-family: \"Source Code Pro\", \"Menlo\", monospace;;\n",
       "    font-size: 13px;\n",
       "    color: #555;\n",
       "    margin-left: 4px;\n",
       "    line-height: 19px;\n",
       "  }\n",
       "</style>\n",
       "<div class=\"ansiout\">Out[14]: [&#39;[{&#39;,\n",
       " &#39;\\t&#34;id&#34;: 72464,&#39;,\n",
       " &#39;\\t&#34;title&#34;: &#34;Add &amp; open Chrome apps - Chrome Web Store Help&#34;,&#39;,\n",
       " &#39;\\t&#34;url&#34;: &#34;https://support.google.com/chrome_webstore/answer/3060053?hl=en&#34;,&#39;,\n",
       " &#39;\\t&#34;lastVisitTimeLocal&#34;: &#34;6/25/2020, 2:38:24 PM&#34;,&#39;,\n",
       " &#39;\\t&#34;lastVisitTimeUTC&#34;: &#34;2020-06-25T18:38:24.974Z&#34;,&#39;,\n",
       " &#39;\\t&#34;typedCount&#34;: 0,&#39;,\n",
       " &#39;\\t&#34;visitCount&#34;: 1&#39;,\n",
       " &#39;},{&#39;,\n",
       " &#39;\\t&#34;id&#34;: 72463,&#39;,\n",
       " &#39;\\t&#34;title&#34;: &#34;how do i open something i downloaded from the chrome web store - Google Search&#34;,&#39;,\n",
       " &#39;\\t&#34;url&#34;: &#34;https://www.google.com/search?q=how+do+i+open+something+i+downloaded+from+the+chrome+web+store&amp;oq=how+do+i+open+something+i+downloaded+from+the+chrome+web+sto&amp;aqs=chrome.1.69i57j33.15382j1j4&amp;sourceid=chrome&amp;ie=UTF-8&#34;,&#39;,\n",
       " &#39;\\t&#34;lastVisitTimeLocal&#34;: &#34;6/25/2020, 2:38:18 PM&#34;,&#39;,\n",
       " &#39;\\t&#34;lastVisitTimeUTC&#34;: &#34;2020-06-25T18:38:18.902Z&#34;,&#39;,\n",
       " &#39;\\t&#34;typedCount&#34;: 0,&#39;,\n",
       " &#39;\\t&#34;visitCount&#34;: 2&#39;,\n",
       " &#39;},{&#39;,\n",
       " &#39;\\t&#34;id&#34;: 72462,&#39;,\n",
       " &#39;\\t&#34;title&#34;: &#34;Export History/Bookmarks to JSON/CSV*/XLS* - Chrome Web Store&#34;,&#39;,\n",
       " &#39;\\t&#34;url&#34;: &#34;https://chrome.google.com/webstore/detail/export-historybookmarks-t/dcoegfodcnjofhjfbhegcgjgapeichlf?hl=en-US&amp;authuser=1&#34;,&#39;,\n",
       " &#39;\\t&#34;lastVisitTimeLocal&#34;: &#34;6/25/2020, 2:37:52 PM&#34;,&#39;,\n",
       " &#39;\\t&#34;lastVisitTimeUTC&#34;: &#34;2020-06-25T18:37:52.690Z&#34;,&#39;,\n",
       " &#39;\\t&#34;typedCount&#34;: 0,&#39;,\n",
       " &#39;\\t&#34;visitCount&#34;: 1&#39;,\n",
       " &#39;},{&#39;,\n",
       " &#39;\\t&#34;id&#34;: 72455,&#39;,\n",
       " &#39;\\t&#34;title&#34;: &#34;json-xls.com - json/xml to excel/CSV/html online converter and viewer&#34;,&#39;,\n",
       " &#39;\\t&#34;url&#34;: &#34;http://www.json-xls.com/&#34;,&#39;,\n",
       " &#39;\\t&#34;lastVisitTimeLocal&#34;: &#34;6/25/2020, 2:37:40 PM&#34;,&#39;,\n",
       " &#39;\\t&#34;lastVisitTimeUTC&#34;: &#34;2020-06-25T18:37:40.245Z&#34;,&#39;,\n",
       " &#39;\\t&#34;typedCount&#34;: 0,&#39;,\n",
       " &#39;\\t&#34;visitCount&#34;: 4&#39;,\n",
       " &#39;},{&#39;,\n",
       " &#39;\\t&#34;id&#34;: 72461,&#39;,\n",
       " &#39;\\t&#34;title&#34;: &#34;json-xls.com - Statistics&#34;,&#39;,\n",
       " &#39;\\t&#34;url&#34;: &#34;http://www.json-xls.com/statistics&#34;,&#39;,\n",
       " &#39;\\t&#34;lastVisitTimeLocal&#34;: &#34;6/25/2020, 2:37:06 PM&#34;,&#39;,\n",
       " &#39;\\t&#34;lastVisitTimeUTC&#34;: &#34;2020-06-25T18:37:06.834Z&#34;,&#39;,\n",
       " &#39;\\t&#34;typedCount&#34;: 0,&#39;,\n",
       " &#39;\\t&#34;visitCount&#34;: 1&#39;,\n",
       " &#39;},{&#39;,\n",
       " &#39;\\t&#34;id&#34;: 72460,&#39;,\n",
       " &#39;\\t&#34;title&#34;: &#34;json-xls.com&#34;,&#39;,\n",
       " &#39;\\t&#34;url&#34;: &#34;http://www.json-xls.com/api&#34;,&#39;,\n",
       " &#39;\\t&#34;lastVisitTimeLocal&#34;: &#34;6/25/2020, 2:37:06 PM&#34;,&#39;,\n",
       " &#39;\\t&#34;lastVisitTimeUTC&#34;: &#34;2020-06-25T18:37:06.052Z&#34;,&#39;,\n",
       " &#39;\\t&#34;typedCount&#34;: 0,&#39;,\n",
       " &#39;\\t&#34;visitCount&#34;: 1&#39;,\n",
       " &#39;},{&#39;,\n",
       " &#39;\\t&#34;id&#34;: 72459,&#39;,\n",
       " &#39;\\t&#34;title&#34;: &#34;json-xls.com - JSON Viewer&#34;,&#39;,\n",
       " &#39;\\t&#34;url&#34;: &#34;http://www.json-xls.com/json-viewer&#34;,&#39;,\n",
       " &#39;\\t&#34;lastVisitTimeLocal&#34;: &#34;6/25/2020, 2:37:01 PM&#34;,&#39;,\n",
       " &#39;\\t&#34;lastVisitTimeUTC&#34;: &#34;2020-06-25T18:37:01.652Z&#34;,&#39;,\n",
       " &#39;\\t&#34;typedCount&#34;: 0,&#39;,\n",
       " &#39;\\t&#34;visitCount&#34;: 1&#39;,\n",
       " &#39;},{&#39;,\n",
       " &#39;\\t&#34;id&#34;: 72458,&#39;,\n",
       " &#39;\\t&#34;title&#34;: &#34;Can Chrome browser history be exported to an HTML file? - Super User&#34;,&#39;,\n",
       " &#39;\\t&#34;url&#34;: &#34;https://superuser.com/questions/602252/can-chrome-browser-history-be-exported-to-an-html-file&#34;,&#39;,\n",
       " &#39;\\t&#34;lastVisitTimeLocal&#34;: &#34;6/25/2020, 2:34:01 PM&#34;,&#39;,\n",
       " &#39;\\t&#34;lastVisitTimeUTC&#34;: &#34;2020-06-25T18:34:01.579Z&#34;,&#39;,\n",
       " &#39;\\t&#34;typedCount&#34;: 0,&#39;,\n",
       " &#39;\\t&#34;visitCount&#34;: 1&#39;,\n",
       " &#39;},{&#39;,\n",
       " &#39;\\t&#34;id&#34;: 72457,&#39;,\n",
       " &#39;\\t&#34;title&#34;: &#34;how to use Export History/Bookmarks to JSON/CSV*/XLS* - Google Search&#34;,&#39;,\n",
       " &#39;\\t&#34;url&#34;: &#34;https://www.google.com/search?ei=FLr0XoDuH_-HytMPo9O_2AU&amp;q=how+to+use+Export+History%2FBookmarks+to+JSON%2FCSV*%2FXLS*&amp;oq=how+to+use+Export+History%2FBookmarks+to+JSON%2FCSV*%2FXLS*&amp;gs_lcp=CgZwc3ktYWIQAzIFCAAQzQI6BQgAEJECOgUIABCxAzoECAAQQzoFCAAQgwE6AggAUNcNWP4ZYN4eaABwAHgAgAF3iAHoBpIBBDEwLjKYAQCgAQGgAQKqAQdnd3Mtd2l6&amp;sclient=psy-ab&amp;ved=0ahUKEwiAyO7im53qAhX_g3IEHaPpD1sQ4dUDCAw&amp;uact=5&#34;,&#39;,\n",
       " &#39;\\t&#34;lastVisitTimeLocal&#34;: &#34;6/25/2020, 2:33:54 PM&#34;,&#39;,\n",
       " &#39;\\t&#34;lastVisitTimeUTC&#34;: &#34;2020-06-25T18:33:54.128Z&#34;,&#39;,\n",
       " &#39;\\t&#34;typedCount&#34;: 0,&#39;,\n",
       " &#39;\\t&#34;visitCount&#34;: 2&#39;,\n",
       " &#39;},{&#39;,\n",
       " &#39;\\t&#34;id&#34;: 72448,&#39;,\n",
       " &#39;\\t&#34;title&#34;: &#34;export history/bookmarks to json/csv*/xls* - Google Search&#34;,&#39;,\n",
       " &#39;\\t&#34;url&#34;: &#34;https://www.google.com/search?q=export+history%2Fbookmarks+to+json%2Fcsv*%2Fxls*&amp;oq=export+histor%2Fbookmarks+to+json&amp;aqs=chrome.1.69i57j0l2.7315j1j4&amp;sourceid=chrome&amp;ie=UTF-8&#34;,&#39;,\n",
       " &#39;\\t&#34;lastVisitTimeLocal&#34;: &#34;6/25/2020, 2:33:48 PM&#34;,&#39;,\n",
       " &#39;\\t&#34;lastVisitTimeUTC&#34;: &#34;2020-06-25T18:33:48.506Z&#34;,&#39;,\n",
       " &#39;\\t&#34;typedCount&#34;: 0,&#39;,\n",
       " &#39;\\t&#34;visitCount&#34;: 4&#39;,\n",
       " &#39;},{&#39;,\n",
       " &#39;\\t&#34;id&#34;: 72453,&#39;,\n",
       " &#39;\\t&#34;title&#34;: &#34;Export History/Bookmarks to JSON/CSV*/XLS* - Chrome Web Store&#34;,&#39;,\n",
       " &#39;\\t&#34;url&#34;: &#34;https://chrome.google.com/webstore/detail/export-historybookmarks-t/dcoegfodcnjofhjfbhegcgjgapeichlf/related?utm_source=www.crx4chrome.com&#34;,&#39;,\n",
       " &#39;\\t&#34;lastVisitTimeLocal&#34;: &#34;6/25/2020, 2:33:33 PM&#34;,&#39;,\n",
       " &#39;\\t&#34;lastVisitTimeUTC&#34;: &#34;2020-06-25T18:33:33.085Z&#34;,&#39;,\n",
       " &#39;\\t&#34;typedCount&#34;: 0,&#39;,\n",
       " &#39;\\t&#34;visitCount&#34;: 2&#39;,\n",
       " &#39;},{&#39;,\n",
       " &#39;\\t&#34;id&#34;: 72456,&#39;,\n",
       " &#39;\\t&#34;title&#34;: &#34;Export History - Chrome Web Store&#34;,&#39;,\n",
       " &#39;\\t&#34;url&#34;: &#34;https://chrome.google.com/webstore/detail/export-history/hcohnnbbiggngobheobhdipbgmcbelhh?utm_source=www.crx4chrome.com&#34;,&#39;,\n",
       " &#39;\\t&#34;lastVisitTimeLocal&#34;: &#34;6/25/2020, 2:33:23 PM&#34;,&#39;,\n",
       " &#39;\\t&#34;lastVisitTimeUTC&#34;: &#34;2020-06-25T18:33:23.374Z&#34;,&#39;,\n",
       " &#39;\\t&#34;typedCount&#34;: 0,&#39;,\n",
       " &#39;\\t&#34;visitCount&#34;: 1&#39;,\n",
       " &#39;},{&#39;,\n",
       " &#39;\\t&#34;id&#34;: 72449,&#39;,\n",
       " &#39;\\t&#34;title&#34;: &#34;Download Export History/Bookmarks to JSON/CSV/XLS 2.2 CRX File for Chrome - Crx4Chrome&#34;,&#39;,\n",
       " &#39;\\t&#34;url&#34;: &#34;https://www.crx4chrome.com/crx/28048/&#34;,&#39;]</div>"
      ]
     },
     "metadata": {},
     "output_type": "display_data"
    }
   ],
   "source": [
    "web_history.take(100)"
   ]
  },
  {
   "cell_type": "code",
   "execution_count": 13,
   "metadata": {},
   "outputs": [
    {
     "data": {
      "text/html": [
       "<style scoped>\n",
       "  .ansiout {\n",
       "    display: block;\n",
       "    unicode-bidi: embed;\n",
       "    white-space: pre-wrap;\n",
       "    word-wrap: break-word;\n",
       "    word-break: break-all;\n",
       "    font-family: \"Source Code Pro\", \"Menlo\", monospace;;\n",
       "    font-size: 13px;\n",
       "    color: #555;\n",
       "    margin-left: 4px;\n",
       "    line-height: 19px;\n",
       "  }\n",
       "</style>\n",
       "<div class=\"ansiout\">+-----+--------------------+--------------------+--------------------+----------+--------------------+----------+\n",
       "   id|  lastVisitTimeLocal|    lastVisitTimeUTC|               title|typedCount|                 url|visitCount|\n",
       "+-----+--------------------+--------------------+--------------------+----------+--------------------+----------+\n",
       "72464|6/25/2020, 2:38:2...|2020-06-25T18:38:...|Add &amp; open Chrome...|         0|https://support.g...|         1|\n",
       "72463|6/25/2020, 2:38:1...|2020-06-25T18:38:...|how do i open som...|         0|https://www.googl...|         2|\n",
       "72462|6/25/2020, 2:37:5...|2020-06-25T18:37:...|Export History/Bo...|         0|https://chrome.go...|         1|\n",
       "72455|6/25/2020, 2:37:4...|2020-06-25T18:37:...|json-xls.com - js...|         0|http://www.json-x...|         4|\n",
       "72461|6/25/2020, 2:37:0...|2020-06-25T18:37:...|json-xls.com - St...|         0|http://www.json-x...|         1|\n",
       "72460|6/25/2020, 2:37:0...|2020-06-25T18:37:...|        json-xls.com|         0|http://www.json-x...|         1|\n",
       "72459|6/25/2020, 2:37:0...|2020-06-25T18:37:...|json-xls.com - JS...|         0|http://www.json-x...|         1|\n",
       "72458|6/25/2020, 2:34:0...|2020-06-25T18:34:...|Can Chrome browse...|         0|https://superuser...|         1|\n",
       "72457|6/25/2020, 2:33:5...|2020-06-25T18:33:...|how to use Export...|         0|https://www.googl...|         2|\n",
       "72448|6/25/2020, 2:33:4...|2020-06-25T18:33:...|export history/bo...|         0|https://www.googl...|         4|\n",
       "72453|6/25/2020, 2:33:3...|2020-06-25T18:33:...|Export History/Bo...|         0|https://chrome.go...|         2|\n",
       "72456|6/25/2020, 2:33:2...|2020-06-25T18:33:...|Export History - ...|         0|https://chrome.go...|         1|\n",
       "72449|6/25/2020, 2:32:1...|2020-06-25T18:32:...|Download Export H...|         0|https://www.crx4c...|         3|\n",
       "72452|6/25/2020, 2:30:4...|2020-06-25T18:30:...|Export History/Bo...|         0|https://chrome.go...|         1|\n",
       "72450|6/25/2020, 2:30:1...|2020-06-25T18:30:...|Export History/Bo...|         0|https://www.crx4c...|         1|\n",
       "72073|6/25/2020, 9:36:2...|2020-06-25T13:36:...|    Citrix Workspace|         0|https://ctxextron...|         4|\n",
       "72070|6/25/2020, 9:30:5...|2020-06-25T13:30:...|    Citrix Workspace|         0|https://ctxextron...|        16|\n",
       "19835|6/25/2020, 8:58:0...|2020-06-25T12:58:...|Inbox (18) - mich...|        16|https://mail.goog...|        79|\n",
       "72447|6/25/2020, 8:57:2...|2020-06-25T12:57:...|Launch Meeting - ...|         0|https://extron.zo...|         1|\n",
       "72071|6/25/2020, 8:57:1...|2020-06-25T12:57:...|    Citrix Workspace|         0|https://ctxextron...|         5|\n",
       "+-----+--------------------+--------------------+--------------------+----------+--------------------+----------+\n",
       "only showing top 20 rows\n",
       "\n",
       "</div>"
      ]
     },
     "metadata": {},
     "output_type": "display_data"
    }
   ],
   "source": [
    "# By making this multiLine = True I was able to read the JSON file\n",
    "\n",
    "path = \"/FileStore/tables/web_history.json\"\n",
    "testDF = spark.read.json(path, multiLine = True)\n",
    "testDF.show()"
   ]
  },
  {
   "cell_type": "code",
   "execution_count": 14,
   "metadata": {},
   "outputs": [
    {
     "data": {
      "text/html": [
       "<style scoped>\n",
       "  .ansiout {\n",
       "    display: block;\n",
       "    unicode-bidi: embed;\n",
       "    white-space: pre-wrap;\n",
       "    word-wrap: break-word;\n",
       "    word-break: break-all;\n",
       "    font-family: \"Source Code Pro\", \"Menlo\", monospace;;\n",
       "    font-size: 13px;\n",
       "    color: #555;\n",
       "    margin-left: 4px;\n",
       "    line-height: 19px;\n",
       "  }\n",
       "</style>\n",
       "<div class=\"ansiout\">+--------------------+----------+\n",
       "                 url|visitCount|\n",
       "+--------------------+----------+\n",
       "https://thechive....|      2591|\n",
       "https://www.washi...|       991|\n",
       "https://mail.goog...|       459|\n",
       "https://my3.my.um...|       309|\n",
       "https://blackboar...|       271|\n",
       "+--------------------+----------+\n",
       "only showing top 5 rows\n",
       "\n",
       "</div>"
      ]
     },
     "metadata": {},
     "output_type": "display_data"
    }
   ],
   "source": [
    "testDF.orderBy('visitCount', ascending = False).select('url', 'visitCount').show(5)"
   ]
  },
  {
   "cell_type": "code",
   "execution_count": 15,
   "metadata": {},
   "outputs": [
    {
     "data": {
      "text/html": [
       "<style scoped>\n",
       "  .ansiout {\n",
       "    display: block;\n",
       "    unicode-bidi: embed;\n",
       "    white-space: pre-wrap;\n",
       "    word-wrap: break-word;\n",
       "    word-break: break-all;\n",
       "    font-family: \"Source Code Pro\", \"Menlo\", monospace;;\n",
       "    font-size: 13px;\n",
       "    color: #555;\n",
       "    margin-left: 4px;\n",
       "    line-height: 19px;\n",
       "  }\n",
       "</style>\n",
       "<div class=\"ansiout\">+--------------------+\n",
       "  lastVisitTimeLocal|\n",
       "+--------------------+\n",
       "6/25/2020, 2:38:2...|\n",
       "6/25/2020, 2:38:1...|\n",
       "6/25/2020, 2:37:5...|\n",
       "6/25/2020, 2:37:4...|\n",
       "6/25/2020, 2:37:0...|\n",
       "6/25/2020, 2:37:0...|\n",
       "6/25/2020, 2:37:0...|\n",
       "6/25/2020, 2:34:0...|\n",
       "6/25/2020, 2:33:5...|\n",
       "6/25/2020, 2:33:4...|\n",
       "6/25/2020, 2:33:3...|\n",
       "6/25/2020, 2:33:2...|\n",
       "6/25/2020, 2:32:1...|\n",
       "6/25/2020, 2:30:4...|\n",
       "6/25/2020, 2:30:1...|\n",
       "6/25/2020, 9:36:2...|\n",
       "6/25/2020, 9:30:5...|\n",
       "6/25/2020, 8:58:0...|\n",
       "6/25/2020, 8:57:2...|\n",
       "6/25/2020, 8:57:1...|\n",
       "+--------------------+\n",
       "only showing top 20 rows\n",
       "\n",
       "</div>"
      ]
     },
     "metadata": {},
     "output_type": "display_data"
    }
   ],
   "source": [
    "# OK.  This seems to resemble the schema that my JSON file has.\n",
    "# Because it's in JSON format, it automatically creates a dataframe.\n",
    "\n",
    "# Now I want to sort by visitCount in descending order\n",
    "\n",
    "testDF.select('lastVisitTimeLocal').show()"
   ]
  },
  {
   "cell_type": "code",
   "execution_count": 16,
   "metadata": {},
   "outputs": [
    {
     "data": {
      "text/html": [
       "<style scoped>\n",
       "  .ansiout {\n",
       "    display: block;\n",
       "    unicode-bidi: embed;\n",
       "    white-space: pre-wrap;\n",
       "    word-wrap: break-word;\n",
       "    word-break: break-all;\n",
       "    font-family: \"Source Code Pro\", \"Menlo\", monospace;;\n",
       "    font-size: 13px;\n",
       "    color: #555;\n",
       "    margin-left: 4px;\n",
       "    line-height: 19px;\n",
       "  }\n",
       "</style>\n",
       "<div class=\"ansiout\">+--------------------+----------+\n",
       "                 url|visitCount|\n",
       "+--------------------+----------+\n",
       "https://thechive....|      2591|\n",
       "https://www.washi...|       991|\n",
       "https://mail.goog...|       459|\n",
       "https://my3.my.um...|       309|\n",
       "https://blackboar...|       271|\n",
       "+--------------------+----------+\n",
       "only showing top 5 rows\n",
       "\n",
       "</div>"
      ]
     },
     "metadata": {},
     "output_type": "display_data"
    }
   ],
   "source": [
    "last_week_df = testDF.filter(testDF['lastVisitTimeLocal'] > '6/18/2020, 0:00:01').orderBy('visitCount', ascending = False).select('url', 'visitCount').show(5)"
   ]
  },
  {
   "cell_type": "code",
   "execution_count": 17,
   "metadata": {},
   "outputs": [],
   "source": []
  },
  {
   "cell_type": "code",
   "execution_count": 18,
   "metadata": {},
   "outputs": [
    {
     "data": {
      "text/html": [
       "<style scoped>\n",
       "  .ansiout {\n",
       "    display: block;\n",
       "    unicode-bidi: embed;\n",
       "    white-space: pre-wrap;\n",
       "    word-wrap: break-word;\n",
       "    word-break: break-all;\n",
       "    font-family: \"Source Code Pro\", \"Menlo\", monospace;;\n",
       "    font-size: 13px;\n",
       "    color: #555;\n",
       "    margin-left: 4px;\n",
       "    line-height: 19px;\n",
       "  }\n",
       "</style>\n",
       "<div class=\"ansiout\">+----------+\n",
       "visitCount|\n",
       "+----------+\n",
       "         1|\n",
       "         2|\n",
       "         1|\n",
       "         4|\n",
       "         1|\n",
       "         1|\n",
       "         1|\n",
       "         1|\n",
       "         2|\n",
       "         4|\n",
       "         2|\n",
       "         1|\n",
       "         3|\n",
       "         1|\n",
       "         1|\n",
       "         4|\n",
       "        16|\n",
       "        79|\n",
       "         1|\n",
       "         5|\n",
       "+----------+\n",
       "only showing top 20 rows\n",
       "\n",
       "</div>"
      ]
     },
     "metadata": {},
     "output_type": "display_data"
    }
   ],
   "source": []
  },
  {
   "cell_type": "code",
   "execution_count": 19,
   "metadata": {},
   "outputs": [
    {
     "data": {
      "text/html": [
       "<style scoped>\n",
       "  .ansiout {\n",
       "    display: block;\n",
       "    unicode-bidi: embed;\n",
       "    white-space: pre-wrap;\n",
       "    word-wrap: break-word;\n",
       "    word-break: break-all;\n",
       "    font-family: \"Source Code Pro\", \"Menlo\", monospace;;\n",
       "    font-size: 13px;\n",
       "    color: #555;\n",
       "    margin-left: 4px;\n",
       "    line-height: 19px;\n",
       "  }\n",
       "</style>\n",
       "<div class=\"ansiout\"></div>"
      ]
     },
     "metadata": {},
     "output_type": "display_data"
    }
   ],
   "source": [
    "# Here I explored putting it in a df, but it turns out I didn't need to do this.\n",
    "df = word_count_tuples.toDF(['Word', 'Count'])"
   ]
  },
  {
   "cell_type": "code",
   "execution_count": 20,
   "metadata": {},
   "outputs": [
    {
     "data": {
      "text/html": [
       "<style scoped>\n",
       "  .ansiout {\n",
       "    display: block;\n",
       "    unicode-bidi: embed;\n",
       "    white-space: pre-wrap;\n",
       "    word-wrap: break-word;\n",
       "    word-break: break-all;\n",
       "    font-family: \"Source Code Pro\", \"Menlo\", monospace;;\n",
       "    font-size: 13px;\n",
       "    color: #555;\n",
       "    margin-left: 4px;\n",
       "    line-height: 19px;\n",
       "  }\n",
       "</style>\n",
       "<div class=\"ansiout\">+-----------+-----+\n",
       "       Word|Count|\n",
       "+-----------+-----+\n",
       "     python|   88|\n",
       "    chapter|   76|\n",
       " regression|   65|\n",
       "     number|   63|\n",
       "   function|   57|\n",
       "     figure|   53|\n",
       "     linear|   53|\n",
       "    suppose|   50|\n",
       "    problem|   50|\n",
       "   training|   49|\n",
       "   logistic|   41|\n",
       "   example,|   40|\n",
       "     memory|   38|\n",
       "   variable|   38|\n",
       "   exercise|   36|\n",
       "    regular|   36|\n",
       "    example|   36|\n",
       " likelihood|   36|\n",
       "coefficient|   35|\n",
       "   solution|   35|\n",
       "+-----------+-----+\n",
       "only showing top 20 rows\n",
       "\n",
       "</div>"
      ]
     },
     "metadata": {},
     "output_type": "display_data"
    }
   ],
   "source": [
    "# More stuff I didn't need to do after all\n",
    "\n",
    "from pyspark.sql.functions import desc\n",
    "\n",
    "finished_df = df.sort(desc('Count'))\n",
    "finished_df.show()"
   ]
  },
  {
   "cell_type": "code",
   "execution_count": 21,
   "metadata": {},
   "outputs": [
    {
     "data": {
      "text/html": [
       "<style scoped>\n",
       "  .ansiout {\n",
       "    display: block;\n",
       "    unicode-bidi: embed;\n",
       "    white-space: pre-wrap;\n",
       "    word-wrap: break-word;\n",
       "    word-break: break-all;\n",
       "    font-family: \"Source Code Pro\", \"Menlo\", monospace;;\n",
       "    font-size: 13px;\n",
       "    color: #555;\n",
       "    margin-left: 4px;\n",
       "    line-height: 19px;\n",
       "  }\n",
       "</style>\n",
       "<div class=\"ansiout\">(&#39;to&#39;, 759)\n",
       "(&#39;that&#39;, 442)\n",
       "(&#39;in&#39;, 403)\n",
       "(&#39;we&#39;, 280)\n",
       "(&#39;be&#39;, 264)\n",
       "(&#39;for&#39;, 257)\n",
       "(&#39;as&#39;, 256)\n",
       "(&#39;with&#39;, 253)\n",
       "(&#39;can&#39;, 231)\n",
       "(&#39;are&#39;, 230)\n",
       "</div>"
      ]
     },
     "metadata": {},
     "output_type": "display_data"
    }
   ],
   "source": [
    "lines = sc.textFile(\"/FileStore/tables/Applied_Data_Science.txt\")\n",
    "\n",
    "numPartitions = lines.getNumPartitions() # get the number of partitions\n",
    "\n",
    "words = lines.flatMap(lambda x: x.split(' ')) # split each line into a list of words\n",
    "stopWords = ['','a','*','and','is','of','the','a', '.', '='] # define the list of stop words\n",
    "filteredWords = words.filter(lambda x: x.lower() not in stopWords) # filter the words\n",
    "\n",
    "filteredWords.cache() # cache filtered dataset into memory across the cluster worker nodes I DID NOT DO THIS\n",
    "\n",
    "word1Tuples = filteredWords.map(lambda x: (x, 1)) # map the words into (word,1) tuples\n",
    "\n",
    "wordCountTuples = word1Tuples.reduceByKey(lambda x, y: x + y) # aggregate counts for each word\n",
    "\n",
    "sortedWordCountTuples = wordCountTuples.takeOrdered(10, key = lambda x: -x[1])\n",
    "for tuple in sortedWordCountTuples: # display the top 10 (word,count) tuples by count \n",
    "  print(str(tuple))"
   ]
  },
  {
   "cell_type": "code",
   "execution_count": 22,
   "metadata": {},
   "outputs": [
    {
     "data": {
      "text/html": [
       "<style scoped>\n",
       "  .ansiout {\n",
       "    display: block;\n",
       "    unicode-bidi: embed;\n",
       "    white-space: pre-wrap;\n",
       "    word-wrap: break-word;\n",
       "    word-break: break-all;\n",
       "    font-family: \"Source Code Pro\", \"Menlo\", monospace;;\n",
       "    font-size: 13px;\n",
       "    color: #555;\n",
       "    margin-left: 4px;\n",
       "    line-height: 19px;\n",
       "  }\n",
       "</style>\n",
       "<div class=\"ansiout\">Out[22]: [(&#39;Applied&#39;, 1),\n",
       " (&#39;Data&#39;, 1),\n",
       " (&#39;Science&#39;, 1),\n",
       " (&#39;Ian&#39;, 1),\n",
       " (&#39;Langmore&#39;, 1),\n",
       " (&#39;Daniel&#39;, 1),\n",
       " (&#39;Krasner&#39;, 1),\n",
       " (&#39;2&#39;, 1),\n",
       " (&#39;Contents&#39;, 1),\n",
       " (&#39;I&#39;, 1)]</div>"
      ]
     },
     "metadata": {},
     "output_type": "display_data"
    }
   ],
   "source": [
    "word1Tuples.take(10)"
   ]
  },
  {
   "cell_type": "code",
   "execution_count": 23,
   "metadata": {},
   "outputs": [
    {
     "data": {
      "text/html": [
       "<style scoped>\n",
       "  .ansiout {\n",
       "    display: block;\n",
       "    unicode-bidi: embed;\n",
       "    white-space: pre-wrap;\n",
       "    word-wrap: break-word;\n",
       "    word-break: break-all;\n",
       "    font-family: \"Source Code Pro\", \"Menlo\", monospace;;\n",
       "    font-size: 13px;\n",
       "    color: #555;\n",
       "    margin-left: 4px;\n",
       "    line-height: 19px;\n",
       "  }\n",
       "</style>\n",
       "<div class=\"ansiout\"></div>"
      ]
     },
     "metadata": {},
     "output_type": "display_data"
    }
   ],
   "source": [
    "# Trying Question 2\n"
   ]
  },
  {
   "cell_type": "code",
   "execution_count": 24,
   "metadata": {},
   "outputs": [],
   "source": []
  },
  {
   "cell_type": "code",
   "execution_count": 25,
   "metadata": {},
   "outputs": [
    {
     "data": {
      "text/html": [
       "<style scoped>\n",
       "  .ansiout {\n",
       "    display: block;\n",
       "    unicode-bidi: embed;\n",
       "    white-space: pre-wrap;\n",
       "    word-wrap: break-word;\n",
       "    word-break: break-all;\n",
       "    font-family: \"Source Code Pro\", \"Menlo\", monospace;;\n",
       "    font-size: 13px;\n",
       "    color: #555;\n",
       "    margin-left: 4px;\n",
       "    line-height: 19px;\n",
       "  }\n",
       "</style>\n",
       "<div class=\"ansiout\"><span class=\"ansi-red-fg\">---------------------------------------------------------------------------</span>\n",
       "<span class=\"ansi-red-fg\">NameError</span>                                 Traceback (most recent call last)\n",
       "<span class=\"ansi-green-fg\">&lt;command-1204972937191286&gt;</span> in <span class=\"ansi-cyan-fg\">&lt;module&gt;</span>\n",
       "<span class=\"ansi-green-intense-fg ansi-bold\">      1</span> <span class=\"ansi-green-fg\">from</span> pyspark<span class=\"ansi-blue-fg\">.</span>sql <span class=\"ansi-green-fg\">import</span> Row <span class=\"ansi-red-fg\"># import the pyspark sql Row class</span>\n",
       "<span class=\"ansi-green-fg\">----&gt; 2</span><span class=\"ansi-red-fg\"> </span>word_count_rows <span class=\"ansi-blue-fg\">=</span> wordCountTuples<span class=\"ansi-blue-fg\">.</span>map<span class=\"ansi-blue-fg\">(</span><span class=\"ansi-green-fg\">lambda</span> p<span class=\"ansi-blue-fg\">:</span> Row<span class=\"ansi-blue-fg\">(</span>word<span class=\"ansi-blue-fg\">=</span>p<span class=\"ansi-blue-fg\">[</span><span class=\"ansi-cyan-fg\">0</span><span class=\"ansi-blue-fg\">]</span><span class=\"ansi-blue-fg\">,</span> count<span class=\"ansi-blue-fg\">=</span>int<span class=\"ansi-blue-fg\">(</span>p<span class=\"ansi-blue-fg\">[</span><span class=\"ansi-cyan-fg\">1</span><span class=\"ansi-blue-fg\">]</span><span class=\"ansi-blue-fg\">)</span><span class=\"ansi-blue-fg\">)</span><span class=\"ansi-blue-fg\">)</span> <span class=\"ansi-red-fg\"># tuples -&gt; Rows</span>\n",
       "<span class=\"ansi-green-intense-fg ansi-bold\">      3</span> word_count_rows<span class=\"ansi-blue-fg\">.</span>toDF<span class=\"ansi-blue-fg\">(</span><span class=\"ansi-blue-fg\">)</span><span class=\"ansi-blue-fg\">.</span>createOrReplaceTempView<span class=\"ansi-blue-fg\">(</span><span class=\"ansi-blue-fg\">&#34;word_count&#34;</span><span class=\"ansi-blue-fg\">)</span>\n",
       "\n",
       "<span class=\"ansi-red-fg\">NameError</span>: name &#39;wordCountTuples&#39; is not defined</div>"
      ]
     },
     "metadata": {},
     "output_type": "display_data"
    }
   ],
   "source": []
  },
  {
   "cell_type": "code",
   "execution_count": 26,
   "metadata": {},
   "outputs": [
    {
     "data": {
      "text/html": [
       "<style scoped>\n",
       "  .ansiout {\n",
       "    display: block;\n",
       "    unicode-bidi: embed;\n",
       "    white-space: pre-wrap;\n",
       "    word-wrap: break-word;\n",
       "    word-break: break-all;\n",
       "    font-family: \"Source Code Pro\", \"Menlo\", monospace;;\n",
       "    font-size: 13px;\n",
       "    color: #555;\n",
       "    margin-left: 4px;\n",
       "    line-height: 19px;\n",
       "  }\n",
       "</style>\n",
       "<div class=\"ansiout\"><span class=\"ansi-red-fg\">---------------------------------------------------------------------------</span>\n",
       "<span class=\"ansi-red-fg\">ModuleNotFoundError</span>                       Traceback (most recent call last)\n",
       "<span class=\"ansi-green-fg\">&lt;command-1626975377870626&gt;</span> in <span class=\"ansi-cyan-fg\">&lt;module&gt;</span>\n",
       "<span class=\"ansi-green-fg\">----&gt; 1</span><span class=\"ansi-red-fg\"> </span><span class=\"ansi-green-fg\">from</span> bs4 <span class=\"ansi-green-fg\">import</span> BeautifulSoup\n",
       "<span class=\"ansi-green-intense-fg ansi-bold\">      2</span> <span class=\"ansi-green-fg\">from</span> urllib<span class=\"ansi-blue-fg\">.</span>request <span class=\"ansi-green-fg\">import</span> urlopen\n",
       "<span class=\"ansi-green-intense-fg ansi-bold\">      3</span> <span class=\"ansi-green-fg\">import</span> requests\n",
       "\n",
       "<span class=\"ansi-red-fg\">ModuleNotFoundError</span>: No module named &#39;bs4&#39;</div>"
      ]
     },
     "metadata": {},
     "output_type": "display_data"
    }
   ],
   "source": [
    "from bs4 import BeautifulSoup\n",
    "from urllib.request import urlopen\n",
    "import requests"
   ]
  },
  {
   "cell_type": "code",
   "execution_count": 27,
   "metadata": {},
   "outputs": [
    {
     "data": {
      "text/html": [
       "<style scoped>\n",
       "  .ansiout {\n",
       "    display: block;\n",
       "    unicode-bidi: embed;\n",
       "    white-space: pre-wrap;\n",
       "    word-wrap: break-word;\n",
       "    word-break: break-all;\n",
       "    font-family: \"Source Code Pro\", \"Menlo\", monospace;;\n",
       "    font-size: 13px;\n",
       "    color: #555;\n",
       "    margin-left: 4px;\n",
       "    line-height: 19px;\n",
       "  }\n",
       "</style>\n",
       "<div class=\"ansiout\"><span class=\"ansi-red-fg\">---------------------------------------------------------------------------</span>\n",
       "<span class=\"ansi-red-fg\">NameError</span>                                 Traceback (most recent call last)\n",
       "<span class=\"ansi-green-fg\">&lt;command-1204972937191276&gt;</span> in <span class=\"ansi-cyan-fg\">&lt;module&gt;</span>\n",
       "<span class=\"ansi-green-fg\">----&gt; 1</span><span class=\"ansi-red-fg\"> </span>umbc_html <span class=\"ansi-blue-fg\">=</span> requests<span class=\"ansi-blue-fg\">.</span>get<span class=\"ansi-blue-fg\">(</span><span class=\"ansi-blue-fg\">&#39;https://www.umbc.edu&#39;</span><span class=\"ansi-blue-fg\">)</span>\n",
       "<span class=\"ansi-green-intense-fg ansi-bold\">      2</span> umbc_text <span class=\"ansi-blue-fg\">=</span> umbc_html<span class=\"ansi-blue-fg\">.</span>text\n",
       "<span class=\"ansi-green-intense-fg ansi-bold\">      3</span> \n",
       "<span class=\"ansi-green-intense-fg ansi-bold\">      4</span> print<span class=\"ansi-blue-fg\">(</span><span class=\"ansi-blue-fg\">&#39;Length of html text is &#39;</span><span class=\"ansi-blue-fg\">+</span>str<span class=\"ansi-blue-fg\">(</span>len<span class=\"ansi-blue-fg\">(</span>umbc_text<span class=\"ansi-blue-fg\">)</span><span class=\"ansi-blue-fg\">)</span><span class=\"ansi-blue-fg\">+</span><span class=\"ansi-blue-fg\">&#39; characters.&#39;</span><span class=\"ansi-blue-fg\">)</span>\n",
       "<span class=\"ansi-green-intense-fg ansi-bold\">      5</span> print<span class=\"ansi-blue-fg\">(</span>umbc_text<span class=\"ansi-blue-fg\">)</span>\n",
       "\n",
       "<span class=\"ansi-red-fg\">NameError</span>: name &#39;requests&#39; is not defined</div>"
      ]
     },
     "metadata": {},
     "output_type": "display_data"
    }
   ],
   "source": [
    "umbc_html = requests.get('https://www.umbc.edu')\n",
    "umbc_text = umbc_html.text\n",
    "\n",
    "print('Length of html text is '+str(len(umbc_text))+' characters.')\n",
    "print(umbc_text)\n",
    "\n",
    "url = 'https://www.umbc.edu'\n",
    "umbc_html = urlopen(url)\n",
    "\n",
    "soup = BeautifulSoup(umbc_html)"
   ]
  },
  {
   "cell_type": "code",
   "execution_count": 28,
   "metadata": {},
   "outputs": [
    {
     "data": {
      "text/html": [
       "<style scoped>\n",
       "  .ansiout {\n",
       "    display: block;\n",
       "    unicode-bidi: embed;\n",
       "    white-space: pre-wrap;\n",
       "    word-wrap: break-word;\n",
       "    word-break: break-all;\n",
       "    font-family: \"Source Code Pro\", \"Menlo\", monospace;;\n",
       "    font-size: 13px;\n",
       "    color: #555;\n",
       "    margin-left: 4px;\n",
       "    line-height: 19px;\n",
       "  }\n",
       "</style>\n",
       "<div class=\"ansiout\"><span class=\"ansi-red-fg\">---------------------------------------------------------------------------</span>\n",
       "<span class=\"ansi-red-fg\">NameError</span>                                 Traceback (most recent call last)\n",
       "<span class=\"ansi-green-fg\">&lt;command-1204972937191287&gt;</span> in <span class=\"ansi-cyan-fg\">&lt;module&gt;</span>\n",
       "<span class=\"ansi-green-fg\">----&gt; 1</span><span class=\"ansi-red-fg\"> </span>images <span class=\"ansi-blue-fg\">=</span> soup<span class=\"ansi-blue-fg\">.</span>findAll<span class=\"ansi-blue-fg\">(</span><span class=\"ansi-blue-fg\">&#39;img&#39;</span><span class=\"ansi-blue-fg\">)</span>\n",
       "\n",
       "<span class=\"ansi-red-fg\">NameError</span>: name &#39;soup&#39; is not defined</div>"
      ]
     },
     "metadata": {},
     "output_type": "display_data"
    }
   ],
   "source": [
    "images = soup.findAll('img')"
   ]
  },
  {
   "cell_type": "code",
   "execution_count": 29,
   "metadata": {},
   "outputs": [
    {
     "data": {
      "text/html": [
       "<style scoped>\n",
       "  .ansiout {\n",
       "    display: block;\n",
       "    unicode-bidi: embed;\n",
       "    white-space: pre-wrap;\n",
       "    word-wrap: break-word;\n",
       "    word-break: break-all;\n",
       "    font-family: \"Source Code Pro\", \"Menlo\", monospace;;\n",
       "    font-size: 13px;\n",
       "    color: #555;\n",
       "    margin-left: 4px;\n",
       "    line-height: 19px;\n",
       "  }\n",
       "</style>\n",
       "<div class=\"ansiout\"><span class=\"ansi-red-fg\">---------------------------------------------------------------------------</span>\n",
       "<span class=\"ansi-red-fg\">NameError</span>                                 Traceback (most recent call last)\n",
       "<span class=\"ansi-green-fg\">&lt;command-1204972937191294&gt;</span> in <span class=\"ansi-cyan-fg\">&lt;module&gt;</span>\n",
       "<span class=\"ansi-green-fg\">----&gt; 1</span><span class=\"ansi-red-fg\"> </span>images\n",
       "\n",
       "<span class=\"ansi-red-fg\">NameError</span>: name &#39;images&#39; is not defined</div>"
      ]
     },
     "metadata": {},
     "output_type": "display_data"
    }
   ],
   "source": [
    "images"
   ]
  },
  {
   "cell_type": "code",
   "execution_count": 30,
   "metadata": {},
   "outputs": [
    {
     "data": {
      "text/html": [
       "<style scoped>\n",
       "  .ansiout {\n",
       "    display: block;\n",
       "    unicode-bidi: embed;\n",
       "    white-space: pre-wrap;\n",
       "    word-wrap: break-word;\n",
       "    word-break: break-all;\n",
       "    font-family: \"Source Code Pro\", \"Menlo\", monospace;;\n",
       "    font-size: 13px;\n",
       "    color: #555;\n",
       "    margin-left: 4px;\n",
       "    line-height: 19px;\n",
       "  }\n",
       "</style>\n",
       "<div class=\"ansiout\"><span class=\"ansi-red-fg\">---------------------------------------------------------------------------</span>\n",
       "<span class=\"ansi-red-fg\">NameError</span>                                 Traceback (most recent call last)\n",
       "<span class=\"ansi-green-fg\">&lt;command-1204972937191292&gt;</span> in <span class=\"ansi-cyan-fg\">&lt;module&gt;</span>\n",
       "<span class=\"ansi-green-fg\">----&gt; 1</span><span class=\"ansi-red-fg\"> </span>print<span class=\"ansi-blue-fg\">(</span><span class=\"ansi-blue-fg\">&#39;There are &#39;</span><span class=\"ansi-blue-fg\">+</span>str<span class=\"ansi-blue-fg\">(</span>len<span class=\"ansi-blue-fg\">(</span>images<span class=\"ansi-blue-fg\">)</span><span class=\"ansi-blue-fg\">)</span><span class=\"ansi-blue-fg\">+</span><span class=\"ansi-blue-fg\">&#39; images at the &#39;</span><span class=\"ansi-blue-fg\">+</span>url<span class=\"ansi-blue-fg\">+</span><span class=\"ansi-blue-fg\">&#39; site.&#39;</span><span class=\"ansi-blue-fg\">)</span>\n",
       "<span class=\"ansi-green-intense-fg ansi-bold\">      2</span> print<span class=\"ansi-blue-fg\">(</span><span class=\"ansi-blue-fg\">&#39;\\nThe images are:\\n&#39;</span><span class=\"ansi-blue-fg\">)</span>\n",
       "<span class=\"ansi-green-intense-fg ansi-bold\">      3</span> <span class=\"ansi-green-fg\">for</span> image <span class=\"ansi-green-fg\">in</span> images<span class=\"ansi-blue-fg\">:</span>\n",
       "<span class=\"ansi-green-intense-fg ansi-bold\">      4</span>     print<span class=\"ansi-blue-fg\">(</span><span class=\"ansi-blue-fg\">&#39;  &#39;</span><span class=\"ansi-blue-fg\">+</span>image<span class=\"ansi-blue-fg\">[</span><span class=\"ansi-blue-fg\">&#39;src&#39;</span><span class=\"ansi-blue-fg\">]</span><span class=\"ansi-blue-fg\">)</span>\n",
       "\n",
       "<span class=\"ansi-red-fg\">NameError</span>: name &#39;images&#39; is not defined</div>"
      ]
     },
     "metadata": {},
     "output_type": "display_data"
    }
   ],
   "source": [
    "print('There are '+str(len(images))+' images at the '+url+' site.')\n",
    "print('\\nThe images are:\\n')\n",
    "for image in images:\n",
    "    print('  '+image['src'])"
   ]
  },
  {
   "cell_type": "code",
   "execution_count": 31,
   "metadata": {},
   "outputs": [
    {
     "data": {
      "text/html": [
       "<style scoped>\n",
       "  .ansiout {\n",
       "    display: block;\n",
       "    unicode-bidi: embed;\n",
       "    white-space: pre-wrap;\n",
       "    word-wrap: break-word;\n",
       "    word-break: break-all;\n",
       "    font-family: \"Source Code Pro\", \"Menlo\", monospace;;\n",
       "    font-size: 13px;\n",
       "    color: #555;\n",
       "    margin-left: 4px;\n",
       "    line-height: 19px;\n",
       "  }\n",
       "</style>\n",
       "<div class=\"ansiout\"></div>"
      ]
     },
     "metadata": {},
     "output_type": "display_data"
    }
   ],
   "source": [
    "# Here I'm trying the same thing, but with a text file"
   ]
  },
  {
   "cell_type": "code",
   "execution_count": 32,
   "metadata": {},
   "outputs": [
    {
     "data": {
      "text/html": [
       "<style scoped>\n",
       "  .ansiout {\n",
       "    display: block;\n",
       "    unicode-bidi: embed;\n",
       "    white-space: pre-wrap;\n",
       "    word-wrap: break-word;\n",
       "    word-break: break-all;\n",
       "    font-family: \"Source Code Pro\", \"Menlo\", monospace;;\n",
       "    font-size: 13px;\n",
       "    color: #555;\n",
       "    margin-left: 4px;\n",
       "    line-height: 19px;\n",
       "  }\n",
       "</style>\n",
       "<div class=\"ansiout\"></div>"
      ]
     },
     "metadata": {},
     "output_type": "display_data"
    }
   ],
   "source": [
    "# Here I read the Text version of the html into a text file\n",
    "umbc = sc.textFile('/FileStore/tables/umbc.txt')"
   ]
  },
  {
   "cell_type": "code",
   "execution_count": 33,
   "metadata": {},
   "outputs": [
    {
     "data": {
      "text/html": [
       "<style scoped>\n",
       "  .ansiout {\n",
       "    display: block;\n",
       "    unicode-bidi: embed;\n",
       "    white-space: pre-wrap;\n",
       "    word-wrap: break-word;\n",
       "    word-break: break-all;\n",
       "    font-family: \"Source Code Pro\", \"Menlo\", monospace;;\n",
       "    font-size: 13px;\n",
       "    color: #555;\n",
       "    margin-left: 4px;\n",
       "    line-height: 19px;\n",
       "  }\n",
       "</style>\n",
       "<div class=\"ansiout\"></div>"
      ]
     },
     "metadata": {},
     "output_type": "display_data"
    }
   ],
   "source": [
    "umbc1 = umbc.filter(lambda x:'img/' in x)"
   ]
  },
  {
   "cell_type": "code",
   "execution_count": 34,
   "metadata": {},
   "outputs": [
    {
     "data": {
      "text/html": [
       "<style scoped>\n",
       "  .ansiout {\n",
       "    display: block;\n",
       "    unicode-bidi: embed;\n",
       "    white-space: pre-wrap;\n",
       "    word-wrap: break-word;\n",
       "    word-break: break-all;\n",
       "    font-family: \"Source Code Pro\", \"Menlo\", monospace;;\n",
       "    font-size: 13px;\n",
       "    color: #555;\n",
       "    margin-left: 4px;\n",
       "    line-height: 19px;\n",
       "  }\n",
       "</style>\n",
       "<div class=\"ansiout\"><span class=\"ansi-red-fg\">---------------------------------------------------------------------------</span>\n",
       "<span class=\"ansi-red-fg\">TypeError</span>                                 Traceback (most recent call last)\n",
       "<span class=\"ansi-green-fg\">&lt;command-1204972937191284&gt;</span> in <span class=\"ansi-cyan-fg\">&lt;module&gt;</span>\n",
       "<span class=\"ansi-green-fg\">----&gt; 1</span><span class=\"ansi-red-fg\"> </span><span class=\"ansi-green-fg\">for</span> line <span class=\"ansi-green-fg\">in</span> umbc1<span class=\"ansi-blue-fg\">:</span>\n",
       "<span class=\"ansi-green-intense-fg ansi-bold\">      2</span>   line<span class=\"ansi-blue-fg\">.</span>filter<span class=\"ansi-blue-fg\">(</span><span class=\"ansi-green-fg\">lambda</span> x<span class=\"ansi-blue-fg\">:</span><span class=\"ansi-blue-fg\">&#39;img/&#39;</span> <span class=\"ansi-green-fg\">in</span> x<span class=\"ansi-blue-fg\">)</span>\n",
       "<span class=\"ansi-green-intense-fg ansi-bold\">      3</span>   print<span class=\"ansi-blue-fg\">(</span>line<span class=\"ansi-blue-fg\">)</span>\n",
       "\n",
       "<span class=\"ansi-red-fg\">TypeError</span>: &#39;PipelinedRDD&#39; object is not iterable</div>"
      ]
     },
     "metadata": {},
     "output_type": "display_data"
    }
   ],
   "source": []
  },
  {
   "cell_type": "code",
   "execution_count": 35,
   "metadata": {},
   "outputs": [
    {
     "data": {
      "text/html": [
       "<style scoped>\n",
       "  .ansiout {\n",
       "    display: block;\n",
       "    unicode-bidi: embed;\n",
       "    white-space: pre-wrap;\n",
       "    word-wrap: break-word;\n",
       "    word-break: break-all;\n",
       "    font-family: \"Source Code Pro\", \"Menlo\", monospace;;\n",
       "    font-size: 13px;\n",
       "    color: #555;\n",
       "    margin-left: 4px;\n",
       "    line-height: 19px;\n",
       "  }\n",
       "</style>\n",
       "<div class=\"ansiout\"><span class=\"ansi-red-fg\">---------------------------------------------------------------------------</span>\n",
       "<span class=\"ansi-red-fg\">NameError</span>                                 Traceback (most recent call last)\n",
       "<span class=\"ansi-green-fg\">&lt;command-1204972937191290&gt;</span> in <span class=\"ansi-cyan-fg\">&lt;module&gt;</span>\n",
       "<span class=\"ansi-green-fg\">----&gt; 1</span><span class=\"ansi-red-fg\"> </span>umbc2<span class=\"ansi-blue-fg\">.</span>count<span class=\"ansi-blue-fg\">(</span><span class=\"ansi-blue-fg\">)</span>\n",
       "\n",
       "<span class=\"ansi-red-fg\">NameError</span>: name &#39;umbc2&#39; is not defined</div>"
      ]
     },
     "metadata": {},
     "output_type": "display_data"
    }
   ],
   "source": [
    "umbc2.count()\n"
   ]
  },
  {
   "cell_type": "code",
   "execution_count": 36,
   "metadata": {},
   "outputs": [
    {
     "data": {
      "text/html": [
       "<style scoped>\n",
       "  .ansiout {\n",
       "    display: block;\n",
       "    unicode-bidi: embed;\n",
       "    white-space: pre-wrap;\n",
       "    word-wrap: break-word;\n",
       "    word-break: break-all;\n",
       "    font-family: \"Source Code Pro\", \"Menlo\", monospace;;\n",
       "    font-size: 13px;\n",
       "    color: #555;\n",
       "    margin-left: 4px;\n",
       "    line-height: 19px;\n",
       "  }\n",
       "</style>\n",
       "<div class=\"ansiout\"><span class=\"ansi-red-fg\">---------------------------------------------------------------------------</span>\n",
       "<span class=\"ansi-red-fg\">NameError</span>                                 Traceback (most recent call last)\n",
       "<span class=\"ansi-green-fg\">&lt;command-1204972937191291&gt;</span> in <span class=\"ansi-cyan-fg\">&lt;module&gt;</span>\n",
       "<span class=\"ansi-green-fg\">----&gt; 1</span><span class=\"ansi-red-fg\"> </span>umbc2<span class=\"ansi-blue-fg\">.</span>take<span class=\"ansi-blue-fg\">(</span><span class=\"ansi-cyan-fg\">1</span><span class=\"ansi-blue-fg\">)</span>\n",
       "<span class=\"ansi-green-intense-fg ansi-bold\">      2</span> <span class=\"ansi-red-fg\"># for line in umbc1.take(2): print(line)</span>\n",
       "\n",
       "<span class=\"ansi-red-fg\">NameError</span>: name &#39;umbc2&#39; is not defined</div>"
      ]
     },
     "metadata": {},
     "output_type": "display_data"
    }
   ],
   "source": [
    "umbc2.take(1)\n",
    "# for line in umbc1.take(2): print(line)"
   ]
  },
  {
   "cell_type": "code",
   "execution_count": 37,
   "metadata": {},
   "outputs": [
    {
     "data": {
      "text/html": [
       "<style scoped>\n",
       "  .ansiout {\n",
       "    display: block;\n",
       "    unicode-bidi: embed;\n",
       "    white-space: pre-wrap;\n",
       "    word-wrap: break-word;\n",
       "    word-break: break-all;\n",
       "    font-family: \"Source Code Pro\", \"Menlo\", monospace;;\n",
       "    font-size: 13px;\n",
       "    color: #555;\n",
       "    margin-left: 4px;\n",
       "    line-height: 19px;\n",
       "  }\n",
       "</style>\n",
       "<div class=\"ansiout\">  % Total    % Received % Xferd  Average Speed   Time    Time     Time  Current\n",
       "                                 Dload  Upload   Total   Spent    Left  Speed\n",
       "\n",
       "  0     0    0     0    0     0      0      0 --:--:-- --:--:-- --:--:--     0\n",
       "100 49494  100 49494    0     0   154k      0 --:--:-- --:--:-- --:--:--  154k\n",
       "</div>"
      ]
     },
     "metadata": {},
     "output_type": "display_data"
    }
   ],
   "source": [
    "%sh curl -O 'https://raw.githubusercontent.com/mschlitzer/2019_Footy_Player_Dictionary/master/footy_stats.csv'"
   ]
  },
  {
   "cell_type": "code",
   "execution_count": 38,
   "metadata": {},
   "outputs": [
    {
     "data": {
      "text/html": [
       "<style scoped>\n",
       "  .table-result-container {\n",
       "    max-height: 300px;\n",
       "    overflow: auto;\n",
       "  }\n",
       "  table, th, td {\n",
       "    border: 1px solid black;\n",
       "    border-collapse: collapse;\n",
       "  }\n",
       "  th, td {\n",
       "    padding: 5px;\n",
       "  }\n",
       "  th {\n",
       "    text-align: left;\n",
       "  }\n",
       "</style><div class='table-result-container'><table class='table-result'><thead style='background-color: white'><tr><th>path</th><th>name</th><th>size</th></tr></thead><tbody><tr><td>file:/databricks/driver/conf/</td><td>conf/</td><td>4096</td></tr><tr><td>file:/databricks/driver/ganglia/</td><td>ganglia/</td><td>4096</td></tr><tr><td>file:/databricks/driver/footy_stats.csv</td><td>footy_stats.csv</td><td>49494</td></tr><tr><td>file:/databricks/driver/derby.log</td><td>derby.log</td><td>717</td></tr><tr><td>file:/databricks/driver/eventlogs/</td><td>eventlogs/</td><td>4096</td></tr><tr><td>file:/databricks/driver/logs/</td><td>logs/</td><td>4096</td></tr></tbody></table></div>"
      ]
     },
     "metadata": {},
     "output_type": "display_data"
    }
   ],
   "source": [
    "%fs ls \"file:/databricks/driver\""
   ]
  },
  {
   "cell_type": "code",
   "execution_count": 39,
   "metadata": {},
   "outputs": [
    {
     "data": {
      "text/html": [
       "<style scoped>\n",
       "  .ansiout {\n",
       "    display: block;\n",
       "    unicode-bidi: embed;\n",
       "    white-space: pre-wrap;\n",
       "    word-wrap: break-word;\n",
       "    word-break: break-all;\n",
       "    font-family: \"Source Code Pro\", \"Menlo\", monospace;;\n",
       "    font-size: 13px;\n",
       "    color: #555;\n",
       "    margin-left: 4px;\n",
       "    line-height: 19px;\n",
       "  }\n",
       "</style>\n",
       "<div class=\"ansiout\"></div>"
      ]
     },
     "metadata": {},
     "output_type": "display_data"
    }
   ],
   "source": [
    "path = 'file:/databricks/driver/footy_stats.csv'\n",
    "\n",
    "df = sqlContext.read.format('csv')\\\n",
    ".option('header', 'true')\\\n",
    ".option('inferSchema', 'true')\\\n",
    ".load(path)"
   ]
  },
  {
   "cell_type": "code",
   "execution_count": 40,
   "metadata": {},
   "outputs": [
    {
     "data": {
      "text/html": [
       "<style scoped>\n",
       "  .table-result-container {\n",
       "    max-height: 300px;\n",
       "    overflow: auto;\n",
       "  }\n",
       "  table, th, td {\n",
       "    border: 1px solid black;\n",
       "    border-collapse: collapse;\n",
       "  }\n",
       "  th, td {\n",
       "    padding: 5px;\n",
       "  }\n",
       "  th {\n",
       "    text-align: left;\n",
       "  }\n",
       "</style><div class='table-result-container'><table class='table-result'><thead style='background-color: white'><tr><th>Player</th><th>Team</th><th>Position</th></tr></thead><tbody><tr><td>Luke Brown</td><td>Adelaide</td><td>Defender</td></tr><tr><td>Tom Doedee</td><td>Adelaide</td><td>Defender</td></tr><tr><td>Kyle Hartigan</td><td>Adelaide</td><td>Defender</td></tr><tr><td>Jake Kelly</td><td>Adelaide</td><td>Defender</td></tr><tr><td>Rory Laird</td><td>Adelaide</td><td>Defender</td></tr><tr><td>David Mackay</td><td>Adelaide</td><td>Defender</td></tr><tr><td>Daniel Talia</td><td>Adelaide</td><td>Defender</td></tr><tr><td>Wayne Milera</td><td>Adelaide</td><td>Defender</td></tr><tr><td>Andy Otten</td><td>Adelaide</td><td>Defender</td></tr><tr><td>Kyle Cheney</td><td>Adelaide</td><td>Defender</td></tr><tr><td>Alex Keath</td><td>Adelaide</td><td>Defender</td></tr><tr><td>Brodie Smith</td><td>Adelaide</td><td>Defender</td></tr><tr><td>Harris Andrews</td><td>Brisbane Lions</td><td>Defender</td></tr><tr><td>Darcy Gardiner</td><td>Brisbane Lions</td><td>Defender</td></tr><tr><td>Luke Hodge</td><td>Brisbane Lions</td><td>Defender</td></tr><tr><td>Ryan Lester</td><td>Brisbane Lions</td><td>Defender</td></tr><tr><td>Sam Mayes</td><td>Brisbane Lions</td><td>Defender</td></tr><tr><td>Daniel Rich</td><td>Brisbane Lions</td><td>Defender</td></tr><tr><td>Nick Robertson</td><td>Brisbane Lions</td><td>Defender</td></tr><tr><td>Josh Walker</td><td>Brisbane Lions</td><td>Defender</td></tr><tr><td>Alex Witherden</td><td>Brisbane Lions</td><td>Defender</td></tr><tr><td>Cedric Cox</td><td>Brisbane Lions</td><td>Defender</td></tr><tr><td>Jacob Allison</td><td>Brisbane Lions</td><td>Defender</td></tr><tr><td>Matt Eagles</td><td>Brisbane Lions</td><td>Defender</td></tr><tr><td>Ciaran Byrne</td><td>Carlton</td><td>Defender</td></tr><tr><td>Liam Jones</td><td>Carlton</td><td>Defender</td></tr><tr><td>Caleb Marchbank</td><td>Carlton</td><td>Defender</td></tr><tr><td>Aaron Mullett</td><td>Carlton</td><td>Defender</td></tr><tr><td>Lachie Plowman</td><td>Carlton</td><td>Defender</td></tr><tr><td>Kade Simpson</td><td>Carlton</td><td>Defender</td></tr><tr><td>Dale Thomas</td><td>Carlton</td><td>Defender</td></tr><tr><td>Jacob Weitering</td><td>Carlton</td><td>Defender</td></tr><tr><td>David Cuningham</td><td>Carlton</td><td>Defender</td></tr><tr><td>Cameron OShea</td><td>Carlton</td><td>Defender</td></tr><tr><td>Sam Rowe</td><td>Carlton</td><td>Defender</td></tr><tr><td>Jack Crisp</td><td>Collingwood</td><td>Defender</td></tr><tr><td>Lynden Dunn</td><td>Collingwood</td><td>Defender</td></tr><tr><td>Jeremy Howe</td><td>Collingwood</td><td>Defender</td></tr><tr><td>Tom Langdon</td><td>Collingwood</td><td>Defender</td></tr><tr><td>Brayden Maynard</td><td>Collingwood</td><td>Defender</td></tr><tr><td>Sam Murray</td><td>Collingwood</td><td>Defender</td></tr><tr><td>Matt Scharenberg</td><td>Collingwood</td><td>Defender</td></tr><tr><td>Flynn Appleby</td><td>Collingwood</td><td>Defender</td></tr><tr><td>Levi Greenwood</td><td>Collingwood</td><td>Defender</td></tr><tr><td>Jack Madgen</td><td>Collingwood</td><td>Defender</td></tr><tr><td>Adam Oxley</td><td>Collingwood</td><td>Defender</td></tr><tr><td>Nathan Murphy</td><td>Collingwood</td><td>Defender</td></tr><tr><td>Tyson Goldsack</td><td>Collingwood</td><td>Defender</td></tr><tr><td>Matt Dea</td><td>Essendon</td><td>Defender</td></tr><tr><td>Michael Hartley</td><td>Essendon</td><td>Defender</td></tr><tr><td>Cale Hooker</td><td>Essendon</td><td>Defender</td></tr><tr><td>Michael Hurley</td><td>Essendon</td><td>Defender</td></tr><tr><td>Conor McKenna</td><td>Essendon</td><td>Defender</td></tr><tr><td>Adam Saad</td><td>Essendon</td><td>Defender</td></tr><tr><td>Patrick Ambrose</td><td>Essendon</td><td>Defender</td></tr><tr><td>Ben McNiece</td><td>Essendon</td><td>Defender</td></tr><tr><td>Jordan Ridley</td><td>Essendon</td><td>Defender</td></tr><tr><td>Mason Redman</td><td>Essendon</td><td>Defender</td></tr><tr><td>Aaron Francis</td><td>Essendon</td><td>Defender</td></tr><tr><td>Connor Blakely</td><td>Fremantle</td><td>Defender</td></tr><tr><td>Michael Johnson</td><td>Fremantle</td><td>Defender</td></tr><tr><td>Shane Kersten</td><td>Fremantle</td><td>Defender</td></tr><tr><td>Alex Pearce</td><td>Fremantle</td><td>Defender</td></tr><tr><td>Luke Ryan</td><td>Fremantle</td><td>Defender</td></tr><tr><td>Cameron Sutcliffe</td><td>Fremantle</td><td>Defender</td></tr><tr><td>Nathan Wilson</td><td>Fremantle</td><td>Defender</td></tr><tr><td>Joel Hamling</td><td>Fremantle</td><td>Defender</td></tr><tr><td>Stephen Hill</td><td>Fremantle</td><td>Defender</td></tr><tr><td>Taylin Duman</td><td>Fremantle</td><td>Defender</td></tr><tr><td>Ethan Hughes</td><td>Fremantle</td><td>Defender</td></tr><tr><td>Ryan Nyhuis</td><td>Fremantle</td><td>Defender</td></tr><tr><td>Jed Bews</td><td>Geelong</td><td>Defender</td></tr><tr><td>Mark Blicavs</td><td>Geelong</td><td>Defender</td></tr><tr><td>Cameron Guthrie</td><td>Geelong</td><td>Defender</td></tr><tr><td>Zach Guthrie</td><td>Geelong</td><td>Defender</td></tr><tr><td>Jake Kolodjashnij</td><td>Geelong</td><td>Defender</td></tr><tr><td>Tom Stewart</td><td>Geelong</td><td>Defender</td></tr><tr><td>Harry Taylor</td><td>Geelong</td><td>Defender</td></tr><tr><td>Zach Tuohy</td><td>Geelong</td><td>Defender</td></tr><tr><td>Jack Henry</td><td>Geelong</td><td>Defender</td></tr><tr><td>Mark OConnor</td><td>Geelong</td><td>Defender</td></tr><tr><td>Lachie Henderson</td><td>Geelong</td><td>Defender</td></tr><tr><td>Jarrod Harbrow</td><td>Gold Coast</td><td>Defender</td></tr><tr><td>Jesse Joyce</td><td>Gold Coast</td><td>Defender</td></tr><tr><td>Kade Kolodjashnij</td><td>Gold Coast</td><td>Defender</td></tr><tr><td>Steven May</td><td>Gold Coast</td><td>Defender</td></tr><tr><td>Michael Rischitelli</td><td>Gold Coast</td><td>Defender</td></tr><tr><td>Rory Thompson</td><td>Gold Coast</td><td>Defender</td></tr><tr><td>Pearce Hanley</td><td>Gold Coast</td><td>Defender</td></tr><tr><td>Max Spencer</td><td>Gold Coast</td><td>Defender</td></tr><tr><td>Charlie Ballard</td><td>Gold Coast</td><td>Defender</td></tr><tr><td>Jack Leslie</td><td>Gold Coast</td><td>Defender</td></tr><tr><td>Aidan Corr</td><td>Greater Western Sydney</td><td>Defender</td></tr><tr><td>Phil Davis</td><td>Greater Western Sydney</td><td>Defender</td></tr><tr><td>Jeremy Finlayson</td><td>Greater Western Sydney</td><td>Defender</td></tr><tr><td>Nick Haynes</td><td>Greater Western Sydney</td><td>Defender</td></tr><tr><td>Heath Shaw</td><td>Greater Western Sydney</td><td>Defender</td></tr><tr><td>Lachie Whitfield</td><td>Greater Western Sydney</td><td>Defender</td></tr><tr><td>Harry Perryman</td><td>Greater Western Sydney</td><td>Defender</td></tr><tr><td>Lachlan Keeffe</td><td>Greater Western Sydney</td><td>Defender</td></tr><tr><td>Isaac Cumming</td><td>Greater Western Sydney</td><td>Defender</td></tr><tr><td>Tim Mohr</td><td>Greater Western Sydney</td><td>Defender</td></tr><tr><td>Matt Buntine</td><td>Greater Western Sydney</td><td>Defender</td></tr><tr><td>Sam Taylor</td><td>Greater Western Sydney</td><td>Defender</td></tr><tr><td>Adam Kennedy</td><td>Greater Western Sydney</td><td>Defender</td></tr><tr><td>Zac Williams</td><td>Greater Western Sydney</td><td>Defender</td></tr><tr><td>Ryan Burton</td><td>Hawthorn</td><td>Defender</td></tr><tr><td>Taylor Duryea</td><td>Hawthorn</td><td>Defender</td></tr><tr><td>James Frawley</td><td>Hawthorn</td><td>Defender</td></tr><tr><td>Blake Hardwick</td><td>Hawthorn</td><td>Defender</td></tr><tr><td>James Sicily</td><td>Hawthorn</td><td>Defender</td></tr><tr><td>Ben Stratton</td><td>Hawthorn</td><td>Defender</td></tr><tr><td>Kaiden Brand</td><td>Hawthorn</td><td>Defender</td></tr><tr><td>Conor Glass</td><td>Hawthorn</td><td>Defender</td></tr><tr><td>David Mirra</td><td>Hawthorn</td><td>Defender</td></tr><tr><td>Teia Miles</td><td>Hawthorn</td><td>Defender</td></tr><tr><td>Michael Hibberd</td><td>Melbourne</td><td>Defender</td></tr><tr><td>Jayden Hunt</td><td>Melbourne</td><td>Defender</td></tr><tr><td>Neville Jetta</td><td>Melbourne</td><td>Defender</td></tr><tr><td>Jake Lever</td><td>Melbourne</td><td>Defender</td></tr><tr><td>Jordan Lewis</td><td>Melbourne</td><td>Defender</td></tr><tr><td>Oscar McDonald</td><td>Melbourne</td><td>Defender</td></tr><tr><td>Christian Salem</td><td>Melbourne</td><td>Defender</td></tr><tr><td>Bernie Vince</td><td>Melbourne</td><td>Defender</td></tr><tr><td>Josh Wagner</td><td>Melbourne</td><td>Defender</td></tr><tr><td>Sam Frost</td><td>Melbourne</td><td>Defender</td></tr><tr><td>Joel Smith</td><td>Melbourne</td><td>Defender</td></tr><tr><td>Harry Petty</td><td>Melbourne</td><td>Defender</td></tr><tr><td>Ryan Clarke</td><td>North Melbourne</td><td>Defender</td></tr><tr><td>Jamie Macmillan</td><td>North Melbourne</td><td>Defender</td></tr><tr><td>Luke McDonald</td><td>North Melbourne</td><td>Defender</td></tr><tr><td>Robbie Tarrant</td><td>North Melbourne</td><td>Defender</td></tr><tr><td>Scott D Thompson</td><td>North Melbourne</td><td>Defender</td></tr><tr><td>Ed Vickers-Willis</td><td>North Melbourne</td><td>Defender</td></tr><tr><td>Marley Williams</td><td>North Melbourne</td><td>Defender</td></tr><tr><td>Majak Daw</td><td>North Melbourne</td><td>Defender</td></tr><tr><td>Sam Wright</td><td>North Melbourne</td><td>Defender</td></tr><tr><td>Sam Durdin</td><td>North Melbourne</td><td>Defender</td></tr><tr><td>Tom Murphy</td><td>North Melbourne</td><td>Defender</td></tr><tr><td>Alex Morgan</td><td>North Melbourne</td><td>Defender</td></tr><tr><td>Riley Bonner</td><td>Port Adelaide</td><td>Defender</td></tr><tr><td>Darcy Byrne-Jones</td><td>Port Adelaide</td><td>Defender</td></tr><tr><td>Tom Clurey</td><td>Port Adelaide</td><td>Defender</td></tr><tr><td>Hamish Hartlett</td><td>Port Adelaide</td><td>Defender</td></tr><tr><td>Dan Houston</td><td>Port Adelaide</td><td>Defender</td></tr><tr><td>Dougal Howard</td><td>Port Adelaide</td><td>Defender</td></tr><tr><td>Tom Jonas</td><td>Port Adelaide</td><td>Defender</td></tr><tr><td>Trent McKenzie</td><td>Port Adelaide</td><td>Defender</td></tr><tr><td>Jack Hombsch</td><td>Port Adelaide</td><td>Defender</td></tr><tr><td>Jasper Pittard</td><td>Port Adelaide</td><td>Defender</td></tr><tr><td>Jack Trengove</td><td>Port Adelaide</td><td>Defender</td></tr><tr><td>Jarrod Lienert</td><td>Port Adelaide</td><td>Defender</td></tr><tr><td>David Astbury</td><td>Richmond</td><td>Defender</td></tr><tr><td>Brandon Ellis</td><td>Richmond</td><td>Defender</td></tr><tr><td>Dylan Grimes</td><td>Richmond</td><td>Defender</td></tr><tr><td>Alex Rance</td><td>Richmond</td><td>Defender</td></tr><tr><td>Jayden Short</td><td>Richmond</td><td>Defender</td></tr><tr><td>Nick Vlastuin</td><td>Richmond</td><td>Defender</td></tr><tr><td>Bachar Houli</td><td>Richmond</td><td>Defender</td></tr><tr><td>Nathan Broad</td><td>Richmond</td><td>Defender</td></tr><tr><td>Connor Menadue</td><td>Richmond</td><td>Defender</td></tr><tr><td>Ryan Garthwaite</td><td>Richmond</td><td>Defender</td></tr><tr><td>Nathan Brown</td><td>St Kilda</td><td>Defender</td></tr><tr><td>Jake Carlisle</td><td>St Kilda</td><td>Defender</td></tr><tr><td>Hunter Clark</td><td>St Kilda</td><td>Defender</td></tr><tr><td>Jarryn Geary</td><td>St Kilda</td><td>Defender</td></tr><tr><td>Dylan Roberton</td><td>St Kilda</td><td>Defender</td></tr><tr><td>Shane Savage</td><td>St Kilda</td><td>Defender</td></tr><tr><td>Jimmy Webster</td><td>St Kilda</td><td>Defender</td></tr><tr><td>Nick Coffield</td><td>St Kilda</td><td>Defender</td></tr><tr><td>Brandon White</td><td>St Kilda</td><td>Defender</td></tr><tr><td>Sam Gilbert</td><td>St Kilda</td><td>Defender</td></tr><tr><td>Bailey Rice</td><td>St Kilda</td><td>Defender</td></tr><tr><td>Logan Austin</td><td>St Kilda</td><td>Defender</td></tr><tr><td>Daniel McKenzie</td><td>St Kilda</td><td>Defender</td></tr><tr><td>Darragh Joyce</td><td>St Kilda</td><td>Defender</td></tr><tr><td>Ben Paton</td><td>St Kilda</td><td>Defender</td></tr><tr><td>Hugh Goddard</td><td>St Kilda</td><td>Defender</td></tr><tr><td>Heath Grundy</td><td>Sydney</td><td>Defender</td></tr><tr><td>Zak Jones</td><td>Sydney</td><td>Defender</td></tr><tr><td>Jake Lloyd</td><td>Sydney</td><td>Defender</td></tr><tr><td>Jarrad McVeigh</td><td>Sydney</td><td>Defender</td></tr><tr><td>Lewis Melican</td><td>Sydney</td><td>Defender</td></tr><tr><td>Callum Mills</td><td>Sydney</td><td>Defender</td></tr><tr><td>Nic Newman</td><td>Sydney</td><td>Defender</td></tr><tr><td>Dane Rampe</td><td>Sydney</td><td>Defender</td></tr><tr><td>Nick Smith</td><td>Sydney</td><td>Defender</td></tr><tr><td>Aliir Aliir</td><td>Sydney</td><td>Defender</td></tr><tr><td>Harrison Marsh</td><td>Sydney</td><td>Defender</td></tr><tr><td>Colin ORiordan</td><td>Sydney</td><td>Defender</td></tr><tr><td>Alex Johnson</td><td>Sydney</td><td>Defender</td></tr><tr><td>Tom Barrass</td><td>West Coast</td><td>Defender</td></tr><tr><td>Liam Duggan</td><td>West Coast</td><td>Defender</td></tr><tr><td>Shannon Hurn</td><td>West Coast</td><td>Defender</td></tr><tr><td>Lewis Jetta</td><td>West Coast</td><td>Defender</td></tr><tr><td>Jeremy McGovern</td><td>West Coast</td><td>Defender</td></tr><tr><td>Jackson Nelson</td><td>West Coast</td><td>Defender</td></tr><tr><td>Will Schofield</td><td>West Coast</td><td>Defender</td></tr><tr><td>Brad Sheppard</td><td>West Coast</td><td>Defender</td></tr><tr><td>Tom Cole</td><td>West Coast</td><td>Defender</td></tr><tr><td>Oscar Allen</td><td>West Coast</td><td>Defender</td></tr><tr><td>Shane Biggs</td><td>Western Bulldogs</td><td>Defender</td></tr><tr><td>Zaine Cordy</td><td>Western Bulldogs</td><td>Defender</td></tr><tr><td>Hayden Crozier</td><td>Western Bulldogs</td><td>Defender</td></tr><tr><td>Jason Johannisen</td><td>Western Bulldogs</td><td>Defender</td></tr><tr><td>Aaron Naughton</td><td>Western Bulldogs</td><td>Defender</td></tr><tr><td>Fletcher Roberts</td><td>Western Bulldogs</td><td>Defender</td></tr><tr><td>Matt Suckling</td><td>Western Bulldogs</td><td>Defender</td></tr><tr><td>Jackson Trengove</td><td>Western Bulldogs</td><td>Defender</td></tr><tr><td>Bailey Williams</td><td>Western Bulldogs</td><td>Defender</td></tr><tr><td>Easton Wood</td><td>Western Bulldogs</td><td>Defender</td></tr><tr><td>Ed Richards</td><td>Western Bulldogs</td><td>Defender</td></tr><tr><td>Lewis Young</td><td>Western Bulldogs</td><td>Defender</td></tr><tr><td>Roarke Smith</td><td>Western Bulldogs</td><td>Defender</td></tr><tr><td>Dale Morris</td><td>Western Bulldogs</td><td>Defender</td></tr><tr><td>Marcus Adams</td><td>Western Bulldogs</td><td>Defender</td></tr><tr><td>Ryan Harwood</td><td>Brisbane Lions</td><td>Defender</td></tr><tr><td>Jack Frost</td><td>Brisbane Lions</td><td>Defender</td></tr><tr><td>Marco Paparone</td><td>Brisbane Lions</td><td>Defender</td></tr><tr><td>Matthew Hammelmann</td><td>Brisbane Lions</td><td>Defender</td></tr><tr><td>Sam Skinner</td><td>Brisbane Lions</td><td>Defender</td></tr><tr><td>Sam Docherty</td><td>Carlton</td><td>Defender</td></tr><tr><td>Harrison Macreadie</td><td>Carlton</td><td>Defender</td></tr><tr><td>Simon White</td><td>Carlton</td><td>Defender</td></tr><tr><td>Tom Williamson</td><td>Carlton</td><td>Defender</td></tr><tr><td>Alex Silvagni</td><td>Carlton</td><td>Defender</td></tr><tr><td>Ciaran Sheehan</td><td>Carlton</td><td>Defender</td></tr><tr><td>Jackson Ramsay</td><td>Collingwood</td><td>Defender</td></tr><tr><td>Henry Schade</td><td>Collingwood</td><td>Defender</td></tr><tr><td>Martin Gleeson</td><td>Essendon</td><td>Defender</td></tr><tr><td>Zac Dawson</td><td>Fremantle</td><td>Defender</td></tr><tr><td>Garrick Ibbotson</td><td>Fremantle</td><td>Defender</td></tr><tr><td>Lee Spurr</td><td>Fremantle</td><td>Defender</td></tr><tr><td>Griffin Logue</td><td>Fremantle</td><td>Defender</td></tr><tr><td>Sam Collins</td><td>Fremantle</td><td>Defender</td></tr><tr><td>Tom Lonergan</td><td>Geelong</td><td>Defender</td></tr><tr><td>Andrew Mackie</td><td>Geelong</td><td>Defender</td></tr><tr><td>Tom Ruggles</td><td>Geelong</td><td>Defender</td></tr><tr><td>Mackenzie Willis</td><td>Gold Coast</td><td>Defender</td></tr><tr><td>Jack Scrimshaw</td><td>Gold Coast</td><td>Defender</td></tr><tr><td>Grant Birchall</td><td>Hawthorn</td><td>Defender</td></tr><tr><td>Josh Gibson</td><td>Hawthorn</td><td>Defender</td></tr><tr><td>Kurt Heatherley</td><td>Hawthorn</td><td>Defender</td></tr><tr><td>Mitch White</td><td>Melbourne</td><td>Defender</td></tr><tr><td>Lachlan Hansen</td><td>North Melbourne</td><td>Defender</td></tr><tr><td>Mitchell Hibberd</td><td>North Melbourne</td><td>Defender</td></tr><tr><td>Dan Nielson</td><td>North Melbourne</td><td>Defender</td></tr><tr><td>Ben McKay</td><td>North Melbourne</td><td>Defender</td></tr><tr><td>Matthew Broadbent</td><td>Port Adelaide</td><td>Defender</td></tr><tr><td>Taylor Hunt</td><td>Richmond</td><td>Defender</td></tr><tr><td>Oleg Markov</td><td>Richmond</td><td>Defender</td></tr><tr><td>Steven Morris</td><td>Richmond</td><td>Defender</td></tr><tr><td>Jake Batchelor</td><td>Richmond</td><td>Defender</td></tr><tr><td>Leigh Montagna</td><td>St Kilda</td><td>Defender</td></tr><tr><td>Jeremy Laidler</td><td>Sydney</td><td>Defender</td></tr><tr><td>Eric Mackenzie</td><td>West Coast</td><td>Defender</td></tr><tr><td>Sharrod Wellingham</td><td>West Coast</td><td>Defender</td></tr><tr><td>Sam Butler</td><td>West Coast</td><td>Defender</td></tr><tr><td>Kurt Mutimer</td><td>West Coast</td><td>Defender</td></tr><tr><td>Matthew Boyd</td><td>Western Bulldogs</td><td>Defender</td></tr><tr><td>Robert Murphy</td><td>Western Bulldogs</td><td>Defender</td></tr><tr><td>Daniel Merrett</td><td>Brisbane Lions</td><td>Defender</td></tr><tr><td>Reuben William</td><td>Brisbane Lions</td><td>Defender</td></tr><tr><td>Michael Jamison</td><td>Carlton</td><td>Defender</td></tr><tr><td>Ben Sinclair</td><td>Collingwood</td><td>Defender</td></tr><tr><td>Alan Toovey</td><td>Collingwood</td><td>Defender</td></tr><tr><td>Jonathon Marsh</td><td>Collingwood</td><td>Defender</td></tr><tr><td>James Gwilt</td><td>Essendon</td><td>Defender</td></tr><tr><td>Courtenay Dempsey</td><td>Essendon</td><td>Defender</td></tr><tr><td>Nathan Grima</td><td>Essendon</td><td>Defender</td></tr><tr><td>Jason Ashby</td><td>Essendon</td><td>Defender</td></tr><tr><td>Tanner Smith</td><td>Fremantle</td><td>Defender</td></tr><tr><td>Corey Enright</td><td>Geelong</td><td>Defender</td></tr><tr><td>Nick Malceski</td><td>Gold Coast</td><td>Defender</td></tr><tr><td>Seb Tape</td><td>Gold Coast</td><td>Defender</td></tr><tr><td>Joel Patfull</td><td>Greater Western Sydney</td><td>Defender</td></tr><tr><td>Angus Litherland</td><td>Hawthorn</td><td>Defender</td></tr><tr><td>Matthew Spangher</td><td>Hawthorn</td><td>Defender</td></tr><tr><td>Colin Garland</td><td>Melbourne</td><td>Defender</td></tr><tr><td>Heritier Lumumba</td><td>Melbourne</td><td>Defender</td></tr><tr><td>Jack Grimes</td><td>Melbourne</td><td>Defender</td></tr><tr><td>Michael Firrito</td><td>North Melbourne</td><td>Defender</td></tr><tr><td>Alipate Carlile</td><td>Port Adelaide</td><td>Defender</td></tr><tr><td>Nathan Krakouer</td><td>Port Adelaide</td><td>Defender</td></tr><tr><td>Troy Chaplin</td><td>Richmond</td><td>Defender</td></tr><tr><td>Sean Dempster</td><td>St Kilda</td><td>Defender</td></tr><tr><td>Sam Fisher</td><td>St Kilda</td><td>Defender</td></tr><tr><td>Tom Lee</td><td>St Kilda</td><td>Defender</td></tr><tr><td>Luke Delaney</td><td>St Kilda</td><td>Defender</td></tr><tr><td>Michael Talia</td><td>Sydney</td><td>Defender</td></tr><tr><td>Ted Richards</td><td>Sydney</td><td>Defender</td></tr><tr><td>Xavier Richards</td><td>Sydney</td><td>Defender</td></tr><tr><td>Jamie Bennell</td><td>West Coast</td><td>Defender</td></tr><tr><td>Xavier Ellis</td><td>West Coast</td><td>Defender</td></tr><tr><td>Mitch WC Brown</td><td>West Coast</td><td>Defender</td></tr><tr><td>Kieran Collins</td><td>Western Bulldogs</td><td>Defender</td></tr><tr><td>Matthew Jaensch</td><td>Adelaide</td><td>Defender</td></tr><tr><td>Sam Shaw</td><td>Adelaide</td><td>Defender</td></tr><tr><td>Justin Clarke</td><td>Brisbane Lions</td><td>Defender</td></tr><tr><td>Matt Maguire</td><td>Brisbane Lions</td><td>Defender</td></tr><tr><td>Mitch Golby</td><td>Brisbane Lions</td><td>Defender</td></tr><tr><td>Hugh Beasley</td><td>Brisbane Lions</td><td>Defender</td></tr><tr><td>Jordon Bourke</td><td>Brisbane Lions</td><td>Defender</td></tr><tr><td>Chris Yarran</td><td>Carlton</td><td>Defender</td></tr><tr><td>Matthew Dick</td><td>Carlton</td><td>Defender</td></tr><tr><td>Tom Fields</td><td>Carlton</td><td>Defender</td></tr><tr><td>Tony Armstrong</td><td>Collingwood</td><td>Defender</td></tr><tr><td>Dustin Fletcher</td><td>Essendon</td><td>Defender</td></tr><tr><td>Ariel Steinberg</td><td>Essendon</td><td>Defender</td></tr><tr><td>Alex Browne</td><td>Essendon</td><td>Defender</td></tr><tr><td>Tayte Pears</td><td>Essendon</td><td>Defender</td></tr><tr><td>Paul Duffield</td><td>Fremantle</td><td>Defender</td></tr><tr><td>Luke McPharlin</td><td>Fremantle</td><td>Defender</td></tr><tr><td>Jared Rivers</td><td>Geelong</td><td>Defender</td></tr><tr><td>Greg Broughton</td><td>Gold Coast</td><td>Defender</td></tr><tr><td>Brian Lake</td><td>Hawthorn</td><td>Defender</td></tr><tr><td>Joel Tippett</td><td>North Melbourne</td><td>Defender</td></tr><tr><td>Scott McMahon</td><td>North Melbourne</td><td>Defender</td></tr><tr><td>Chris Newman</td><td>Richmond</td><td>Defender</td></tr><tr><td>Matt McDonough</td><td>Richmond</td><td>Defender</td></tr><tr><td>Cameron Shenton</td><td>St Kilda</td><td>Defender</td></tr><tr><td>Rhyce Shaw</td><td>Sydney</td><td>Defender</td></tr><tr><td>Brett Goodes</td><td>Western Bulldogs</td><td>Defender</td></tr><tr><td>Josh Prudden</td><td>Western Bulldogs</td><td>Defender</td></tr><tr><td>Sam Darley</td><td>Western Bulldogs</td><td>Defender</td></tr><tr><td>Ben Rutten</td><td>Adelaide</td><td>Defender</td></tr><tr><td>Brent Reilly</td><td>Adelaide</td><td>Defender</td></tr><tr><td>Luke Thompson</td><td>Adelaide</td><td>Defender</td></tr><tr><td>Andrew McInnes</td><td>Carlton</td><td>Defender</td></tr><tr><td>Heath Scotland</td><td>Carlton</td><td>Defender</td></tr><tr><td>Martin Clarke</td><td>Collingwood</td><td>Defender</td></tr><tr><td>Nick Maxwell</td><td>Collingwood</td><td>Defender</td></tr><tr><td>Kyle Hardingham</td><td>Essendon</td><td>Defender</td></tr><tr><td>Matthew Warnock</td><td>Gold Coast</td><td>Defender</td></tr><tr><td>Jack Hutchins</td><td>Gold Coast</td><td>Defender</td></tr><tr><td>Josh Hunt</td><td>Greater Western Sydney</td><td>Defender</td></tr><tr><td>Stephen Gilham</td><td>Greater Western Sydney</td><td>Defender</td></tr><tr><td>Tim Golds</td><td>Greater Western Sydney</td><td>Defender</td></tr><tr><td>Alex Georgiou</td><td>Melbourne</td><td>Defender</td></tr><tr><td>Dean Terlich</td><td>Melbourne</td><td>Defender</td></tr><tr><td>Daniel Nicholson</td><td>Melbourne</td><td>Defender</td></tr><tr><td>Max Warren</td><td>North Melbourne</td><td>Defender</td></tr><tr><td>Tom Logan</td><td>Port Adelaide</td><td>Defender</td></tr><tr><td>Darren Glass</td><td>West Coast</td><td>Defender</td></tr><tr><td>Jacob Brennan</td><td>West Coast</td><td>Defender</td></tr><tr><td>Ashley Smith</td><td>West Coast</td><td>Defender</td></tr><tr><td>Blayne Wilson</td><td>West Coast</td><td>Defender</td></tr><tr><td>Adam Carter</td><td>West Coast</td><td>Defender</td></tr><tr><td>Tom Young</td><td>Western Bulldogs</td><td>Defender</td></tr><tr><td>Christian Howard</td><td>Western Bulldogs</td><td>Defender</td></tr><tr><td>Mark Austin</td><td>Western Bulldogs</td><td>Defender</td></tr><tr><td>Richard Tambling</td><td>Adelaide</td><td>Defender</td></tr><tr><td>Niall McKeever</td><td>Brisbane Lions</td><td>Defender</td></tr><tr><td>Josh Bootsma</td><td>Carlton</td><td>Defender</td></tr><tr><td>Nick Duigan</td><td>Carlton</td><td>Defender</td></tr><tr><td>Aaron Joseph</td><td>Carlton</td><td>Defender</td></tr><tr><td>Marcus Davies</td><td>Carlton</td><td>Defender</td></tr><tr><td>Jordan Russell</td><td>Collingwood</td><td>Defender</td></tr><tr><td>Lauchlan Dalgleish</td><td>Essendon</td><td>Defender</td></tr><tr><td>Peter Faulks</td><td>Fremantle</td><td>Defender</td></tr><tr><td>Alex Forster</td><td>Fremantle</td><td>Defender</td></tr><tr><td>Jared Brennan</td><td>Gold Coast</td><td>Defender</td></tr><tr><td>Joel Wilkinson</td><td>Gold Coast</td><td>Defender</td></tr><tr><td>Jackson Allen</td><td>Gold Coast</td><td>Defender</td></tr><tr><td>Leigh Osborne</td><td>Gold Coast</td><td>Defender</td></tr><tr><td>Gerald Ugle</td><td>Greater Western Sydney</td><td>Defender</td></tr><tr><td>Brent Guerra</td><td>Hawthorn</td><td>Defender</td></tr><tr><td>Tom Gillies</td><td>Melbourne</td><td>Defender</td></tr><tr><td>James Strauss</td><td>Melbourne</td><td>Defender</td></tr><tr><td>Joel Macdonald</td><td>Melbourne</td><td>Defender</td></tr><tr><td>Mitch Clisby</td><td>Melbourne</td><td>Defender</td></tr><tr><td>Troy Davis</td><td>Melbourne</td><td>Defender</td></tr><tr><td>Taylor Hine</td><td>North Melbourne</td><td>Defender</td></tr><tr><td>Will Sierakowski</td><td>North Melbourne</td><td>Defender</td></tr><tr><td>Cameron Delaney</td><td>North Melbourne</td><td>Defender</td></tr><tr><td>Campbell Heath</td><td>Port Adelaide</td><td>Defender</td></tr><tr><td>Lewis Stevenson</td><td>Port Adelaide</td><td>Defender</td></tr><tr><td>Nathan Blee</td><td>Port Adelaide</td><td>Defender</td></tr><tr><td>Jason Blake</td><td>St Kilda</td><td>Defender</td></tr><tr><td>Martin Mattner</td><td>Sydney</td><td>Defender</td></tr><tr><td>Adam Selwood</td><td>West Coast</td><td>Defender</td></tr><tr><td>Beau Waters</td><td>West Coast</td><td>Defender</td></tr><tr><td>Patrick Veszpremi</td><td>Western Bulldogs</td><td>Defender</td></tr><tr><td>Lukas Markovic</td><td>Western Bulldogs</td><td>Defender</td></tr><tr><td>Michael Doughty</td><td>Adelaide</td><td>Defender</td></tr><tr><td>Cheynee Stiller</td><td>Brisbane Lions</td><td>Defender</td></tr><tr><td>Josh Drummond</td><td>Brisbane Lions</td><td>Defender</td></tr><tr><td>James Hawksley</td><td>Brisbane Lions</td><td>Defender</td></tr><tr><td>Stephen Wrigley</td><td>Brisbane Lions</td><td>Defender</td></tr><tr><td>Paul Bower</td><td>Carlton</td><td>Defender</td></tr><tr><td>Rhys OKeeffe</td><td>Carlton</td><td>Defender</td></tr><tr><td>Pat McCarthy</td><td>Carlton</td><td>Defender</td></tr><tr><td>Peter Yagmoor</td><td>Collingwood</td><td>Defender</td></tr><tr><td>Chris Tarrant</td><td>Collingwood</td><td>Defender</td></tr><tr><td>Simon Buckley</td><td>Collingwood</td><td>Defender</td></tr><tr><td>Henry Slattery</td><td>Essendon</td><td>Defender</td></tr><tr><td>Jayden Pitt</td><td>Fremantle</td><td>Defender</td></tr><tr><td>Antoni Grover</td><td>Fremantle</td><td>Defender</td></tr><tr><td>Matthew Scarlett</td><td>Geelong</td><td>Defender</td></tr><tr><td>David Wojcinski</td><td>Geelong</td><td>Defender</td></tr><tr><td>Jeremy Taylor</td><td>Gold Coast</td><td>Defender</td></tr><tr><td>Josh Toy</td><td>Gold Coast</td><td>Defender</td></tr><tr><td>Michael Coad</td><td>Gold Coast</td><td>Defender</td></tr><tr><td>Chad Cornes</td><td>Greater Western Sydney</td><td>Defender</td></tr><tr><td>Clint Bartram</td><td>Melbourne</td><td>Defender</td></tr><tr><td>Josh Tynan</td><td>Melbourne</td><td>Defender</td></tr><tr><td>Jacob Surjan</td><td>Port Adelaide</td><td>Defender</td></tr><tr><td>Daniel Connors</td><td>Richmond</td><td>Defender</td></tr><tr><td>Kelvin Moore</td><td>Richmond</td><td>Defender</td></tr><tr><td>Jeromey Webberley</td><td>Richmond</td><td>Defender</td></tr><tr><td>Jason Gram</td><td>St Kilda</td><td>Defender</td></tr><tr><td>Raphael Clarke</td><td>St Kilda</td><td>Defender</td></tr><tr><td>Ryan Hargrave</td><td>Western Bulldogs</td><td>Defender</td></tr><tr><td>Lindsay Gilbee</td><td>Western Bulldogs</td><td>Defender</td></tr><tr><td>James Aish</td><td>Collingwood</td><td>Defender</td></tr><tr><td>Brendon Goddard</td><td>Essendon</td><td>Defender</td></tr><tr><td>Andrew McGrath</td><td>Essendon</td><td>Defender</td></tr><tr><td>Lachie Weller</td><td>Gold Coast</td><td>Defender</td></tr><tr><td>Corey Ellis</td><td>Richmond</td><td>Defender</td></tr><tr><td>James Kelly</td><td>Essendon</td><td>Defender</td></tr><tr><td>Declan Mountford</td><td>North Melbourne</td><td>Defender</td></tr><tr><td>Nathan van Berlo</td><td>Adelaide</td><td>Defender</td></tr><tr><td>Clancee Pearce</td><td>Fremantle</td><td>Defender</td></tr><tr><td>Jimmy Bartel</td><td>Geelong</td><td>Defender</td></tr><tr><td>Brad McKenzie</td><td>North Melbourne</td><td>Defender</td></tr><tr><td>Clinton Young</td><td>Collingwood</td><td>Defender</td></tr><tr><td>Mark McVeigh</td><td>Essendon</td><td>Defender</td></tr><tr><td>Will Hamill</td><td>Adelaide Crows</td><td>Defender</td></tr><tr><td>Andrew McPherson</td><td>Adelaide Crows</td><td>Defender</td></tr><tr><td>Lachlan Sholl</td><td>Adelaide Crows</td><td>Defender</td></tr><tr><td>Noah Answerth</td><td>Brisbane Lions</td><td>Defender</td></tr><tr><td>James Madden</td><td>Brisbane Lions</td><td>Defender</td></tr><tr><td>Liam Stocker</td><td>Carlton</td><td>Defender</td></tr><tr><td>Isaac Quaynor</td><td>Collingwood</td><td>Defender</td></tr><tr><td>John Noble</td><td>Collingwood</td><td>Defender</td></tr><tr><td>Jason Carter</td><td>Fremantle</td><td>Defender</td></tr><tr><td>Oscar Brownless</td><td>Geelong Cats</td><td>Defender</td></tr><tr><td>Stefan Okunbor</td><td>Geelong Cats</td><td>Defender</td></tr><tr><td>Jez McLennan</td><td>Gold Coast Suns</td><td>Defender</td></tr><tr><td>Harrison Wigg</td><td>Gold Coast Suns</td><td>Defender</td></tr><tr><td>Jake Stein</td><td>GWS Giants</td><td>Defender</td></tr><tr><td>Callum M Brown</td><td>GWS Giants</td><td>Defender</td></tr><tr><td>Damon Greaves</td><td>Hawthorn</td><td>Defender</td></tr><tr><td>Guy Walker</td><td>Melbourne</td><td>Defender</td></tr><tr><td>Joel Crocker</td><td>North Melbourne</td><td>Defender</td></tr><tr><td>Joel Garner</td><td>Port Adelaide</td><td>Defender</td></tr><tr><td>Martin Frederick</td><td>Port Adelaide</td><td>Defender</td></tr><tr><td>Cam Hewett</td><td>Port Adelaide</td><td>Defender</td></tr><tr><td>Sydney Stack</td><td>Richmond</td><td>Defender</td></tr><tr><td>Derek Eggmolesse-Smith</td><td>Richmond</td><td>Defender</td></tr><tr><td>Doulton Langlands</td><td>St Kilda</td><td>Defender</td></tr><tr><td>Matthew Ling</td><td>Sydney Swans</td><td>Defender</td></tr><tr><td>Harry Reynolds</td><td>Sydney Swans</td><td>Defender</td></tr><tr><td>Durak Tucker</td><td>Sydney Swans</td><td>Defender</td></tr><tr><td>Josh Rotham</td><td>West Coast Eagles</td><td>Defender</td></tr><tr><td>Francis Watson</td><td>West Coast Eagles</td><td>Defender</td></tr><tr><td>Luke Foley</td><td>West Coast Eagles</td><td>Defender</td></tr><tr><td>Brodie Riach</td><td>West Coast Eagles</td><td>Defender</td></tr><tr><td>Laitham Vandermeer</td><td>Western Bulldogs</td><td>Defender</td></tr><tr><td>Jack Silvagni</td><td>Carlton</td><td>Forward</td></tr><tr><td>Darcy Moore</td><td>Collingwood</td><td>Forward</td></tr><tr><td>Jackson Merrett</td><td>Essendon</td><td>Forward</td></tr><tr><td>Callum Ah Chee</td><td>Gold Coast</td><td>Forward</td></tr><tr><td>Jacob Heron</td><td>Gold Coast</td><td>Forward</td></tr><tr><td>Sam J Reid</td><td>Greater Western Sydney</td><td>Forward</td></tr><tr><td>Jarman Impey</td><td>Hawthorn</td><td>Forward</td></tr><tr><td>Robbie Fox</td><td>Sydney</td><td>Forward</td></tr><tr><td>Brad Lynch</td><td>Western Bulldogs</td><td>Forward</td></tr><tr><td>Liam Dawson</td><td>Brisbane Lions</td><td>Forward</td></tr><tr><td>Andrew Walker</td><td>Carlton</td><td>Forward</td></tr><tr><td>Kristian Jaksch</td><td>Carlton</td><td>Forward</td></tr><tr><td>Clay Cameron</td><td>Gold Coast</td><td>Forward</td></tr><tr><td>Jed Adcock</td><td>Western Bulldogs</td><td>Forward</td></tr><tr><td>Jaden McGrath</td><td>Brisbane Lions</td><td>Forward</td></tr><tr><td>Clem Smith</td><td>Carlton</td><td>Forward</td></tr><tr><td>Matthew Watson</td><td>Carlton</td><td>Forward</td></tr><tr><td>Jason Winderlich</td><td>Essendon</td><td>Forward</td></tr><tr><td>Tom Simpkin</td><td>St Kilda</td><td>Forward</td></tr><tr><td>Lewis Roberts-Thomson</td><td>Sydney</td><td>Forward</td></tr><tr><td>Graham Johncock</td><td>Adelaide</td><td>Forward</td></tr><tr><td>Bret Thornton</td><td>Greater Western Sydney</td><td>Forward</td></tr><tr><td>James Sellar</td><td>Melbourne</td><td>Forward</td></tr><tr><td>Jackson Ferguson</td><td>St Kilda</td><td>Forward</td></tr><tr><td>Jayden Post</td><td>Richmond</td><td>Forward</td></tr><tr><td>Eddie Betts</td><td>Adelaide</td><td>Forward</td></tr><tr><td>Darcy Fogarty</td><td>Adelaide</td><td>Forward</td></tr><tr><td>Josh Jenkins</td><td>Adelaide</td><td>Forward</td></tr><tr><td>Mitch McGovern</td><td>Adelaide</td><td>Forward</td></tr><tr><td>Lachlan Murphy</td><td>Adelaide</td><td>Forward</td></tr><tr><td>Taylor Walker</td><td>Adelaide</td><td>Forward</td></tr><tr><td>Tom T Lynch</td><td>Adelaide</td><td>Forward</td></tr><tr><td>Jordan Gallucci</td><td>Adelaide</td><td>Forward</td></tr><tr><td>Myles Poholke</td><td>Adelaide</td><td>Forward</td></tr><tr><td>Elliott Himmelberg</td><td>Adelaide</td><td>Forward</td></tr><tr><td>Tom Bell</td><td>Brisbane Lions</td><td>Forward</td></tr><tr><td>Charlie Cameron</td><td>Brisbane Lions</td><td>Forward</td></tr><tr><td>Allen Christensen</td><td>Brisbane Lions</td><td>Forward</td></tr><tr><td>Eric Hipwood</td><td>Brisbane Lions</td><td>Forward</td></tr><tr><td>Daniel McStay</td><td>Brisbane Lions</td><td>Forward</td></tr><tr><td>Cameron Rayner</td><td>Brisbane Lions</td><td>Forward</td></tr><tr><td>Lewis Taylor</td><td>Brisbane Lions</td><td>Forward</td></tr><tr><td>Oscar McInerney</td><td>Brisbane Lions</td><td>Forward</td></tr><tr><td>Jake Barrett</td><td>Brisbane Lions</td><td>Forward</td></tr><tr><td>Levi Casboult</td><td>Carlton</td><td>Forward</td></tr><tr><td>Charlie Curnow</td><td>Carlton</td><td>Forward</td></tr><tr><td>Jarrod Garlett</td><td>Carlton</td><td>Forward</td></tr><tr><td>Jed Lamb</td><td>Carlton</td><td>Forward</td></tr><tr><td>Sam Petrevski-Seton</td><td>Carlton</td><td>Forward</td></tr><tr><td>Matthew Wright</td><td>Carlton</td><td>Forward</td></tr><tr><td>Cameron Polson</td><td>Carlton</td><td>Forward</td></tr><tr><td>Harry McKay</td><td>Carlton</td><td>Forward</td></tr><tr><td>Pat Kerr</td><td>Carlton</td><td>Forward</td></tr><tr><td>Jarrod Pickett</td><td>Carlton</td><td>Forward</td></tr><tr><td>Mason Cox</td><td>Collingwood</td><td>Forward</td></tr><tr><td>Ben Crocker</td><td>Collingwood</td><td>Forward</td></tr><tr><td>Will Hoskin-Elliott</td><td>Collingwood</td><td>Forward</td></tr><tr><td>Ben Reid</td><td>Collingwood</td><td>Forward</td></tr><tr><td>Josh Smith</td><td>Collingwood</td><td>Forward</td></tr><tr><td>Jaidyn Stephenson</td><td>Collingwood</td><td>Forward</td></tr><tr><td>Josh Thomas</td><td>Collingwood</td><td>Forward</td></tr><tr><td>Travis Varcoe</td><td>Collingwood</td><td>Forward</td></tr><tr><td>Callum Brown</td><td>Collingwood</td><td>Forward</td></tr><tr><td>Jordan de Goey</td><td>Collingwood</td><td>Forward</td></tr><tr><td>Jarryd Blair</td><td>Collingwood</td><td>Forward</td></tr><tr><td>Daniel Wells</td><td>Collingwood</td><td>Forward</td></tr><tr><td>Alex Fasolo</td><td>Collingwood</td><td>Forward</td></tr><tr><td>Josh Daicos</td><td>Collingwood</td><td>Forward</td></tr><tr><td>Brody Mihocek</td><td>Collingwood</td><td>Forward</td></tr><tr><td>Josh Begley</td><td>Essendon</td><td>Forward</td></tr><tr><td>Mitch Brown</td><td>Essendon</td><td>Forward</td></tr><tr><td>Joe Daniher</td><td>Essendon</td><td>Forward</td></tr><tr><td>Josh Green</td><td>Essendon</td><td>Forward</td></tr><tr><td>Anthony McDonald-Tipungwuti</td><td>Essendon</td><td>Forward</td></tr><tr><td>James Stewart</td><td>Essendon</td><td>Forward</td></tr><tr><td>Jake Stringer</td><td>Essendon</td><td>Forward</td></tr><tr><td>Mark Baguley</td><td>Essendon</td><td>Forward</td></tr><tr><td>Orazio Fantasia</td><td>Essendon</td><td>Forward</td></tr><tr><td>Jayden Laverde</td><td>Essendon</td><td>Forward</td></tr><tr><td>Shaun McKernan</td><td>Essendon</td><td>Forward</td></tr><tr><td>Hayden Ballantyne</td><td>Fremantle</td><td>Forward</td></tr><tr><td>Brandon Matera</td><td>Fremantle</td><td>Forward</td></tr><tr><td>Cam McCarthy</td><td>Fremantle</td><td>Forward</td></tr><tr><td>Danyle Pearce</td><td>Fremantle</td><td>Forward</td></tr><tr><td>Matthew Taberner</td><td>Fremantle</td><td>Forward</td></tr><tr><td>Adam Cerra</td><td>Fremantle</td><td>Forward</td></tr><tr><td>Mitch Crowden</td><td>Fremantle</td><td>Forward</td></tr><tr><td>Brennan Cox</td><td>Fremantle</td><td>Forward</td></tr><tr><td>Stefan Giro</td><td>Fremantle</td><td>Forward</td></tr><tr><td>Brady Grey</td><td>Fremantle</td><td>Forward</td></tr><tr><td>Sam Switkowski</td><td>Fremantle</td><td>Forward</td></tr><tr><td>Lachie Fogarty</td><td>Geelong</td><td>Forward</td></tr><tr><td>Cory Gregson</td><td>Geelong</td><td>Forward</td></tr><tr><td>Tom Hawkins</td><td>Geelong</td><td>Forward</td></tr><tr><td>Daniel Menzel</td><td>Geelong</td><td>Forward</td></tr><tr><td>Brandan Parfitt</td><td>Geelong</td><td>Forward</td></tr><tr><td>James Parsons</td><td>Geelong</td><td>Forward</td></tr><tr><td>Esava Ratugolea</td><td>Geelong</td><td>Forward</td></tr><tr><td>Nakia Cockatoo</td><td>Geelong</td><td>Forward</td></tr><tr><td>Stewart Crameri</td><td>Geelong</td><td>Forward</td></tr><tr><td>Aaron Black</td><td>Geelong</td><td>Forward</td></tr><tr><td>Jamaine Jones</td><td>Geelong</td><td>Forward</td></tr><tr><td>Wylie Buzza</td><td>Geelong</td><td>Forward</td></tr><tr><td>Lincoln McCarthy</td><td>Geelong</td><td>Forward</td></tr><tr><td>Quinton Narkle</td><td>Geelong</td><td>Forward</td></tr><tr><td>Ben Ainsworth</td><td>Gold Coast</td><td>Forward</td></tr><tr><td>Sam Day</td><td>Gold Coast</td><td>Forward</td></tr><tr><td>Nick Holman</td><td>Gold Coast</td><td>Forward</td></tr><tr><td>Tom J Lynch</td><td>Gold Coast</td><td>Forward</td></tr><tr><td>Darcy Macpherson</td><td>Gold Coast</td><td>Forward</td></tr><tr><td>Alex Sexton</td><td>Gold Coast</td><td>Forward</td></tr><tr><td>Aaron Young</td><td>Gold Coast</td><td>Forward</td></tr><tr><td>Brayden Crossley</td><td>Gold Coast</td><td>Forward</td></tr><tr><td>Brad Scheer</td><td>Gold Coast</td><td>Forward</td></tr><tr><td>Sean Lemmens</td><td>Gold Coast</td><td>Forward</td></tr><tr><td>Peter Wright</td><td>Gold Coast</td><td>Forward</td></tr><tr><td>Wil Powell</td><td>Gold Coast</td><td>Forward</td></tr><tr><td>Jeremy Cameron</td><td>Greater Western Sydney</td><td>Forward</td></tr><tr><td>Toby Greene</td><td>Greater Western Sydney</td><td>Forward</td></tr><tr><td>Harry Himmelberg</td><td>Greater Western Sydney</td><td>Forward</td></tr><tr><td>Zac Langdon</td><td>Greater Western Sydney</td><td>Forward</td></tr><tr><td>Daniel Lloyd</td><td>Greater Western Sydney</td><td>Forward</td></tr><tr><td>Matt de Boer</td><td>Greater Western Sydney</td><td>Forward</td></tr><tr><td>Dylan Buckley</td><td>Greater Western Sydney</td><td>Forward</td></tr><tr><td>Brent Daniels</td><td>Greater Western Sydney</td><td>Forward</td></tr><tr><td>Luke Breust</td><td>Hawthorn</td><td>Forward</td></tr><tr><td>Jack Gunston</td><td>Hawthorn</td><td>Forward</td></tr><tr><td>Tim OBrien</td><td>Hawthorn</td><td>Forward</td></tr><tr><td>Paul Puopolo</td><td>Hawthorn</td><td>Forward</td></tr><tr><td>Cyril Rioli</td><td>Hawthorn</td><td>Forward</td></tr><tr><td>Jarryd Roughead</td><td>Hawthorn</td><td>Forward</td></tr><tr><td>Ryan Schoenmakers</td><td>Hawthorn</td><td>Forward</td></tr><tr><td>Brendan Whitecross</td><td>Hawthorn</td><td>Forward</td></tr><tr><td>Mitch Lewis</td><td>Hawthorn</td><td>Forward</td></tr><tr><td>Conor Nash</td><td>Hawthorn</td><td>Forward</td></tr><tr><td>Jeff Garlett</td><td>Melbourne</td><td>Forward</td></tr><tr><td>Mitch Hannan</td><td>Melbourne</td><td>Forward</td></tr><tr><td>Jesse Hogan</td><td>Melbourne</td><td>Forward</td></tr><tr><td>Jake Melksham</td><td>Melbourne</td><td>Forward</td></tr><tr><td>Alex Neal-Bullen</td><td>Melbourne</td><td>Forward</td></tr><tr><td>Dean Kent</td><td>Melbourne</td><td>Forward</td></tr><tr><td>Sam Weideman</td><td>Melbourne</td><td>Forward</td></tr><tr><td>Tom McDonald</td><td>Melbourne</td><td>Forward</td></tr><tr><td>Charlie Spargo</td><td>Melbourne</td><td>Forward</td></tr><tr><td>Tim Smith</td><td>Melbourne</td><td>Forward</td></tr><tr><td>Shaun Atley</td><td>North Melbourne</td><td>Forward</td></tr><tr><td>Ben Brown</td><td>North Melbourne</td><td>Forward</td></tr><tr><td>Nathan Hrovat</td><td>North Melbourne</td><td>Forward</td></tr><tr><td>Jy Simpkin</td><td>North Melbourne</td><td>Forward</td></tr><tr><td>Kayne Turner</td><td>North Melbourne</td><td>Forward</td></tr><tr><td>Jarrad Waite</td><td>North Melbourne</td><td>Forward</td></tr><tr><td>Jack Ziebell</td><td>North Melbourne</td><td>Forward</td></tr><tr><td>Cameron Zurhaar</td><td>North Melbourne</td><td>Forward</td></tr><tr><td>Mason Wood</td><td>North Melbourne</td><td>Forward</td></tr><tr><td>Will Walker</td><td>North Melbourne</td><td>Forward</td></tr><tr><td>Travis Boak</td><td>Port Adelaide</td><td>Forward</td></tr><tr><td>Charlie Dixon</td><td>Port Adelaide</td><td>Forward</td></tr><tr><td>Sam Gray</td><td>Port Adelaide</td><td>Forward</td></tr><tr><td>Todd Marshall</td><td>Port Adelaide</td><td>Forward</td></tr><tr><td>Jack Watts</td><td>Port Adelaide</td><td>Forward</td></tr><tr><td>Jake Neade</td><td>Port Adelaide</td><td>Forward</td></tr><tr><td>Lindsay Thomas</td><td>Port Adelaide</td><td>Forward</td></tr><tr><td>Aidyn Johnson</td><td>Port Adelaide</td><td>Forward</td></tr><tr><td>Kane Farrell</td><td>Port Adelaide</td><td>Forward</td></tr><tr><td>Shai Bolton</td><td>Richmond</td><td>Forward</td></tr><tr><td>Dan Butler</td><td>Richmond</td><td>Forward</td></tr><tr><td>Josh Caddy</td><td>Richmond</td><td>Forward</td></tr><tr><td>Jason Castagna</td><td>Richmond</td><td>Forward</td></tr><tr><td>Kane Lambert</td><td>Richmond</td><td>Forward</td></tr><tr><td>Jack Riewoldt</td><td>Richmond</td><td>Forward</td></tr><tr><td>Jacob Townsend</td><td>Richmond</td><td>Forward</td></tr><tr><td>Jack Higgins</td><td>Richmond</td><td>Forward</td></tr><tr><td>Callum Moore</td><td>Richmond</td><td>Forward</td></tr><tr><td>Daniel Rioli</td><td>Richmond</td><td>Forward</td></tr><tr><td>Liam Baker</td><td>Richmond</td><td>Forward</td></tr><tr><td>Jack Billings</td><td>St Kilda</td><td>Forward</td></tr><tr><td>Josh Bruce</td><td>St Kilda</td><td>Forward</td></tr><tr><td>Jade Gresham</td><td>St Kilda</td><td>Forward</td></tr><tr><td>Ben Long</td><td>St Kilda</td><td>Forward</td></tr><tr><td>Paddy McCartin</td><td>St Kilda</td><td>Forward</td></tr><tr><td>Tim Membrey</td><td>St Kilda</td><td>Forward</td></tr><tr><td>Rowan Marshall</td><td>St Kilda</td><td>Forward</td></tr><tr><td>Nathan Wright</td><td>St Kilda</td><td>Forward</td></tr><tr><td>Jack Lonie</td><td>St Kilda</td><td>Forward</td></tr><tr><td>Maverick Weller</td><td>St Kilda</td><td>Forward</td></tr><tr><td>Josh Battle</td><td>St Kilda</td><td>Forward</td></tr><tr><td>Lance Franklin</td><td>Sydney</td><td>Forward</td></tr><tr><td>Will Hayward</td><td>Sydney</td><td>Forward</td></tr><tr><td>Tom Papley</td><td>Sydney</td><td>Forward</td></tr><tr><td>Dean Towers</td><td>Sydney</td><td>Forward</td></tr><tr><td>Gary Rohan</td><td>Sydney</td><td>Forward</td></tr><tr><td>Sam Reid</td><td>Sydney</td><td>Forward</td></tr><tr><td>Dan Robinson</td><td>Sydney</td><td>Forward</td></tr><tr><td>Ben Ronke</td><td>Sydney</td><td>Forward</td></tr><tr><td>Tom McCartin</td><td>Sydney</td><td>Forward</td></tr><tr><td>Ryley Stoddart</td><td>Sydney</td><td>Forward</td></tr><tr><td>James Rose</td><td>Sydney</td><td>Forward</td></tr><tr><td>Jamie Cripps</td><td>West Coast</td><td>Forward</td></tr><tr><td>Jack Darling</td><td>West Coast</td><td>Forward</td></tr><tr><td>Mark LeCras</td><td>West Coast</td><td>Forward</td></tr><tr><td>Liam Ryan</td><td>West Coast</td><td>Forward</td></tr><tr><td>Daniel Venables</td><td>West Coast</td><td>Forward</td></tr><tr><td>Jake Waterman</td><td>West Coast</td><td>Forward</td></tr><tr><td>Willie Rioli</td><td>West Coast</td><td>Forward</td></tr><tr><td>Josh J Kennedy</td><td>West Coast</td><td>Forward</td></tr><tr><td>Jack Petruccelle</td><td>West Coast</td><td>Forward</td></tr><tr><td>Brendon Ah Chee</td><td>West Coast</td><td>Forward</td></tr><tr><td>Jarrod Brander</td><td>West Coast</td><td>Forward</td></tr><tr><td>Billy Gowers</td><td>Western Bulldogs</td><td>Forward</td></tr><tr><td>Mitch Honeychurch</td><td>Western Bulldogs</td><td>Forward</td></tr><tr><td>Caleb Daniel</td><td>Western Bulldogs</td><td>Forward</td></tr><tr><td>Lukas Webb</td><td>Western Bulldogs</td><td>Forward</td></tr><tr><td>Tory Dickson</td><td>Western Bulldogs</td><td>Forward</td></tr><tr><td>Jack Redpath</td><td>Western Bulldogs</td><td>Forward</td></tr><tr><td>Josh Schache</td><td>Western Bulldogs</td><td>Forward</td></tr><tr><td>Fergus Greene</td><td>Western Bulldogs</td><td>Forward</td></tr><tr><td>Troy Menzel</td><td>Adelaide</td><td>Forward</td></tr><tr><td>Jonathon Beech</td><td>Adelaide</td><td>Forward</td></tr><tr><td>Michael Close</td><td>Brisbane Lions</td><td>Forward</td></tr><tr><td>Dennis Armfield</td><td>Carlton</td><td>Forward</td></tr><tr><td>Rhys Palmer</td><td>Carlton</td><td>Forward</td></tr><tr><td>Liam Sumner</td><td>Carlton</td><td>Forward</td></tr><tr><td>Jesse White</td><td>Collingwood</td><td>Forward</td></tr><tr><td>Jamie Elliott</td><td>Collingwood</td><td>Forward</td></tr><tr><td>Kayle Kirby</td><td>Collingwood</td><td>Forward</td></tr><tr><td>Ryan Davis</td><td>Gold Coast</td><td>Forward</td></tr><tr><td>Jarrad Grant</td><td>Gold Coast</td><td>Forward</td></tr><tr><td>Steve Johnson</td><td>Greater Western Sydney</td><td>Forward</td></tr><tr><td>Ty Vickery</td><td>Hawthorn</td><td>Forward</td></tr><tr><td>Kade Stewart</td><td>Hawthorn</td><td>Forward</td></tr><tr><td>Taylor Garner</td><td>North Melbourne</td><td>Forward</td></tr><tr><td>Nick Larkey</td><td>North Melbourne</td><td>Forward</td></tr><tr><td>Brett Eddy</td><td>Port Adelaide</td><td>Forward</td></tr><tr><td>Angus Monfries</td><td>Port Adelaide</td><td>Forward</td></tr><tr><td>Ben Griffiths</td><td>Richmond</td><td>Forward</td></tr><tr><td>Ben Lennon</td><td>Richmond</td><td>Forward</td></tr><tr><td>Todd Elton</td><td>Richmond</td><td>Forward</td></tr><tr><td>Tyson Stengle</td><td>Richmond</td><td>Forward</td></tr><tr><td>Nick Riewoldt</td><td>St Kilda</td><td>Forward</td></tr><tr><td>Josh Hill</td><td>West Coast</td><td>Forward</td></tr><tr><td>Drew Petrie</td><td>West Coast</td><td>Forward</td></tr><tr><td>Malcolm Karpany</td><td>West Coast</td><td>Forward</td></tr><tr><td>Luke Partington</td><td>West Coast</td><td>Forward</td></tr><tr><td>Travis Cloke</td><td>Western Bulldogs</td><td>Forward</td></tr><tr><td>Liam Picken</td><td>Western Bulldogs</td><td>Forward</td></tr><tr><td>Clay Smith</td><td>Western Bulldogs</td><td>Forward</td></tr><tr><td>Jonathan Freeman</td><td>Brisbane Lions</td><td>Forward</td></tr><tr><td>Jackson Paine</td><td>Brisbane Lions</td><td>Forward</td></tr><tr><td>Andrejs Everitt</td><td>Carlton</td><td>Forward</td></tr><tr><td>Corey Gault</td><td>Collingwood</td><td>Forward</td></tr><tr><td>Adam Cooney</td><td>Essendon</td><td>Forward</td></tr><tr><td>Nick Kommer</td><td>Essendon</td><td>Forward</td></tr><tr><td>Will Hams</td><td>Essendon</td><td>Forward</td></tr><tr><td>Matthew Pavlich</td><td>Fremantle</td><td>Forward</td></tr><tr><td>Matthew de Boer</td><td>Fremantle</td><td>Forward</td></tr><tr><td>Shane Yarran</td><td>Fremantle</td><td>Forward</td></tr><tr><td>Mitch Clark</td><td>Geelong</td><td>Forward</td></tr><tr><td>Harrison Himmelberg</td><td>Greater Western Sydney</td><td>Forward</td></tr><tr><td>Matt Jones</td><td>Melbourne</td><td>Forward</td></tr><tr><td>Ben Kennedy</td><td>Melbourne</td><td>Forward</td></tr><tr><td>Chris Dawes</td><td>Melbourne</td><td>Forward</td></tr><tr><td>Brent Harvey</td><td>North Melbourne</td><td>Forward</td></tr><tr><td>Robin Nahas</td><td>North Melbourne</td><td>Forward</td></tr><tr><td>Jay Schulz</td><td>Port Adelaide</td><td>Forward</td></tr><tr><td>Paul Stewart</td><td>Port Adelaide</td><td>Forward</td></tr><tr><td>John Butcher</td><td>Port Adelaide</td><td>Forward</td></tr><tr><td>Jesse Palmer</td><td>Port Adelaide</td><td>Forward</td></tr><tr><td>Liam McBean</td><td>Richmond</td><td>Forward</td></tr><tr><td>Nathan Drummond</td><td>Richmond</td><td>Forward</td></tr><tr><td>Mabior Chol</td><td>Richmond</td><td>Forward</td></tr><tr><td>Eli Templeton</td><td>St Kilda</td><td>Forward</td></tr><tr><td>Brodie Murdoch</td><td>St Kilda</td><td>Forward</td></tr><tr><td>Ben McGlynn</td><td>Sydney</td><td>Forward</td></tr><tr><td>Patrick McGinnity</td><td>West Coast</td><td>Forward</td></tr><tr><td>Simon Tunbridge</td><td>West Coast</td><td>Forward</td></tr><tr><td>Brent Staker</td><td>Brisbane Lions</td><td>Forward</td></tr><tr><td>Luke McGuane</td><td>Brisbane Lions</td><td>Forward</td></tr><tr><td>David Ellard</td><td>Carlton</td><td>Forward</td></tr><tr><td>Blaine Johnson</td><td>Carlton</td><td>Forward</td></tr><tr><td>Patrick Karnezis</td><td>Collingwood</td><td>Forward</td></tr><tr><td>Paul Chapman</td><td>Essendon</td><td>Forward</td></tr><tr><td>Max Duffy</td><td>Fremantle</td><td>Forward</td></tr><tr><td>Michael Luxford</td><td>Geelong</td><td>Forward</td></tr><tr><td>Danny Stanley</td><td>Gold Coast</td><td>Forward</td></tr><tr><td>Josh Hall</td><td>Gold Coast</td><td>Forward</td></tr><tr><td>Nathan Gordon</td><td>Richmond</td><td>Forward</td></tr><tr><td>Chris Knights</td><td>Richmond</td><td>Forward</td></tr><tr><td>Ahmed Saad</td><td>St Kilda</td><td>Forward</td></tr><tr><td>Adam Schneider</td><td>St Kilda</td><td>Forward</td></tr><tr><td>Tom Curren</td><td>St Kilda</td><td>Forward</td></tr><tr><td>Josh Saunders</td><td>St Kilda</td><td>Forward</td></tr><tr><td>Adam Goodes</td><td>Sydney</td><td>Forward</td></tr><tr><td>Tom Lamb</td><td>West Coast</td><td>Forward</td></tr><tr><td>Murray Newman</td><td>West Coast</td><td>Forward</td></tr><tr><td>Lewis Johnston</td><td>Adelaide</td><td>Forward</td></tr><tr><td>James Podsiadly</td><td>Adelaide</td><td>Forward</td></tr><tr><td>Jason Porplyzia</td><td>Adelaide</td><td>Forward</td></tr><tr><td>Jared Petrenko</td><td>Adelaide</td><td>Forward</td></tr><tr><td>Jonathan Brown</td><td>Brisbane Lions</td><td>Forward</td></tr><tr><td>Jordan Lisle</td><td>Brisbane Lions</td><td>Forward</td></tr><tr><td>Ashley McGrath</td><td>Brisbane Lions</td><td>Forward</td></tr><tr><td>Leroy Jetta</td><td>Essendon</td><td>Forward</td></tr><tr><td>Cory DellOlio</td><td>Essendon</td><td>Forward</td></tr><tr><td>Colin Sylvia</td><td>Fremantle</td><td>Forward</td></tr><tr><td>George Burbury</td><td>Geelong</td><td>Forward</td></tr><tr><td>Timmy Sumner</td><td>Gold Coast</td><td>Forward</td></tr><tr><td>Louis Herbert</td><td>Gold Coast</td><td>Forward</td></tr><tr><td>Dylan Addison</td><td>Greater Western Sydney</td><td>Forward</td></tr><tr><td>Shannon Byrnes</td><td>Melbourne</td><td>Forward</td></tr><tr><td>Luke Tapscott</td><td>Melbourne</td><td>Forward</td></tr><tr><td>Leigh Adams</td><td>North Melbourne</td><td>Forward</td></tr><tr><td>Jake King</td><td>Richmond</td><td>Forward</td></tr><tr><td>Aaron Edwards</td><td>Richmond</td><td>Forward</td></tr><tr><td>Brett OHanlon</td><td>Richmond</td><td>Forward</td></tr><tr><td>Beau Maister</td><td>St Kilda</td><td>Forward</td></tr><tr><td>Arryn Siposs</td><td>St Kilda</td><td>Forward</td></tr><tr><td>Terry Milera</td><td>St Kilda</td><td>Forward</td></tr><tr><td>Trent Dennis-Lane</td><td>St Kilda</td><td>Forward</td></tr><tr><td>Spencer White</td><td>St Kilda</td><td>Forward</td></tr><tr><td>Daniel Giansiracusa</td><td>Western Bulldogs</td><td>Forward</td></tr><tr><td>Tom Williams</td><td>Western Bulldogs</td><td>Forward</td></tr><tr><td>Ian Callinan</td><td>Adelaide</td><td>Forward</td></tr><tr><td>Aaron Cornelius</td><td>Brisbane Lions</td><td>Forward</td></tr><tr><td>Quinten Lynch</td><td>Collingwood</td><td>Forward</td></tr><tr><td>Andrew Krakouer</td><td>Collingwood</td><td>Forward</td></tr><tr><td>Caolan Mooney</td><td>Collingwood</td><td>Forward</td></tr><tr><td>Alan Didak</td><td>Collingwood</td><td>Forward</td></tr><tr><td>Alwyn Davey</td><td>Essendon</td><td>Forward</td></tr><tr><td>Scott Gumbleton</td><td>Essendon</td><td>Forward</td></tr><tr><td>Kepler Bradley</td><td>Fremantle</td><td>Forward</td></tr><tr><td>Josh Mellington</td><td>Fremantle</td><td>Forward</td></tr><tr><td>Campbell Brown</td><td>Gold Coast</td><td>Forward</td></tr><tr><td>Liam Patrick</td><td>Gold Coast</td><td>Forward</td></tr><tr><td>Jacob Gillbee</td><td>Gold Coast</td><td>Forward</td></tr><tr><td>Nathan Bock</td><td>Gold Coast</td><td>Forward</td></tr><tr><td>Michael Osborne</td><td>Hawthorn</td><td>Forward</td></tr><tr><td>Aaron Davey</td><td>Melbourne</td><td>Forward</td></tr><tr><td>Kieran Harper</td><td>North Melbourne</td><td>Forward</td></tr><tr><td>Daniel Stewart</td><td>Port Adelaide</td><td>Forward</td></tr><tr><td>Cameron Hitchcock</td><td>Port Adelaide</td><td>Forward</td></tr><tr><td>Stephen Milne</td><td>St Kilda</td><td>Forward</td></tr><tr><td>Justin Koschitzke</td><td>St Kilda</td><td>Forward</td></tr><tr><td>Mitch Morton</td><td>Sydney</td><td>Forward</td></tr><tr><td>Tommy Walsh</td><td>Sydney</td><td>Forward</td></tr><tr><td>Ashton Hams</td><td>West Coast</td><td>Forward</td></tr><tr><td>Tim McIntyre</td><td>Adelaide</td><td>Forward</td></tr><tr><td>Todd Banfield</td><td>Brisbane Lions</td><td>Forward</td></tr><tr><td>Amon Buchanan</td><td>Brisbane Lions</td><td>Forward</td></tr><tr><td>Andrew Collins</td><td>Carlton</td><td>Forward</td></tr><tr><td>Luke Mitchell</td><td>Carlton</td><td>Forward</td></tr><tr><td>Kirk Ugle</td><td>Collingwood</td><td>Forward</td></tr><tr><td>Kyle Reimers</td><td>Essendon</td><td>Forward</td></tr><tr><td>Adam McPhee</td><td>Fremantle</td><td>Forward</td></tr><tr><td>John Anthony</td><td>Fremantle</td><td>Forward</td></tr><tr><td>Andrew McQualter</td><td>Gold Coast</td><td>Forward</td></tr><tr><td>Alik Magin</td><td>Gold Coast</td><td>Forward</td></tr><tr><td>Israel Folau</td><td>Greater Western Sydney</td><td>Forward</td></tr><tr><td>Rhys Cooyou</td><td>Greater Western Sydney</td><td>Forward</td></tr><tr><td>Jarrad Boumann</td><td>Hawthorn</td><td>Forward</td></tr><tr><td>Matthew Bate</td><td>Melbourne</td><td>Forward</td></tr><tr><td>Brad Green</td><td>Melbourne</td><td>Forward</td></tr><tr><td>Liam Jurrah</td><td>Melbourne</td><td>Forward</td></tr><tr><td>Matt Campbell</td><td>North Melbourne</td><td>Forward</td></tr><tr><td>Ben Warren</td><td>North Melbourne</td><td>Forward</td></tr><tr><td>Brett Ebert</td><td>Port Adelaide</td><td>Forward</td></tr><tr><td>Simon Phillips</td><td>Port Adelaide</td><td>Forward</td></tr><tr><td>Addam Maric</td><td>Richmond</td><td>Forward</td></tr><tr><td>Brad Miller</td><td>Richmond</td><td>Forward</td></tr><tr><td>Andrew Strijk</td><td>West Coast</td><td>Forward</td></tr><tr><td>Nathan Djerrkura</td><td>Western Bulldogs</td><td>Forward</td></tr><tr><td>Zephaniah Skinner</td><td>Western Bulldogs</td><td>Forward</td></tr><tr><td>Andrew Hooper</td><td>Western Bulldogs</td><td>Forward</td></tr><tr><td>Richard Douglas</td><td>Adelaide</td><td>Forward</td></tr><tr><td>Riley Knight</td><td>Adelaide</td><td>Forward</td></tr><tr><td>Mitch Robinson</td><td>Brisbane Lions</td><td>Forward</td></tr><tr><td>Rohan Bewick</td><td>Brisbane Lions</td><td>Forward</td></tr><tr><td>Rhys Mathieson</td><td>Brisbane Lions</td><td>Forward</td></tr><tr><td>Zac Bailey</td><td>Brisbane Lions</td><td>Forward</td></tr><tr><td>Brandon Starcevich</td><td>Brisbane Lions</td><td>Forward</td></tr><tr><td>Paddy Dow</td><td>Carlton</td><td>Forward</td></tr><tr><td>Zac Fisher</td><td>Carlton</td><td>Forward</td></tr><tr><td>Nick Graham</td><td>Carlton</td><td>Forward</td></tr><tr><td>Darcy Lang</td><td>Carlton</td><td>Forward</td></tr><tr><td>Tim Broomhead</td><td>Collingwood</td><td>Forward</td></tr><tr><td>Kyle Langford</td><td>Essendon</td><td>Forward</td></tr><tr><td>Darcy Parish</td><td>Essendon</td><td>Forward</td></tr><tr><td>Devon Smith</td><td>Essendon</td><td>Forward</td></tr><tr><td>Travis Colyer</td><td>Essendon</td><td>Forward</td></tr><tr><td>Bailey Banfield</td><td>Fremantle</td><td>Forward</td></tr><tr><td>David Mundy</td><td>Fremantle</td><td>Forward</td></tr><tr><td>Michael Walters</td><td>Fremantle</td><td>Forward</td></tr><tr><td>Tim Kelly</td><td>Geelong</td><td>Forward</td></tr><tr><td>Sam Menegola</td><td>Geelong</td><td>Forward</td></tr><tr><td>Patrick Dangerfield</td><td>Geelong</td><td>Forward</td></tr><tr><td>Jack Martin</td><td>Gold Coast</td><td>Forward</td></tr><tr><td>Michael Barlow</td><td>Gold Coast</td><td>Forward</td></tr><tr><td>Ryan Griffen</td><td>Greater Western Sydney</td><td>Forward</td></tr><tr><td>Aiden Bonar</td><td>Greater Western Sydney</td><td>Forward</td></tr><tr><td>Will Langford</td><td>Hawthorn</td><td>Forward</td></tr><tr><td>Harry Morrison</td><td>Hawthorn</td><td>Forward</td></tr><tr><td>James Worpel</td><td>Hawthorn</td><td>Forward</td></tr><tr><td>Christian Petracca</td><td>Melbourne</td><td>Forward</td></tr><tr><td>Aaron Vandenberg</td><td>Melbourne</td><td>Forward</td></tr><tr><td>Steven Motlop</td><td>Port Adelaide</td><td>Forward</td></tr><tr><td>Chad Wingard</td><td>Port Adelaide</td><td>Forward</td></tr><tr><td>Robbie Gray</td><td>Port Adelaide</td><td>Forward</td></tr><tr><td>Shane Edwards</td><td>Richmond</td><td>Forward</td></tr><tr><td>Blake Acres</td><td>St Kilda</td><td>Forward</td></tr><tr><td>David Armitage</td><td>St Kilda</td><td>Forward</td></tr><tr><td>Jack Newnes</td><td>St Kilda</td><td>Forward</td></tr><tr><td>Isaac Heeney</td><td>Sydney</td><td>Forward</td></tr><tr><td>Kieren Jack</td><td>Sydney</td><td>Forward</td></tr><tr><td>Luke Dahlhaus</td><td>Western Bulldogs</td><td>Forward</td></tr><tr><td>Bailey Dale</td><td>Western Bulldogs</td><td>Forward</td></tr><tr><td>Josh Dunkley</td><td>Western Bulldogs</td><td>Forward</td></tr><tr><td>Toby McLean</td><td>Western Bulldogs</td><td>Forward</td></tr><tr><td>Lin Jong</td><td>Western Bulldogs</td><td>Forward</td></tr><tr><td>Mitch Wallis</td><td>Western Bulldogs</td><td>Forward</td></tr><tr><td>Patrick Lipinski</td><td>Western Bulldogs</td><td>Forward</td></tr><tr><td>Jarrad Jansen</td><td>Brisbane Lions</td><td>Forward</td></tr><tr><td>Billie Smedts</td><td>Carlton</td><td>Forward</td></tr><tr><td>Blaine Boekhorst</td><td>Carlton</td><td>Forward</td></tr><tr><td>Ben Howlett</td><td>Essendon</td><td>Forward</td></tr><tr><td>Harley Balic</td><td>Fremantle</td><td>Forward</td></tr><tr><td>Josh Deluca</td><td>Fremantle</td><td>Forward</td></tr><tr><td>Will Setterfield</td><td>Greater Western Sydney</td><td>Forward</td></tr><tr><td>Matt White</td><td>Port Adelaide</td><td>Forward</td></tr><tr><td>Jordan Foote</td><td>Sydney</td><td>Forward</td></tr><tr><td>Brandon Jack</td><td>Sydney</td><td>Forward</td></tr><tr><td>Billy Evans</td><td>Brisbane Lions</td><td>Forward</td></tr><tr><td>Jonathan Simpkin</td><td>Essendon</td><td>Forward</td></tr><tr><td>Mathew Stokes</td><td>Essendon</td><td>Forward</td></tr><tr><td>Shaun Edwards</td><td>Essendon</td><td>Forward</td></tr><tr><td>Luke Russell</td><td>Gold Coast</td><td>Forward</td></tr><tr><td>Ben Newton</td><td>Melbourne</td><td>Forward</td></tr><tr><td>Jack Hiscox</td><td>Sydney</td><td>Forward</td></tr><tr><td>Mitch Grigg</td><td>Adelaide</td><td>Forward</td></tr><tr><td>Brodie Martin</td><td>Adelaide</td><td>Forward</td></tr><tr><td>Sam Blease</td><td>Geelong</td><td>Forward</td></tr><tr><td>Rohan Bail</td><td>Melbourne</td><td>Forward</td></tr><tr><td>Ricky Petterd</td><td>Richmond</td><td>Forward</td></tr><tr><td>Josh Simpson</td><td>Fremantle</td><td>Forward</td></tr><tr><td>Brad Hartman</td><td>Geelong</td><td>Forward</td></tr><tr><td>Nathan Foley</td><td>Richmond</td><td>Forward</td></tr><tr><td>Jude Bolton</td><td>Sydney</td><td>Forward</td></tr><tr><td>Luke Power</td><td>Greater Western Sydney</td><td>Forward</td></tr><tr><td>Justin Sherman</td><td>Western Bulldogs</td><td>Forward</td></tr><tr><td>Tom Lynch</td><td>Adelaide Crows</td><td>Forward</td></tr><tr><td>Chayce Jones</td><td>Adelaide Crows</td><td>Forward</td></tr><tr><td>Ben Davis</td><td>Adelaide Crows</td><td>Forward</td></tr><tr><td>Shane McAdam</td><td>Adelaide Crows</td><td>Forward</td></tr><tr><td>Cam Rayner</td><td>Brisbane Lions</td><td>Forward</td></tr><tr><td>Thomas Berry</td><td>Brisbane Lions</td><td>Forward</td></tr><tr><td>Connor McFadyen</td><td>Brisbane Lions</td><td>Forward</td></tr><tr><td>Michael Gibbons</td><td>Carlton</td><td>Forward</td></tr><tr><td>Kym Lebois</td><td>Carlton</td><td>Forward</td></tr><tr><td>Matthew Owies</td><td>Carlton</td><td>Forward</td></tr><tr><td>Atu Bosenavulagi</td><td>Collingwood</td><td>Forward</td></tr><tr><td>Anton Tohill</td><td>Collingwood</td><td>Forward</td></tr><tr><td>Jordan Houlahan</td><td>Essendon</td><td>Forward</td></tr><tr><td>Irving Mosquito</td><td>Essendon</td><td>Forward</td></tr><tr><td>Brett Bewley</td><td>Fremantle</td><td>Forward</td></tr><tr><td>Lachie Schultz</td><td>Fremantle</td><td>Forward</td></tr><tr><td>Sam Sturt</td><td>Fremantle</td><td>Forward</td></tr><tr><td>Gryan Miers</td><td>Geelong Cats</td><td>Forward</td></tr><tr><td>Tom Atkins</td><td>Geelong Cats</td><td>Forward</td></tr><tr><td>Jake Tarca</td><td>Geelong Cats</td><td>Forward</td></tr><tr><td>Connor Nutting</td><td>Gold Coast Suns</td><td>Forward</td></tr><tr><td>Izak Rankine</td><td>Gold Coast Suns</td><td>Forward</td></tr><tr><td>Bobby Hill</td><td>GWS Giants</td><td>Forward</td></tr><tr><td>Dylan Moore</td><td>Hawthorn</td><td>Forward</td></tr><tr><td>Changkuoth Jiath</td><td>Hawthorn</td><td>Forward</td></tr><tr><td>Mathew Walker</td><td>Hawthorn</td><td>Forward</td></tr><tr><td>Jay Lockhart</td><td>Melbourne</td><td>Forward</td></tr><tr><td>Kyle Dunkley</td><td>Melbourne</td><td>Forward</td></tr><tr><td>Tom Sparrow</td><td>Melbourne</td><td>Forward</td></tr><tr><td>Toby Bedford</td><td>Melbourne</td><td>Forward</td></tr><tr><td>Tarryn Thomas</td><td>North Melbourne</td><td>Forward</td></tr><tr><td>Curtis Taylor</td><td>North Melbourne</td><td>Forward</td></tr><tr><td>Lachlan Hosie</td><td>North Melbourne</td><td>Forward</td></tr><tr><td>Red Og Murphy</td><td>North Melbourne</td><td>Forward</td></tr><tr><td>Tom Wilkinson</td><td>North Melbourne</td><td>Forward</td></tr><tr><td>Connor Rozee</td><td>Port Adelaide</td><td>Forward</td></tr><tr><td>Zak Butters</td><td>Port Adelaide</td><td>Forward</td></tr><tr><td>Tobin Cox</td><td>Port Adelaide</td><td>Forward</td></tr><tr><td>Boyd Woodcock</td><td>Port Adelaide</td><td>Forward</td></tr><tr><td>Jake Aarts</td><td>Richmond</td><td>Forward</td></tr><tr><td>Nick Hind</td><td>St Kilda</td><td>Forward</td></tr><tr><td>Matthew Parker</td><td>St Kilda</td><td>Forward</td></tr><tr><td>Robbie Young</td><td>St Kilda</td><td>Forward</td></tr><tr><td>Jarrod Cameron</td><td>West Coast Eagles</td><td>Forward</td></tr><tr><td>Ben Cavarra</td><td>Western Bulldogs</td><td>Forward</td></tr><tr><td>Jordon Butts</td><td>Adelaide Crows</td><td>Defender</td></tr><tr><td>Jack Payne</td><td>Brisbane Lions</td><td>Defender</td></tr><tr><td>Ben Silvagni</td><td>Carlton</td><td>Defender</td></tr><tr><td>Mark Keane</td><td>Collingwood</td><td>Defender</td></tr><tr><td>Brandon Zerk-Thatcher</td><td>Essendon</td><td>Defender</td></tr><tr><td>Dillon OReilly</td><td>Fremantle</td><td>Defender</td></tr><tr><td>Tobe Watson</td><td>Fremantle</td><td>Defender</td></tr><tr><td>Ben Jarvis</td><td>Geelong Cats</td><td>Defender</td></tr><tr><td>Caleb Graham</td><td>Gold Coast Suns</td><td>Defender</td></tr><tr><td>Connor Idun</td><td>GWS Giants</td><td>Defender</td></tr><tr><td>Jacob Koschitzke</td><td>Hawthorn</td><td>Defender</td></tr><tr><td>Marty Hore</td><td>Melbourne</td><td>Defender</td></tr><tr><td>Declan Watson</td><td>North Melbourne</td><td>Defender</td></tr><tr><td>Riley Grundy</td><td>Port Adelaide</td><td>Defender</td></tr><tr><td>Ben Miller</td><td>Richmond</td><td>Defender</td></tr><tr><td>Callum Wilkie</td><td>St Kilda</td><td>Defender</td></tr><tr><td>Oscar Clavarino</td><td>St Kilda</td><td>Defender</td></tr><tr><td>Jack Maibaum</td><td>Sydney Swans</td><td>Defender</td></tr><tr><td>Toby Pink</td><td>Sydney Swans</td><td>Defender</td></tr><tr><td>Harry Edwards</td><td>West Coast Eagles</td><td>Defender</td></tr><tr><td>Lachie Young</td><td>Western Bulldogs</td><td>Defender</td></tr><tr><td>Buku Khamis</td><td>Western Bulldogs</td><td>Defender</td></tr><tr><td>Kieran Strachan</td><td>Adelaide Crows</td><td>Forward</td></tr><tr><td>Connor Ballenden</td><td>Brisbane Lions</td><td>Forward</td></tr><tr><td>Tom Fullarton</td><td>Brisbane Lions</td><td>Forward</td></tr><tr><td>Patrick Kerr</td><td>Carlton</td><td>Forward</td></tr><tr><td>Finbar ODwyer</td><td>Carlton</td><td>Forward</td></tr><tr><td>Will Kelly</td><td>Collingwood</td><td>Forward</td></tr><tr><td>Noah Gown</td><td>Essendon</td><td>Forward</td></tr><tr><td>Luke Lavender</td><td>Essendon</td><td>Forward</td></tr><tr><td>Hugh Dixon</td><td>Fremantle</td><td>Forward</td></tr><tr><td>Darcy Fort</td><td>Geelong Cats</td><td>Forward</td></tr><tr><td>Nathan Kreuger</td><td>Geelong Cats</td><td>Forward</td></tr><tr><td>Blake Schlensog</td><td>Geelong Cats</td><td>Forward</td></tr><tr><td>Jack Lukosius</td><td>Gold Coast Suns</td><td>Forward</td></tr><tr><td>Chris Burgess</td><td>Gold Coast Suns</td><td>Forward</td></tr><tr><td>Ben King</td><td>Gold Coast Suns</td><td>Forward</td></tr><tr><td>Josh Corbett</td><td>Gold Coast Suns</td><td>Forward</td></tr><tr><td>Zach Sproule</td><td>GWS Giants</td><td>Forward</td></tr><tr><td>Kieren Briggs</td><td>GWS Giants</td><td>Forward</td></tr><tr><td>Jackson Ross</td><td>Hawthorn</td><td>Forward</td></tr><tr><td>Declan Keilty</td><td>Melbourne</td><td>Forward</td></tr><tr><td>Peter Ladhams</td><td>Port Adelaide</td><td>Forward</td></tr><tr><td>Noah Balta</td><td>Richmond</td><td>Forward</td></tr><tr><td>Max King</td><td>St Kilda</td><td>Forward</td></tr><tr><td>Jack Mayo</td><td>St Kilda</td><td>Forward</td></tr><tr><td>Nick Blakey</td><td>Sydney Swans</td><td>Forward</td></tr><tr><td>Hayden McLean</td><td>Sydney Swans</td><td>Forward</td></tr><tr><td>Patrick Bines</td><td>West Coast Eagles</td><td>Forward</td></tr></tbody></table></div>"
      ]
     },
     "metadata": {},
     "output_type": "display_data"
    }
   ],
   "source": [
    "display(df)"
   ]
  },
  {
   "cell_type": "code",
   "execution_count": 41,
   "metadata": {},
   "outputs": [
    {
     "data": {
      "text/html": [
       "<style scoped>\n",
       "  .ansiout {\n",
       "    display: block;\n",
       "    unicode-bidi: embed;\n",
       "    white-space: pre-wrap;\n",
       "    word-wrap: break-word;\n",
       "    word-break: break-all;\n",
       "    font-family: \"Source Code Pro\", \"Menlo\", monospace;;\n",
       "    font-size: 13px;\n",
       "    color: #555;\n",
       "    margin-left: 4px;\n",
       "    line-height: 19px;\n",
       "  }\n",
       "</style>\n",
       "<div class=\"ansiout\">Out[22]: Column&lt;b&#39;Team&#39;&gt;</div>"
      ]
     },
     "metadata": {},
     "output_type": "display_data"
    }
   ],
   "source": []
  },
  {
   "cell_type": "code",
   "execution_count": 42,
   "metadata": {},
   "outputs": [
    {
     "data": {
      "text/html": [
       "<style scoped>\n",
       "  .ansiout {\n",
       "    display: block;\n",
       "    unicode-bidi: embed;\n",
       "    white-space: pre-wrap;\n",
       "    word-wrap: break-word;\n",
       "    word-break: break-all;\n",
       "    font-family: \"Source Code Pro\", \"Menlo\", monospace;;\n",
       "    font-size: 13px;\n",
       "    color: #555;\n",
       "    margin-left: 4px;\n",
       "    line-height: 19px;\n",
       "  }\n",
       "</style>\n",
       "<div class=\"ansiout\">Out[37]: [1, 8, 27, 64]</div>"
      ]
     },
     "metadata": {},
     "output_type": "display_data"
    }
   ],
   "source": [
    "\n",
    "\n",
    "numeric_val = sc.parallelize([1,2,3,4])\n",
    "numeric_val.map(lambda x: x**3).collect()"
   ]
  },
  {
   "cell_type": "code",
   "execution_count": 43,
   "metadata": {},
   "outputs": [
    {
     "data": {
      "text/html": [
       "<style scoped>\n",
       "  .ansiout {\n",
       "    display: block;\n",
       "    unicode-bidi: embed;\n",
       "    white-space: pre-wrap;\n",
       "    word-wrap: break-word;\n",
       "    word-break: break-all;\n",
       "    font-family: \"Source Code Pro\", \"Menlo\", monospace;;\n",
       "    font-size: 13px;\n",
       "    color: #555;\n",
       "    margin-left: 4px;\n",
       "    line-height: 19px;\n",
       "  }\n",
       "</style>\n",
       "<div class=\"ansiout\"></div>"
      ]
     },
     "metadata": {},
     "output_type": "display_data"
    }
   ],
   "source": [
    "# Class for today, June 22 2020"
   ]
  },
  {
   "cell_type": "code",
   "execution_count": 44,
   "metadata": {},
   "outputs": [
    {
     "data": {
      "text/html": [
       "<style scoped>\n",
       "  .ansiout {\n",
       "    display: block;\n",
       "    unicode-bidi: embed;\n",
       "    white-space: pre-wrap;\n",
       "    word-wrap: break-word;\n",
       "    word-break: break-all;\n",
       "    font-family: \"Source Code Pro\", \"Menlo\", monospace;;\n",
       "    font-size: 13px;\n",
       "    color: #555;\n",
       "    margin-left: 4px;\n",
       "    line-height: 19px;\n",
       "  }\n",
       "</style>\n",
       "<div class=\"ansiout\"></div>"
      ]
     },
     "metadata": {},
     "output_type": "display_data"
    }
   ],
   "source": [
    "basicRDD = sc.parallelize([1,2,3,3])"
   ]
  },
  {
   "cell_type": "code",
   "execution_count": 45,
   "metadata": {},
   "outputs": [
    {
     "data": {
      "text/html": [
       "<style scoped>\n",
       "  .ansiout {\n",
       "    display: block;\n",
       "    unicode-bidi: embed;\n",
       "    white-space: pre-wrap;\n",
       "    word-wrap: break-word;\n",
       "    word-break: break-all;\n",
       "    font-family: \"Source Code Pro\", \"Menlo\", monospace;;\n",
       "    font-size: 13px;\n",
       "    color: #555;\n",
       "    margin-left: 4px;\n",
       "    line-height: 19px;\n",
       "  }\n",
       "</style>\n",
       "<div class=\"ansiout\">Out[40]: PythonRDD[963] at RDD at PythonRDD.scala:59</div>"
      ]
     },
     "metadata": {},
     "output_type": "display_data"
    }
   ],
   "source": [
    "basicRDD.map(lambda x: x+1)"
   ]
  },
  {
   "cell_type": "code",
   "execution_count": 46,
   "metadata": {},
   "outputs": [
    {
     "data": {
      "text/html": [
       "<style scoped>\n",
       "  .ansiout {\n",
       "    display: block;\n",
       "    unicode-bidi: embed;\n",
       "    white-space: pre-wrap;\n",
       "    word-wrap: break-word;\n",
       "    word-break: break-all;\n",
       "    font-family: \"Source Code Pro\", \"Menlo\", monospace;;\n",
       "    font-size: 13px;\n",
       "    color: #555;\n",
       "    margin-left: 4px;\n",
       "    line-height: 19px;\n",
       "  }\n",
       "</style>\n",
       "<div class=\"ansiout\"></div>"
      ]
     },
     "metadata": {},
     "output_type": "display_data"
    }
   ],
   "source": [
    "nums = sc.parallelize([1,2,3,4])\n",
    "Squared = nums.map(lambda x: x*x).collect()"
   ]
  },
  {
   "cell_type": "code",
   "execution_count": 47,
   "metadata": {},
   "outputs": [
    {
     "data": {
      "text/html": [
       "<style scoped>\n",
       "  .ansiout {\n",
       "    display: block;\n",
       "    unicode-bidi: embed;\n",
       "    white-space: pre-wrap;\n",
       "    word-wrap: break-word;\n",
       "    word-break: break-all;\n",
       "    font-family: \"Source Code Pro\", \"Menlo\", monospace;;\n",
       "    font-size: 13px;\n",
       "    color: #555;\n",
       "    margin-left: 4px;\n",
       "    line-height: 19px;\n",
       "  }\n",
       "</style>\n",
       "<div class=\"ansiout\">1\n",
       "4\n",
       "9\n",
       "16\n",
       "</div>"
      ]
     },
     "metadata": {},
     "output_type": "display_data"
    }
   ],
   "source": [
    "for num in Squared:\n",
    "  print(\"%i\" %(num))"
   ]
  },
  {
   "cell_type": "code",
   "execution_count": 48,
   "metadata": {},
   "outputs": [
    {
     "data": {
      "text/html": [
       "<style scoped>\n",
       "  .ansiout {\n",
       "    display: block;\n",
       "    unicode-bidi: embed;\n",
       "    white-space: pre-wrap;\n",
       "    word-wrap: break-word;\n",
       "    word-break: break-all;\n",
       "    font-family: \"Source Code Pro\", \"Menlo\", monospace;;\n",
       "    font-size: 13px;\n",
       "    color: #555;\n",
       "    margin-left: 4px;\n",
       "    line-height: 19px;\n",
       "  }\n",
       "</style>\n",
       "<div class=\"ansiout\"></div>"
      ]
     },
     "metadata": {},
     "output_type": "display_data"
    }
   ],
   "source": [
    "# Homework 9 in Spark SQL\n",
    "\n",
    "# Create a dataframe in spark sql and do stuff to it\n",
    "\n",
    "# I'm just going to follow the example from the Databricks tutorial until it breaks.\n",
    "\n",
    "from pyspark.sql import *"
   ]
  },
  {
   "cell_type": "code",
   "execution_count": 49,
   "metadata": {},
   "outputs": [
    {
     "data": {
      "text/html": [
       "<style scoped>\n",
       "  .ansiout {\n",
       "    display: block;\n",
       "    unicode-bidi: embed;\n",
       "    white-space: pre-wrap;\n",
       "    word-wrap: break-word;\n",
       "    word-break: break-all;\n",
       "    font-family: \"Source Code Pro\", \"Menlo\", monospace;;\n",
       "    font-size: 13px;\n",
       "    color: #555;\n",
       "    margin-left: 4px;\n",
       "    line-height: 19px;\n",
       "  }\n",
       "</style>\n",
       "<div class=\"ansiout\">Row(id=&#39;100&#39;, name=&#39;Computer Science&#39;)\n",
       "Row(StudentID=542, LastName=&#39;Adams&#39;, FirstName=&#39;John&#39;, PhoneNumber=&#39;703-703-1235&#39;, GPA=3.75)\n",
       "George\n",
       "</div>"
      ]
     },
     "metadata": {},
     "output_type": "display_data"
    }
   ],
   "source": [
    "# Create my sample data - Students and GPA.  Later I will create a new column for a letter grade.\n",
    "\n",
    "# Department data\n",
    "department1 = Row(id = '100', name = 'Computer Science')\n",
    "department2 = Row(id = '200', name = 'Data Science')\n",
    "department3 = Row(id = '300', name = 'Political Science')\n",
    "department4 = Row(id = '400', name = 'History')\n",
    "\n",
    "# Student data\n",
    "# Pay attention here.  I create the row as Student and then assign individual students to the Student object\n",
    "Student = Row('StudentID', 'LastName', 'FirstName', 'PhoneNumber', 'GPA')\n",
    "student1 = Student(541, 'Washington', 'George', '703-703-1234', 4.0)\n",
    "student2 = Student(542, 'Adams', 'John', '703-703-1235', 3.75)\n",
    "student3 = Student(543, 'Jefferson', 'Thomas', '703-703-1236', 3.5)\n",
    "student4 = Student(544, 'Franklin', 'Ben', '703-703-1237', 3.25)\n",
    "student5 = Student(545, 'Monroe', 'James', '703-703-1238', 3.0)\n",
    "student6 = Student(546, 'Henry', 'Patrick', '703-703-1239', 2.75)\n",
    "student7 = Student(547, 'Mason', 'George', '703-703-1240', 2.5)\n",
    "student8 = Student(548, 'Madison', 'James', '703-703-1241', 2.25)\n",
    "student9 = Student(549, 'Burr', 'Aaron', '703-703-1242', 2.0)\n",
    "student10 = Student(550, 'Hamilton', 'Alexander', '703-703-1243', 1.75)\n",
    "\n",
    "# Create the StudentsWithDepartments instances from Departments and Students\n",
    "\n",
    "departmentWithStudents1 = Row(department = department1, students = [student1, student2, student3])\n",
    "departmentWithStudents2 = Row(department = department2, students = [student4, student5, student6])\n",
    "departmentWithStudents3 = Row(department = department3, students = [student7, student8])\n",
    "departmentWithStudents4 = Row(department = department4, students = [student9, student10])\n",
    "\n",
    "print(department1)\n",
    "print(student2)\n",
    "print(departmentWithStudents1.students[0].FirstName)\n"
   ]
  },
  {
   "cell_type": "code",
   "execution_count": 50,
   "metadata": {},
   "outputs": [
    {
     "data": {
      "text/html": [
       "<style scoped>\n",
       "  .ansiout {\n",
       "    display: block;\n",
       "    unicode-bidi: embed;\n",
       "    white-space: pre-wrap;\n",
       "    word-wrap: break-word;\n",
       "    word-break: break-all;\n",
       "    font-family: \"Source Code Pro\", \"Menlo\", monospace;;\n",
       "    font-size: 13px;\n",
       "    color: #555;\n",
       "    margin-left: 4px;\n",
       "    line-height: 19px;\n",
       "  }\n",
       "</style>\n",
       "<div class=\"ansiout\"></div>"
      ]
     },
     "metadata": {},
     "output_type": "display_data"
    }
   ],
   "source": [
    "departmentsWithStudentsSeq1 = [departmentWithStudents1, departmentWithStudents2]\n",
    "df1 = spark.createDataFrame(departmentsWithStudentsSeq1)\n",
    "\n",
    "departmentsWithStudentsSeq2 = [departmentWithStudents2, departmentWithStudents4]\n",
    "df2 = spark.createDataFrame(departmentsWithStudentsSeq2)"
   ]
  },
  {
   "cell_type": "code",
   "execution_count": 51,
   "metadata": {},
   "outputs": [
    {
     "data": {
      "text/html": [
       "<style scoped>\n",
       "  .table-result-container {\n",
       "    max-height: 300px;\n",
       "    overflow: auto;\n",
       "  }\n",
       "  table, th, td {\n",
       "    border: 1px solid black;\n",
       "    border-collapse: collapse;\n",
       "  }\n",
       "  th, td {\n",
       "    padding: 5px;\n",
       "  }\n",
       "  th {\n",
       "    text-align: left;\n",
       "  }\n",
       "</style><div class='table-result-container'><table class='table-result'><thead style='background-color: white'><tr><th>department</th><th>students</th></tr></thead><tbody><tr><td>List(100, Computer Science)</td><td>List(List(541, Washington, George, 703-703-1234, 4.0), List(542, Adams, John, 703-703-1235, 3.75), List(543, Jefferson, Thomas, 703-703-1236, 3.5))</td></tr><tr><td>List(200, Data Science)</td><td>List(List(544, Franklin, Ben, 703-703-1237, 3.25), List(545, Monroe, James, 703-703-1238, 3.0), List(546, Henry, Patrick, 703-703-1239, 2.75))</td></tr><tr><td>List(200, Data Science)</td><td>List(List(544, Franklin, Ben, 703-703-1237, 3.25), List(545, Monroe, James, 703-703-1238, 3.0), List(546, Henry, Patrick, 703-703-1239, 2.75))</td></tr><tr><td>List(400, History)</td><td>List(List(549, Burr, Aaron, 703-703-1242, 2.0), List(550, Hamilton, Alexander, 703-703-1243, 1.75))</td></tr></tbody></table></div>"
      ]
     },
     "metadata": {},
     "output_type": "display_data"
    }
   ],
   "source": [
    "# Work with DataFrames\n",
    "\n",
    "unionDF = df1.union(df2)\n",
    "display(unionDF)"
   ]
  },
  {
   "cell_type": "code",
   "execution_count": 52,
   "metadata": {},
   "outputs": [
    {
     "data": {
      "text/html": [
       "<style scoped>\n",
       "  .ansiout {\n",
       "    display: block;\n",
       "    unicode-bidi: embed;\n",
       "    white-space: pre-wrap;\n",
       "    word-wrap: break-word;\n",
       "    word-break: break-all;\n",
       "    font-family: \"Source Code Pro\", \"Menlo\", monospace;;\n",
       "    font-size: 13px;\n",
       "    color: #555;\n",
       "    margin-left: 4px;\n",
       "    line-height: 19px;\n",
       "  }\n",
       "</style>\n",
       "<div class=\"ansiout\"></div>"
      ]
     },
     "metadata": {},
     "output_type": "display_data"
    }
   ],
   "source": [
    "# Write the unioned DataFrame to a Parquet File\n",
    "\n",
    "dbutils.fs.rm(\"tmp/databricks-df-example.parquet\", True)\n",
    "unionDF.write.parquet(\"tmp/databricks-df-example.parquet\")\n",
    "\n",
    "# This goddamned thing.  It doesn't like spaces.  Great fucking error messaging."
   ]
  },
  {
   "cell_type": "code",
   "execution_count": 53,
   "metadata": {},
   "outputs": [
    {
     "data": {
      "text/html": [
       "<style scoped>\n",
       "  .ansiout {\n",
       "    display: block;\n",
       "    unicode-bidi: embed;\n",
       "    white-space: pre-wrap;\n",
       "    word-wrap: break-word;\n",
       "    word-break: break-all;\n",
       "    font-family: \"Source Code Pro\", \"Menlo\", monospace;;\n",
       "    font-size: 13px;\n",
       "    color: #555;\n",
       "    margin-left: 4px;\n",
       "    line-height: 19px;\n",
       "  }\n",
       "</style>\n",
       "<div class=\"ansiout\">+---------+----------+---------+----+\n",
       "StudentID|  LastName|FirstName| GPA|\n",
       "+---------+----------+---------+----+\n",
       "      541|Washington|   George| 4.0|\n",
       "      542|     Adams|     John|3.75|\n",
       "      543| Jefferson|   Thomas| 3.5|\n",
       "      544|  Franklin|      Ben|3.25|\n",
       "      545|    Monroe|    James| 3.0|\n",
       "      546|     Henry|  Patrick|2.75|\n",
       "      544|  Franklin|      Ben|3.25|\n",
       "      545|    Monroe|    James| 3.0|\n",
       "      546|     Henry|  Patrick|2.75|\n",
       "      549|      Burr|    Aaron| 2.0|\n",
       "      550|  Hamilton|Alexander|1.75|\n",
       "+---------+----------+---------+----+\n",
       "\n",
       "</div>"
      ]
     },
     "metadata": {},
     "output_type": "display_data"
    }
   ],
   "source": [
    "from  pyspark.sql.functions import explode\n",
    "\n",
    "explodeDF = unionDF.select(explode(\"students\").alias(\"s\"))\n",
    "flattenDF =  explodeDF.selectExpr(\"s.StudentID\", \"s.LastName\", \"s.FirstName\", \"s.GPA\")\n",
    "\n",
    "flattenDF.show()"
   ]
  },
  {
   "cell_type": "code",
   "execution_count": 54,
   "metadata": {},
   "outputs": [
    {
     "data": {
      "text/html": [
       "<style scoped>\n",
       "  .ansiout {\n",
       "    display: block;\n",
       "    unicode-bidi: embed;\n",
       "    white-space: pre-wrap;\n",
       "    word-wrap: break-word;\n",
       "    word-break: break-all;\n",
       "    font-family: \"Source Code Pro\", \"Menlo\", monospace;;\n",
       "    font-size: 13px;\n",
       "    color: #555;\n",
       "    margin-left: 4px;\n",
       "    line-height: 19px;\n",
       "  }\n",
       "</style>\n",
       "<div class=\"ansiout\"></div>"
      ]
     },
     "metadata": {},
     "output_type": "display_data"
    }
   ],
   "source": [
    "from pyspark.sql import functions as F\n",
    "from pyspark.sql.types import *\n",
    "\n",
    "def assign_letter_grade(score): \n",
    "    if score >= 3.33: return \"A\"\n",
    "    elif score >= 2.67: return \"B\"\n",
    "    elif score >= 1.67: return \"C\"\n",
    "    elif score >= 0.67: return \"D\"\n",
    "    else : return \"F\"\n",
    "\n",
    "udf_grade = F.udf(assign_letter_grade, StringType())\n",
    "\n",
    "grade_letter_columnDF = flattenDF.withColumn(\"LetterGrade\", udf_grade(flattenDF.GPA))\n",
    "# newDF = flattenDF.withColumn('LetterGrade', F.when((F.col(\"GPA\") >= 3.33), 'A'))\n",
    "# F.when((F.col(\"GPA\") >= 3.33), 'A'))\n",
    "\n"
   ]
  },
  {
   "cell_type": "code",
   "execution_count": 55,
   "metadata": {},
   "outputs": [
    {
     "data": {
      "text/html": [
       "<style scoped>\n",
       "  .ansiout {\n",
       "    display: block;\n",
       "    unicode-bidi: embed;\n",
       "    white-space: pre-wrap;\n",
       "    word-wrap: break-word;\n",
       "    word-break: break-all;\n",
       "    font-family: \"Source Code Pro\", \"Menlo\", monospace;;\n",
       "    font-size: 13px;\n",
       "    color: #555;\n",
       "    margin-left: 4px;\n",
       "    line-height: 19px;\n",
       "  }\n",
       "</style>\n",
       "<div class=\"ansiout\">+---------+----------+---------+----+-----------+\n",
       "StudentID|  LastName|FirstName| GPA|LetterGrade|\n",
       "+---------+----------+---------+----+-----------+\n",
       "      541|Washington|   George| 4.0|          A|\n",
       "      542|     Adams|     John|3.75|          A|\n",
       "      543| Jefferson|   Thomas| 3.5|          A|\n",
       "      544|  Franklin|      Ben|3.25|          B|\n",
       "      545|    Monroe|    James| 3.0|          B|\n",
       "      546|     Henry|  Patrick|2.75|          B|\n",
       "      544|  Franklin|      Ben|3.25|          B|\n",
       "      545|    Monroe|    James| 3.0|          B|\n",
       "      546|     Henry|  Patrick|2.75|          B|\n",
       "      549|      Burr|    Aaron| 2.0|          C|\n",
       "      550|  Hamilton|Alexander|1.75|          C|\n",
       "+---------+----------+---------+----+-----------+\n",
       "\n",
       "</div>"
      ]
     },
     "metadata": {},
     "output_type": "display_data"
    }
   ],
   "source": [
    "# newDF.show()\n",
    "grade_letter_columnDF.show()"
   ]
  },
  {
   "cell_type": "code",
   "execution_count": 56,
   "metadata": {},
   "outputs": [
    {
     "data": {
      "text/html": [
       "<style scoped>\n",
       "  .ansiout {\n",
       "    display: block;\n",
       "    unicode-bidi: embed;\n",
       "    white-space: pre-wrap;\n",
       "    word-wrap: break-word;\n",
       "    word-break: break-all;\n",
       "    font-family: \"Source Code Pro\", \"Menlo\", monospace;;\n",
       "    font-size: 13px;\n",
       "    color: #555;\n",
       "    margin-left: 4px;\n",
       "    line-height: 19px;\n",
       "  }\n",
       "</style>\n",
       "<div class=\"ansiout\"><span class=\"ansi-red-fg\">---------------------------------------------------------------------------</span>\n",
       "<span class=\"ansi-red-fg\">Py4JJavaError</span>                             Traceback (most recent call last)\n",
       "<span class=\"ansi-green-fg\">/databricks/spark/python/pyspark/sql/utils.py</span> in <span class=\"ansi-cyan-fg\">deco</span><span class=\"ansi-blue-fg\">(*a, **kw)</span>\n",
       "<span class=\"ansi-green-intense-fg ansi-bold\">     62</span>         <span class=\"ansi-green-fg\">try</span><span class=\"ansi-blue-fg\">:</span>\n",
       "<span class=\"ansi-green-fg\">---&gt; 63</span><span class=\"ansi-red-fg\">             </span><span class=\"ansi-green-fg\">return</span> f<span class=\"ansi-blue-fg\">(</span><span class=\"ansi-blue-fg\">*</span>a<span class=\"ansi-blue-fg\">,</span> <span class=\"ansi-blue-fg\">**</span>kw<span class=\"ansi-blue-fg\">)</span>\n",
       "<span class=\"ansi-green-intense-fg ansi-bold\">     64</span>         <span class=\"ansi-green-fg\">except</span> py4j<span class=\"ansi-blue-fg\">.</span>protocol<span class=\"ansi-blue-fg\">.</span>Py4JJavaError <span class=\"ansi-green-fg\">as</span> e<span class=\"ansi-blue-fg\">:</span>\n",
       "\n",
       "<span class=\"ansi-green-fg\">/databricks/spark/python/lib/py4j-0.10.7-src.zip/py4j/protocol.py</span> in <span class=\"ansi-cyan-fg\">get_return_value</span><span class=\"ansi-blue-fg\">(answer, gateway_client, target_id, name)</span>\n",
       "<span class=\"ansi-green-intense-fg ansi-bold\">    327</span>                     <span class=\"ansi-blue-fg\">&#34;An error occurred while calling {0}{1}{2}.\\n&#34;</span><span class=\"ansi-blue-fg\">.</span>\n",
       "<span class=\"ansi-green-fg\">--&gt; 328</span><span class=\"ansi-red-fg\">                     format(target_id, &#34;.&#34;, name), value)\n",
       "</span><span class=\"ansi-green-intense-fg ansi-bold\">    329</span>             <span class=\"ansi-green-fg\">else</span><span class=\"ansi-blue-fg\">:</span>\n",
       "\n",
       "<span class=\"ansi-red-fg\">Py4JJavaError</span>: An error occurred while calling o2056.parquet.\n",
       ": org.apache.spark.sql.AnalysisException: path dbfs:/tmp/databricks-df-grade_letter.parquet already exists.;\n",
       "\tat org.apache.spark.sql.execution.datasources.InsertIntoHadoopFsRelationCommand.run(InsertIntoHadoopFsRelationCommand.scala:148)\n",
       "\tat org.apache.spark.sql.execution.command.DataWritingCommandExec.sideEffectResult$lzycompute(commands.scala:108)\n",
       "\tat org.apache.spark.sql.execution.command.DataWritingCommandExec.sideEffectResult(commands.scala:106)\n",
       "\tat org.apache.spark.sql.execution.command.DataWritingCommandExec.doExecute(commands.scala:126)\n",
       "\tat org.apache.spark.sql.execution.SparkPlan$$anonfun$execute$1.apply(SparkPlan.scala:150)\n",
       "\tat org.apache.spark.sql.execution.SparkPlan$$anonfun$execute$1.apply(SparkPlan.scala:138)\n",
       "\tat org.apache.spark.sql.execution.SparkPlan$$anonfun$executeQuery$5.apply(SparkPlan.scala:191)\n",
       "\tat org.apache.spark.rdd.RDDOperationScope$.withScope(RDDOperationScope.scala:151)\n",
       "\tat org.apache.spark.sql.execution.SparkPlan.executeQuery(SparkPlan.scala:187)\n",
       "\tat org.apache.spark.sql.execution.SparkPlan.execute(SparkPlan.scala:138)\n",
       "\tat org.apache.spark.sql.execution.QueryExecution.toRdd$lzycompute(QueryExecution.scala:117)\n",
       "\tat org.apache.spark.sql.execution.QueryExecution.toRdd(QueryExecution.scala:115)\n",
       "\tat org.apache.spark.sql.DataFrameWriter$$anonfun$runCommand$1.apply(DataFrameWriter.scala:710)\n",
       "\tat org.apache.spark.sql.DataFrameWriter$$anonfun$runCommand$1.apply(DataFrameWriter.scala:710)\n",
       "\tat org.apache.spark.sql.execution.SQLExecution$$anonfun$withCustomExecutionEnv$1$$anonfun$apply$1.apply(SQLExecution.scala:112)\n",
       "\tat org.apache.spark.sql.execution.SQLExecution$.withSQLConfPropagated(SQLExecution.scala:232)\n",
       "\tat org.apache.spark.sql.execution.SQLExecution$$anonfun$withCustomExecutionEnv$1.apply(SQLExecution.scala:98)\n",
       "\tat org.apache.spark.sql.SparkSession.withActive(SparkSession.scala:835)\n",
       "\tat org.apache.spark.sql.execution.SQLExecution$.withCustomExecutionEnv(SQLExecution.scala:74)\n",
       "\tat org.apache.spark.sql.execution.SQLExecution$.withNewExecutionId(SQLExecution.scala:184)\n",
       "\tat org.apache.spark.sql.DataFrameWriter.runCommand(DataFrameWriter.scala:710)\n",
       "\tat org.apache.spark.sql.DataFrameWriter.saveToV1Source(DataFrameWriter.scala:306)\n",
       "\tat org.apache.spark.sql.DataFrameWriter.save(DataFrameWriter.scala:292)\n",
       "\tat org.apache.spark.sql.DataFrameWriter.save(DataFrameWriter.scala:235)\n",
       "\tat org.apache.spark.sql.DataFrameWriter.parquet(DataFrameWriter.scala:600)\n",
       "\tat sun.reflect.NativeMethodAccessorImpl.invoke0(Native Method)\n",
       "\tat sun.reflect.NativeMethodAccessorImpl.invoke(NativeMethodAccessorImpl.java:62)\n",
       "\tat sun.reflect.DelegatingMethodAccessorImpl.invoke(DelegatingMethodAccessorImpl.java:43)\n",
       "\tat java.lang.reflect.Method.invoke(Method.java:498)\n",
       "\tat py4j.reflection.MethodInvoker.invoke(MethodInvoker.java:244)\n",
       "\tat py4j.reflection.ReflectionEngine.invoke(ReflectionEngine.java:380)\n",
       "\tat py4j.Gateway.invoke(Gateway.java:295)\n",
       "\tat py4j.commands.AbstractCommand.invokeMethod(AbstractCommand.java:132)\n",
       "\tat py4j.commands.CallCommand.execute(CallCommand.java:79)\n",
       "\tat py4j.GatewayConnection.run(GatewayConnection.java:251)\n",
       "\tat java.lang.Thread.run(Thread.java:748)\n",
       "\n",
       "\n",
       "During handling of the above exception, another exception occurred:\n",
       "\n",
       "<span class=\"ansi-red-fg\">AnalysisException</span>                         Traceback (most recent call last)\n",
       "<span class=\"ansi-green-fg\">&lt;command-1619531716250247&gt;</span> in <span class=\"ansi-cyan-fg\">&lt;module&gt;</span>\n",
       "<span class=\"ansi-green-fg\">----&gt; 1</span><span class=\"ansi-red-fg\"> </span>grade_letter_columnDF<span class=\"ansi-blue-fg\">.</span>write<span class=\"ansi-blue-fg\">.</span>parquet<span class=\"ansi-blue-fg\">(</span><span class=\"ansi-blue-fg\">&#34;tmp/databricks-df-grade_letter.parquet&#34;</span><span class=\"ansi-blue-fg\">)</span>\n",
       "\n",
       "<span class=\"ansi-green-fg\">/databricks/spark/python/pyspark/sql/readwriter.py</span> in <span class=\"ansi-cyan-fg\">parquet</span><span class=\"ansi-blue-fg\">(self, path, mode, partitionBy, compression)</span>\n",
       "<span class=\"ansi-green-intense-fg ansi-bold\">    842</span>             self<span class=\"ansi-blue-fg\">.</span>partitionBy<span class=\"ansi-blue-fg\">(</span>partitionBy<span class=\"ansi-blue-fg\">)</span>\n",
       "<span class=\"ansi-green-intense-fg ansi-bold\">    843</span>         self<span class=\"ansi-blue-fg\">.</span>_set_opts<span class=\"ansi-blue-fg\">(</span>compression<span class=\"ansi-blue-fg\">=</span>compression<span class=\"ansi-blue-fg\">)</span>\n",
       "<span class=\"ansi-green-fg\">--&gt; 844</span><span class=\"ansi-red-fg\">         </span>self<span class=\"ansi-blue-fg\">.</span>_jwrite<span class=\"ansi-blue-fg\">.</span>parquet<span class=\"ansi-blue-fg\">(</span>path<span class=\"ansi-blue-fg\">)</span>\n",
       "<span class=\"ansi-green-intense-fg ansi-bold\">    845</span> \n",
       "<span class=\"ansi-green-intense-fg ansi-bold\">    846</span>     <span class=\"ansi-blue-fg\">@</span>since<span class=\"ansi-blue-fg\">(</span><span class=\"ansi-cyan-fg\">1.6</span><span class=\"ansi-blue-fg\">)</span>\n",
       "\n",
       "<span class=\"ansi-green-fg\">/databricks/spark/python/lib/py4j-0.10.7-src.zip/py4j/java_gateway.py</span> in <span class=\"ansi-cyan-fg\">__call__</span><span class=\"ansi-blue-fg\">(self, *args)</span>\n",
       "<span class=\"ansi-green-intense-fg ansi-bold\">   1255</span>         answer <span class=\"ansi-blue-fg\">=</span> self<span class=\"ansi-blue-fg\">.</span>gateway_client<span class=\"ansi-blue-fg\">.</span>send_command<span class=\"ansi-blue-fg\">(</span>command<span class=\"ansi-blue-fg\">)</span>\n",
       "<span class=\"ansi-green-intense-fg ansi-bold\">   1256</span>         return_value = get_return_value(\n",
       "<span class=\"ansi-green-fg\">-&gt; 1257</span><span class=\"ansi-red-fg\">             answer, self.gateway_client, self.target_id, self.name)\n",
       "</span><span class=\"ansi-green-intense-fg ansi-bold\">   1258</span> \n",
       "<span class=\"ansi-green-intense-fg ansi-bold\">   1259</span>         <span class=\"ansi-green-fg\">for</span> temp_arg <span class=\"ansi-green-fg\">in</span> temp_args<span class=\"ansi-blue-fg\">:</span>\n",
       "\n",
       "<span class=\"ansi-green-fg\">/databricks/spark/python/pyspark/sql/utils.py</span> in <span class=\"ansi-cyan-fg\">deco</span><span class=\"ansi-blue-fg\">(*a, **kw)</span>\n",
       "<span class=\"ansi-green-intense-fg ansi-bold\">     67</span>                                              e.java_exception.getStackTrace()))\n",
       "<span class=\"ansi-green-intense-fg ansi-bold\">     68</span>             <span class=\"ansi-green-fg\">if</span> s<span class=\"ansi-blue-fg\">.</span>startswith<span class=\"ansi-blue-fg\">(</span><span class=\"ansi-blue-fg\">&#39;org.apache.spark.sql.AnalysisException: &#39;</span><span class=\"ansi-blue-fg\">)</span><span class=\"ansi-blue-fg\">:</span>\n",
       "<span class=\"ansi-green-fg\">---&gt; 69</span><span class=\"ansi-red-fg\">                 </span><span class=\"ansi-green-fg\">raise</span> AnalysisException<span class=\"ansi-blue-fg\">(</span>s<span class=\"ansi-blue-fg\">.</span>split<span class=\"ansi-blue-fg\">(</span><span class=\"ansi-blue-fg\">&#39;: &#39;</span><span class=\"ansi-blue-fg\">,</span> <span class=\"ansi-cyan-fg\">1</span><span class=\"ansi-blue-fg\">)</span><span class=\"ansi-blue-fg\">[</span><span class=\"ansi-cyan-fg\">1</span><span class=\"ansi-blue-fg\">]</span><span class=\"ansi-blue-fg\">,</span> stackTrace<span class=\"ansi-blue-fg\">)</span>\n",
       "<span class=\"ansi-green-intense-fg ansi-bold\">     70</span>             <span class=\"ansi-green-fg\">if</span> s<span class=\"ansi-blue-fg\">.</span>startswith<span class=\"ansi-blue-fg\">(</span><span class=\"ansi-blue-fg\">&#39;org.apache.spark.sql.catalyst.analysis&#39;</span><span class=\"ansi-blue-fg\">)</span><span class=\"ansi-blue-fg\">:</span>\n",
       "<span class=\"ansi-green-intense-fg ansi-bold\">     71</span>                 <span class=\"ansi-green-fg\">raise</span> AnalysisException<span class=\"ansi-blue-fg\">(</span>s<span class=\"ansi-blue-fg\">.</span>split<span class=\"ansi-blue-fg\">(</span><span class=\"ansi-blue-fg\">&#39;: &#39;</span><span class=\"ansi-blue-fg\">,</span> <span class=\"ansi-cyan-fg\">1</span><span class=\"ansi-blue-fg\">)</span><span class=\"ansi-blue-fg\">[</span><span class=\"ansi-cyan-fg\">1</span><span class=\"ansi-blue-fg\">]</span><span class=\"ansi-blue-fg\">,</span> stackTrace<span class=\"ansi-blue-fg\">)</span>\n",
       "\n",
       "<span class=\"ansi-red-fg\">AnalysisException</span>: &#39;path dbfs:/tmp/databricks-df-grade_letter.parquet already exists.;&#39;</div>"
      ]
     },
     "metadata": {},
     "output_type": "display_data"
    }
   ],
   "source": [
    "grade_letter_columnDF.write.parquet(\"tmp/databricks-df-grade_letter.parquet\")"
   ]
  },
  {
   "cell_type": "code",
   "execution_count": 57,
   "metadata": {},
   "outputs": [
    {
     "data": {
      "text/html": [
       "<style scoped>\n",
       "  .ansiout {\n",
       "    display: block;\n",
       "    unicode-bidi: embed;\n",
       "    white-space: pre-wrap;\n",
       "    word-wrap: break-word;\n",
       "    word-break: break-all;\n",
       "    font-family: \"Source Code Pro\", \"Menlo\", monospace;;\n",
       "    font-size: 13px;\n",
       "    color: #555;\n",
       "    margin-left: 4px;\n",
       "    line-height: 19px;\n",
       "  }\n",
       "</style>\n",
       "<div class=\"ansiout\"></div>"
      ]
     },
     "metadata": {},
     "output_type": "display_data"
    }
   ],
   "source": [
    "# At the very least this worked.  I'm not sure what it does, but it works.\n",
    "\n",
    "from os.path import expanduser, join, abspath\n",
    "from pyspark.sql import SparkSession\n",
    "from pyspark.sql import Row\n",
    "\n",
    "warehouse_location = abspath('spark-warehouse')\n",
    "spark = SparkSession \\\n",
    ".builder \\\n",
    ".appName('Python Spark SQL Hive integration example')\\\n",
    ".config('spark.sql.warehouse.dir', warehouse_location)\\\n",
    ".enableHiveSupport()\\\n",
    ".getOrCreate()"
   ]
  },
  {
   "cell_type": "code",
   "execution_count": 58,
   "metadata": {},
   "outputs": [
    {
     "data": {
      "text/html": [
       "<style scoped>\n",
       "  .ansiout {\n",
       "    display: block;\n",
       "    unicode-bidi: embed;\n",
       "    white-space: pre-wrap;\n",
       "    word-wrap: break-word;\n",
       "    word-break: break-all;\n",
       "    font-family: \"Source Code Pro\", \"Menlo\", monospace;;\n",
       "    font-size: 13px;\n",
       "    color: #555;\n",
       "    margin-left: 4px;\n",
       "    line-height: 19px;\n",
       "  }\n",
       "</style>\n",
       "<div class=\"ansiout\">Out[53]: DataFrame[]</div>"
      ]
     },
     "metadata": {},
     "output_type": "display_data"
    }
   ],
   "source": [
    "spark.sql('CREATE TABLE IF NOT EXISTS Data1 (StudentID INT, StudentName STRING, PhoneNumber STRING, GPA DECIMAL(3,2))')\n",
    "# spark.sql(\"LOAD DATA '/FileStore/tables/homework9.csv' INTO TABLE Data1\")\n",
    "\n",
    "# so the problem here is that I don't know where my spark-warehouse is to put a file\n",
    "\n",
    "# /FileStore/tables/homework9.csv\n"
   ]
  },
  {
   "cell_type": "code",
   "execution_count": 59,
   "metadata": {},
   "outputs": [
    {
     "data": {
      "text/html": [
       "<style scoped>\n",
       "  .ansiout {\n",
       "    display: block;\n",
       "    unicode-bidi: embed;\n",
       "    white-space: pre-wrap;\n",
       "    word-wrap: break-word;\n",
       "    word-break: break-all;\n",
       "    font-family: \"Source Code Pro\", \"Menlo\", monospace;;\n",
       "    font-size: 13px;\n",
       "    color: #555;\n",
       "    margin-left: 4px;\n",
       "    line-height: 19px;\n",
       "  }\n",
       "</style>\n",
       "<div class=\"ansiout\"><span class=\"ansi-red-fg\">---------------------------------------------------------------------------</span>\n",
       "<span class=\"ansi-red-fg\">Py4JJavaError</span>                             Traceback (most recent call last)\n",
       "<span class=\"ansi-green-fg\">/databricks/spark/python/pyspark/sql/utils.py</span> in <span class=\"ansi-cyan-fg\">deco</span><span class=\"ansi-blue-fg\">(*a, **kw)</span>\n",
       "<span class=\"ansi-green-intense-fg ansi-bold\">     62</span>         <span class=\"ansi-green-fg\">try</span><span class=\"ansi-blue-fg\">:</span>\n",
       "<span class=\"ansi-green-fg\">---&gt; 63</span><span class=\"ansi-red-fg\">             </span><span class=\"ansi-green-fg\">return</span> f<span class=\"ansi-blue-fg\">(</span><span class=\"ansi-blue-fg\">*</span>a<span class=\"ansi-blue-fg\">,</span> <span class=\"ansi-blue-fg\">**</span>kw<span class=\"ansi-blue-fg\">)</span>\n",
       "<span class=\"ansi-green-intense-fg ansi-bold\">     64</span>         <span class=\"ansi-green-fg\">except</span> py4j<span class=\"ansi-blue-fg\">.</span>protocol<span class=\"ansi-blue-fg\">.</span>Py4JJavaError <span class=\"ansi-green-fg\">as</span> e<span class=\"ansi-blue-fg\">:</span>\n",
       "\n",
       "<span class=\"ansi-green-fg\">/databricks/spark/python/lib/py4j-0.10.7-src.zip/py4j/protocol.py</span> in <span class=\"ansi-cyan-fg\">get_return_value</span><span class=\"ansi-blue-fg\">(answer, gateway_client, target_id, name)</span>\n",
       "<span class=\"ansi-green-intense-fg ansi-bold\">    327</span>                     <span class=\"ansi-blue-fg\">&#34;An error occurred while calling {0}{1}{2}.\\n&#34;</span><span class=\"ansi-blue-fg\">.</span>\n",
       "<span class=\"ansi-green-fg\">--&gt; 328</span><span class=\"ansi-red-fg\">                     format(target_id, &#34;.&#34;, name), value)\n",
       "</span><span class=\"ansi-green-intense-fg ansi-bold\">    329</span>             <span class=\"ansi-green-fg\">else</span><span class=\"ansi-blue-fg\">:</span>\n",
       "\n",
       "<span class=\"ansi-red-fg\">Py4JJavaError</span>: An error occurred while calling o917.selectExpr.\n",
       ": org.apache.spark.sql.AnalysisException: No such struct field StudentID in Student ID, LastName, FirstName, PhoneNumber, GPA; line 1 pos 0\n",
       "\tat org.apache.spark.sql.catalyst.expressions.ExtractValue$.findField(complexTypeExtractors.scala:85)\n",
       "\tat org.apache.spark.sql.catalyst.expressions.ExtractValue$.apply(complexTypeExtractors.scala:53)\n",
       "\tat org.apache.spark.sql.catalyst.expressions.package$AttributeSeq$$anonfun$7.apply(package.scala:232)\n",
       "\tat org.apache.spark.sql.catalyst.expressions.package$AttributeSeq$$anonfun$7.apply(package.scala:231)\n",
       "\tat scala.collection.LinearSeqOptimized$class.foldLeft(LinearSeqOptimized.scala:124)\n",
       "\tat scala.collection.immutable.List.foldLeft(List.scala:84)\n",
       "\tat org.apache.spark.sql.catalyst.expressions.package$AttributeSeq.resolve(package.scala:231)\n",
       "\tat org.apache.spark.sql.catalyst.plans.logical.LogicalPlan.resolveChildren(LogicalPlan.scala:103)\n",
       "\tat org.apache.spark.sql.catalyst.analysis.Analyzer$ResolveReferences$$anonfun$42.apply(Analyzer.scala:919)\n",
       "\tat org.apache.spark.sql.catalyst.analysis.Analyzer$ResolveReferences$$anonfun$42.apply(Analyzer.scala:921)\n",
       "\tat org.apache.spark.sql.catalyst.analysis.package$.withPosition(package.scala:53)\n",
       "\tat org.apache.spark.sql.catalyst.analysis.Analyzer$ResolveReferences$.org$apache$spark$sql$catalyst$analysis$Analyzer$ResolveReferences$$resolve(Analyzer.scala:918)\n",
       "\tat org.apache.spark.sql.catalyst.analysis.Analyzer$ResolveReferences$$anonfun$org$apache$spark$sql$catalyst$analysis$Analyzer$ResolveReferences$$resolve$2.apply(Analyzer.scala:927)\n",
       "\tat org.apache.spark.sql.catalyst.analysis.Analyzer$ResolveReferences$$anonfun$org$apache$spark$sql$catalyst$analysis$Analyzer$ResolveReferences$$resolve$2.apply(Analyzer.scala:927)\n",
       "\tat org.apache.spark.sql.catalyst.trees.TreeNode$$anonfun$8.apply(TreeNode.scala:353)\n",
       "\tat org.apache.spark.sql.catalyst.trees.TreeNode.mapProductIterator(TreeNode.scala:207)\n",
       "\tat org.apache.spark.sql.catalyst.trees.TreeNode.mapChildren(TreeNode.scala:351)\n",
       "\tat org.apache.spark.sql.catalyst.analysis.Analyzer$ResolveReferences$.org$apache$spark$sql$catalyst$analysis$Analyzer$ResolveReferences$$resolve(Analyzer.scala:927)\n",
       "\tat org.apache.spark.sql.catalyst.analysis.Analyzer$ResolveReferences$$anonfun$apply$9$$anonfun$applyOrElse$36.apply(Analyzer.scala:1005)\n",
       "\tat org.apache.spark.sql.catalyst.analysis.Analyzer$ResolveReferences$$anonfun$apply$9$$anonfun$applyOrElse$36.apply(Analyzer.scala:1005)\n",
       "\tat org.apache.spark.sql.catalyst.plans.QueryPlan$$anonfun$3.apply(QueryPlan.scala:106)\n",
       "\tat org.apache.spark.sql.catalyst.plans.QueryPlan$$anonfun$3.apply(QueryPlan.scala:106)\n",
       "\tat org.apache.spark.sql.catalyst.trees.CurrentOrigin$.withOrigin(TreeNode.scala:76)\n",
       "\tat org.apache.spark.sql.catalyst.plans.QueryPlan.transformExpression$1(QueryPlan.scala:105)\n",
       "\tat org.apache.spark.sql.catalyst.plans.QueryPlan.org$apache$spark$sql$catalyst$plans$QueryPlan$$recursiveTransform$1(QueryPlan.scala:117)\n",
       "\tat org.apache.spark.sql.catalyst.plans.QueryPlan$$anonfun$org$apache$spark$sql$catalyst$plans$QueryPlan$$recursiveTransform$1$2.apply(QueryPlan.scala:122)\n",
       "\tat scala.collection.TraversableLike$$anonfun$map$1.apply(TraversableLike.scala:234)\n",
       "\tat scala.collection.TraversableLike$$anonfun$map$1.apply(TraversableLike.scala:234)\n",
       "\tat scala.collection.mutable.ResizableArray$class.foreach(ResizableArray.scala:59)\n",
       "\tat scala.collection.mutable.ArrayBuffer.foreach(ArrayBuffer.scala:48)\n",
       "\tat scala.collection.TraversableLike$class.map(TraversableLike.scala:234)\n",
       "\tat scala.collection.AbstractTraversable.map(Traversable.scala:104)\n",
       "\tat org.apache.spark.sql.catalyst.plans.QueryPlan.org$apache$spark$sql$catalyst$plans$QueryPlan$$recursiveTransform$1(QueryPlan.scala:122)\n",
       "\tat org.apache.spark.sql.catalyst.plans.QueryPlan$$anonfun$4.apply(QueryPlan.scala:127)\n",
       "\tat org.apache.spark.sql.catalyst.trees.TreeNode.mapProductIterator(TreeNode.scala:207)\n",
       "\tat org.apache.spark.sql.catalyst.plans.QueryPlan.mapExpressions(QueryPlan.scala:127)\n",
       "\tat org.apache.spark.sql.catalyst.analysis.Analyzer$ResolveReferences$$anonfun$apply$9.applyOrElse(Analyzer.scala:1005)\n",
       "\tat org.apache.spark.sql.catalyst.analysis.Analyzer$ResolveReferences$$anonfun$apply$9.applyOrElse(Analyzer.scala:930)\n",
       "\tat org.apache.spark.sql.catalyst.plans.logical.AnalysisHelper$$anonfun$resolveOperatorsUp$1$$anonfun$apply$1.apply(AnalysisHelper.scala:90)\n",
       "\tat org.apache.spark.sql.catalyst.plans.logical.AnalysisHelper$$anonfun$resolveOperatorsUp$1$$anonfun$apply$1.apply(AnalysisHelper.scala:90)\n",
       "\tat org.apache.spark.sql.catalyst.trees.CurrentOrigin$.withOrigin(TreeNode.scala:76)\n",
       "\tat org.apache.spark.sql.catalyst.plans.logical.AnalysisHelper$$anonfun$resolveOperatorsUp$1.apply(AnalysisHelper.scala:89)\n",
       "\tat org.apache.spark.sql.catalyst.plans.logical.AnalysisHelper$$anonfun$resolveOperatorsUp$1.apply(AnalysisHelper.scala:86)\n",
       "\tat org.apache.spark.sql.catalyst.plans.logical.AnalysisHelper$.allowInvokingTransformsInAnalyzer(AnalysisHelper.scala:194)\n",
       "\tat org.apache.spark.sql.catalyst.plans.logical.AnalysisHelper$class.resolveOperatorsUp(AnalysisHelper.scala:86)\n",
       "\tat org.apache.spark.sql.catalyst.plans.logical.LogicalPlan.resolveOperatorsUp(LogicalPlan.scala:29)\n",
       "\tat org.apache.spark.sql.catalyst.analysis.Analyzer$ResolveReferences$.apply(Analyzer.scala:930)\n",
       "\tat org.apache.spark.sql.catalyst.analysis.Analyzer$ResolveReferences$.apply(Analyzer.scala:775)\n",
       "\tat org.apache.spark.sql.catalyst.rules.RuleExecutor$$anonfun$execute$1$$anonfun$apply$1.apply(RuleExecutor.scala:112)\n",
       "\tat org.apache.spark.sql.catalyst.rules.RuleExecutor$$anonfun$execute$1$$anonfun$apply$1.apply(RuleExecutor.scala:109)\n",
       "\tat scala.collection.LinearSeqOptimized$class.foldLeft(LinearSeqOptimized.scala:124)\n",
       "\tat scala.collection.immutable.List.foldLeft(List.scala:84)\n",
       "\tat org.apache.spark.sql.catalyst.rules.RuleExecutor$$anonfun$execute$1.apply(RuleExecutor.scala:109)\n",
       "\tat org.apache.spark.sql.catalyst.rules.RuleExecutor$$anonfun$execute$1.apply(RuleExecutor.scala:101)\n",
       "\tat scala.collection.immutable.List.foreach(List.scala:392)\n",
       "\tat org.apache.spark.sql.catalyst.rules.RuleExecutor.execute(RuleExecutor.scala:101)\n",
       "\tat org.apache.spark.sql.catalyst.analysis.Analyzer.org$apache$spark$sql$catalyst$analysis$Analyzer$$executeSameContext(Analyzer.scala:137)\n",
       "\tat org.apache.spark.sql.catalyst.analysis.Analyzer.execute(Analyzer.scala:131)\n",
       "\tat org.apache.spark.sql.catalyst.analysis.Analyzer.execute(Analyzer.scala:103)\n",
       "\tat org.apache.spark.sql.catalyst.rules.RuleExecutor$$anonfun$executeAndTrack$1.apply(RuleExecutor.scala:80)\n",
       "\tat org.apache.spark.sql.catalyst.rules.RuleExecutor$$anonfun$executeAndTrack$1.apply(RuleExecutor.scala:80)\n",
       "\tat org.apache.spark.sql.catalyst.QueryPlanningTracker$.withTracker(QueryPlanningTracker.scala:88)\n",
       "\tat org.apache.spark.sql.catalyst.rules.RuleExecutor.executeAndTrack(RuleExecutor.scala:79)\n",
       "\tat org.apache.spark.sql.catalyst.analysis.Analyzer$$anonfun$executeAndCheck$1.apply(Analyzer.scala:115)\n",
       "\tat org.apache.spark.sql.catalyst.analysis.Analyzer$$anonfun$executeAndCheck$1.apply(Analyzer.scala:114)\n",
       "\tat org.apache.spark.sql.catalyst.plans.logical.AnalysisHelper$.markInAnalyzer(AnalysisHelper.scala:201)\n",
       "\tat org.apache.spark.sql.catalyst.analysis.Analyzer.executeAndCheck(Analyzer.scala:114)\n",
       "\tat org.apache.spark.sql.execution.QueryExecution$$anonfun$analyzed$1.apply(QueryExecution.scala:86)\n",
       "\tat org.apache.spark.sql.execution.QueryExecution$$anonfun$analyzed$1.apply(QueryExecution.scala:83)\n",
       "\tat org.apache.spark.sql.catalyst.QueryPlanningTracker.measurePhase(QueryPlanningTracker.scala:111)\n",
       "\tat org.apache.spark.sql.execution.QueryExecution.analyzed$lzycompute(QueryExecution.scala:83)\n",
       "\tat org.apache.spark.sql.execution.QueryExecution.analyzed(QueryExecution.scala:83)\n",
       "\tat org.apache.spark.sql.execution.QueryExecution.assertAnalyzed(QueryExecution.scala:75)\n",
       "\tat org.apache.spark.sql.Dataset$.ofRows(Dataset.scala:81)\n",
       "\tat org.apache.spark.sql.Dataset.org$apache$spark$sql$Dataset$$withPlan(Dataset.scala:3534)\n",
       "\tat org.apache.spark.sql.Dataset.select(Dataset.scala:1362)\n",
       "\tat org.apache.spark.sql.Dataset.selectExpr(Dataset.scala:1397)\n",
       "\tat sun.reflect.NativeMethodAccessorImpl.invoke0(Native Method)\n",
       "\tat sun.reflect.NativeMethodAccessorImpl.invoke(NativeMethodAccessorImpl.java:62)\n",
       "\tat sun.reflect.DelegatingMethodAccessorImpl.invoke(DelegatingMethodAccessorImpl.java:43)\n",
       "\tat java.lang.reflect.Method.invoke(Method.java:498)\n",
       "\tat py4j.reflection.MethodInvoker.invoke(MethodInvoker.java:244)\n",
       "\tat py4j.reflection.ReflectionEngine.invoke(ReflectionEngine.java:380)\n",
       "\tat py4j.Gateway.invoke(Gateway.java:295)\n",
       "\tat py4j.commands.AbstractCommand.invokeMethod(AbstractCommand.java:132)\n",
       "\tat py4j.commands.CallCommand.execute(CallCommand.java:79)\n",
       "\tat py4j.GatewayConnection.run(GatewayConnection.java:251)\n",
       "\tat java.lang.Thread.run(Thread.java:748)\n",
       "\n",
       "\n",
       "During handling of the above exception, another exception occurred:\n",
       "\n",
       "<span class=\"ansi-red-fg\">AnalysisException</span>                         Traceback (most recent call last)\n",
       "<span class=\"ansi-green-fg\">&lt;command-3935034459191343&gt;</span> in <span class=\"ansi-cyan-fg\">&lt;module&gt;</span>\n",
       "<span class=\"ansi-green-intense-fg ansi-bold\">      3</span> \n",
       "<span class=\"ansi-green-intense-fg ansi-bold\">      4</span> explodeDF <span class=\"ansi-blue-fg\">=</span> unionDF<span class=\"ansi-blue-fg\">.</span>select<span class=\"ansi-blue-fg\">(</span>explode<span class=\"ansi-blue-fg\">(</span><span class=\"ansi-blue-fg\">&#39;students&#39;</span><span class=\"ansi-blue-fg\">)</span><span class=\"ansi-blue-fg\">.</span>alias<span class=\"ansi-blue-fg\">(</span><span class=\"ansi-blue-fg\">&#39;s&#39;</span><span class=\"ansi-blue-fg\">)</span><span class=\"ansi-blue-fg\">)</span>\n",
       "<span class=\"ansi-green-fg\">----&gt; 5</span><span class=\"ansi-red-fg\"> </span>flattenDF <span class=\"ansi-blue-fg\">=</span> explodeDF<span class=\"ansi-blue-fg\">.</span>selectExpr<span class=\"ansi-blue-fg\">(</span><span class=\"ansi-blue-fg\">&#39;s.StudentID&#39;</span><span class=\"ansi-blue-fg\">,</span><span class=\"ansi-blue-fg\">&#39;s.LastName&#39;</span><span class=\"ansi-blue-fg\">,</span> <span class=\"ansi-blue-fg\">&#39;s.FirstName&#39;</span><span class=\"ansi-blue-fg\">,</span> <span class=\"ansi-blue-fg\">&#39;s.PhoneNumber&#39;</span><span class=\"ansi-blue-fg\">,</span> <span class=\"ansi-blue-fg\">&#39;s.GPA&#39;</span><span class=\"ansi-blue-fg\">)</span>\n",
       "<span class=\"ansi-green-intense-fg ansi-bold\">      6</span> \n",
       "<span class=\"ansi-green-intense-fg ansi-bold\">      7</span> flattenDF<span class=\"ansi-blue-fg\">.</span>show<span class=\"ansi-blue-fg\">(</span><span class=\"ansi-blue-fg\">)</span>\n",
       "\n",
       "<span class=\"ansi-green-fg\">/databricks/spark/python/pyspark/sql/dataframe.py</span> in <span class=\"ansi-cyan-fg\">selectExpr</span><span class=\"ansi-blue-fg\">(self, *expr)</span>\n",
       "<span class=\"ansi-green-intense-fg ansi-bold\">   1366</span>         <span class=\"ansi-green-fg\">if</span> len<span class=\"ansi-blue-fg\">(</span>expr<span class=\"ansi-blue-fg\">)</span> <span class=\"ansi-blue-fg\">==</span> <span class=\"ansi-cyan-fg\">1</span> <span class=\"ansi-green-fg\">and</span> isinstance<span class=\"ansi-blue-fg\">(</span>expr<span class=\"ansi-blue-fg\">[</span><span class=\"ansi-cyan-fg\">0</span><span class=\"ansi-blue-fg\">]</span><span class=\"ansi-blue-fg\">,</span> list<span class=\"ansi-blue-fg\">)</span><span class=\"ansi-blue-fg\">:</span>\n",
       "<span class=\"ansi-green-intense-fg ansi-bold\">   1367</span>             expr <span class=\"ansi-blue-fg\">=</span> expr<span class=\"ansi-blue-fg\">[</span><span class=\"ansi-cyan-fg\">0</span><span class=\"ansi-blue-fg\">]</span>\n",
       "<span class=\"ansi-green-fg\">-&gt; 1368</span><span class=\"ansi-red-fg\">         </span>jdf <span class=\"ansi-blue-fg\">=</span> self<span class=\"ansi-blue-fg\">.</span>_jdf<span class=\"ansi-blue-fg\">.</span>selectExpr<span class=\"ansi-blue-fg\">(</span>self<span class=\"ansi-blue-fg\">.</span>_jseq<span class=\"ansi-blue-fg\">(</span>expr<span class=\"ansi-blue-fg\">)</span><span class=\"ansi-blue-fg\">)</span>\n",
       "<span class=\"ansi-green-intense-fg ansi-bold\">   1369</span>         <span class=\"ansi-green-fg\">return</span> DataFrame<span class=\"ansi-blue-fg\">(</span>jdf<span class=\"ansi-blue-fg\">,</span> self<span class=\"ansi-blue-fg\">.</span>sql_ctx<span class=\"ansi-blue-fg\">)</span>\n",
       "<span class=\"ansi-green-intense-fg ansi-bold\">   1370</span> \n",
       "\n",
       "<span class=\"ansi-green-fg\">/databricks/spark/python/lib/py4j-0.10.7-src.zip/py4j/java_gateway.py</span> in <span class=\"ansi-cyan-fg\">__call__</span><span class=\"ansi-blue-fg\">(self, *args)</span>\n",
       "<span class=\"ansi-green-intense-fg ansi-bold\">   1255</span>         answer <span class=\"ansi-blue-fg\">=</span> self<span class=\"ansi-blue-fg\">.</span>gateway_client<span class=\"ansi-blue-fg\">.</span>send_command<span class=\"ansi-blue-fg\">(</span>command<span class=\"ansi-blue-fg\">)</span>\n",
       "<span class=\"ansi-green-intense-fg ansi-bold\">   1256</span>         return_value = get_return_value(\n",
       "<span class=\"ansi-green-fg\">-&gt; 1257</span><span class=\"ansi-red-fg\">             answer, self.gateway_client, self.target_id, self.name)\n",
       "</span><span class=\"ansi-green-intense-fg ansi-bold\">   1258</span> \n",
       "<span class=\"ansi-green-intense-fg ansi-bold\">   1259</span>         <span class=\"ansi-green-fg\">for</span> temp_arg <span class=\"ansi-green-fg\">in</span> temp_args<span class=\"ansi-blue-fg\">:</span>\n",
       "\n",
       "<span class=\"ansi-green-fg\">/databricks/spark/python/pyspark/sql/utils.py</span> in <span class=\"ansi-cyan-fg\">deco</span><span class=\"ansi-blue-fg\">(*a, **kw)</span>\n",
       "<span class=\"ansi-green-intense-fg ansi-bold\">     67</span>                                              e.java_exception.getStackTrace()))\n",
       "<span class=\"ansi-green-intense-fg ansi-bold\">     68</span>             <span class=\"ansi-green-fg\">if</span> s<span class=\"ansi-blue-fg\">.</span>startswith<span class=\"ansi-blue-fg\">(</span><span class=\"ansi-blue-fg\">&#39;org.apache.spark.sql.AnalysisException: &#39;</span><span class=\"ansi-blue-fg\">)</span><span class=\"ansi-blue-fg\">:</span>\n",
       "<span class=\"ansi-green-fg\">---&gt; 69</span><span class=\"ansi-red-fg\">                 </span><span class=\"ansi-green-fg\">raise</span> AnalysisException<span class=\"ansi-blue-fg\">(</span>s<span class=\"ansi-blue-fg\">.</span>split<span class=\"ansi-blue-fg\">(</span><span class=\"ansi-blue-fg\">&#39;: &#39;</span><span class=\"ansi-blue-fg\">,</span> <span class=\"ansi-cyan-fg\">1</span><span class=\"ansi-blue-fg\">)</span><span class=\"ansi-blue-fg\">[</span><span class=\"ansi-cyan-fg\">1</span><span class=\"ansi-blue-fg\">]</span><span class=\"ansi-blue-fg\">,</span> stackTrace<span class=\"ansi-blue-fg\">)</span>\n",
       "<span class=\"ansi-green-intense-fg ansi-bold\">     70</span>             <span class=\"ansi-green-fg\">if</span> s<span class=\"ansi-blue-fg\">.</span>startswith<span class=\"ansi-blue-fg\">(</span><span class=\"ansi-blue-fg\">&#39;org.apache.spark.sql.catalyst.analysis&#39;</span><span class=\"ansi-blue-fg\">)</span><span class=\"ansi-blue-fg\">:</span>\n",
       "<span class=\"ansi-green-intense-fg ansi-bold\">     71</span>                 <span class=\"ansi-green-fg\">raise</span> AnalysisException<span class=\"ansi-blue-fg\">(</span>s<span class=\"ansi-blue-fg\">.</span>split<span class=\"ansi-blue-fg\">(</span><span class=\"ansi-blue-fg\">&#39;: &#39;</span><span class=\"ansi-blue-fg\">,</span> <span class=\"ansi-cyan-fg\">1</span><span class=\"ansi-blue-fg\">)</span><span class=\"ansi-blue-fg\">[</span><span class=\"ansi-cyan-fg\">1</span><span class=\"ansi-blue-fg\">]</span><span class=\"ansi-blue-fg\">,</span> stackTrace<span class=\"ansi-blue-fg\">)</span>\n",
       "\n",
       "<span class=\"ansi-red-fg\">AnalysisException</span>: &#39;No such struct field StudentID in Student ID, LastName, FirstName, PhoneNumber, GPA; line 1 pos 0&#39;</div>"
      ]
     },
     "metadata": {},
     "output_type": "display_data"
    }
   ],
   "source": [
    "# Now we're going to Explode the students column.  What a fun word!\n",
    "from pyspark.sql.functions import explode\n",
    "\n",
    "explodeDF = unionDF.select(explode('students').alias('s'))\n",
    "flattenDF = explodeDF.selectExpr('s.StudentID','s.LastName', 's.FirstName', 's.PhoneNumber', 's.GPA')\n",
    "\n",
    "flattenDF.show()"
   ]
  },
  {
   "cell_type": "code",
   "execution_count": 60,
   "metadata": {},
   "outputs": [
    {
     "data": {
      "text/html": [
       "<style scoped>\n",
       "  .ansiout {\n",
       "    display: block;\n",
       "    unicode-bidi: embed;\n",
       "    white-space: pre-wrap;\n",
       "    word-wrap: break-word;\n",
       "    word-break: break-all;\n",
       "    font-family: \"Source Code Pro\", \"Menlo\", monospace;;\n",
       "    font-size: 13px;\n",
       "    color: #555;\n",
       "    margin-left: 4px;\n",
       "    line-height: 19px;\n",
       "  }\n",
       "</style>\n",
       "<div class=\"ansiout\"><span class=\"ansi-red-fg\">---------------------------------------------------------------------------</span>\n",
       "<span class=\"ansi-red-fg\">Py4JJavaError</span>                             Traceback (most recent call last)\n",
       "<span class=\"ansi-green-fg\">/databricks/spark/python/pyspark/sql/utils.py</span> in <span class=\"ansi-cyan-fg\">deco</span><span class=\"ansi-blue-fg\">(*a, **kw)</span>\n",
       "<span class=\"ansi-green-intense-fg ansi-bold\">     62</span>         <span class=\"ansi-green-fg\">try</span><span class=\"ansi-blue-fg\">:</span>\n",
       "<span class=\"ansi-green-fg\">---&gt; 63</span><span class=\"ansi-red-fg\">             </span><span class=\"ansi-green-fg\">return</span> f<span class=\"ansi-blue-fg\">(</span><span class=\"ansi-blue-fg\">*</span>a<span class=\"ansi-blue-fg\">,</span> <span class=\"ansi-blue-fg\">**</span>kw<span class=\"ansi-blue-fg\">)</span>\n",
       "<span class=\"ansi-green-intense-fg ansi-bold\">     64</span>         <span class=\"ansi-green-fg\">except</span> py4j<span class=\"ansi-blue-fg\">.</span>protocol<span class=\"ansi-blue-fg\">.</span>Py4JJavaError <span class=\"ansi-green-fg\">as</span> e<span class=\"ansi-blue-fg\">:</span>\n",
       "\n",
       "<span class=\"ansi-green-fg\">/databricks/spark/python/lib/py4j-0.10.7-src.zip/py4j/protocol.py</span> in <span class=\"ansi-cyan-fg\">get_return_value</span><span class=\"ansi-blue-fg\">(answer, gateway_client, target_id, name)</span>\n",
       "<span class=\"ansi-green-intense-fg ansi-bold\">    327</span>                     <span class=\"ansi-blue-fg\">&#34;An error occurred while calling {0}{1}{2}.\\n&#34;</span><span class=\"ansi-blue-fg\">.</span>\n",
       "<span class=\"ansi-green-fg\">--&gt; 328</span><span class=\"ansi-red-fg\">                     format(target_id, &#34;.&#34;, name), value)\n",
       "</span><span class=\"ansi-green-intense-fg ansi-bold\">    329</span>             <span class=\"ansi-green-fg\">else</span><span class=\"ansi-blue-fg\">:</span>\n",
       "\n",
       "<span class=\"ansi-red-fg\">Py4JJavaError</span>: An error occurred while calling o917.selectExpr.\n",
       ": org.apache.spark.sql.AnalysisException: No such struct field StudentID in Student ID, LastName, FirstName, PhoneNumber, GPA; line 1 pos 0\n",
       "\tat org.apache.spark.sql.catalyst.expressions.ExtractValue$.findField(complexTypeExtractors.scala:85)\n",
       "\tat org.apache.spark.sql.catalyst.expressions.ExtractValue$.apply(complexTypeExtractors.scala:53)\n",
       "\tat org.apache.spark.sql.catalyst.expressions.package$AttributeSeq$$anonfun$7.apply(package.scala:232)\n",
       "\tat org.apache.spark.sql.catalyst.expressions.package$AttributeSeq$$anonfun$7.apply(package.scala:231)\n",
       "\tat scala.collection.LinearSeqOptimized$class.foldLeft(LinearSeqOptimized.scala:124)\n",
       "\tat scala.collection.immutable.List.foldLeft(List.scala:84)\n",
       "\tat org.apache.spark.sql.catalyst.expressions.package$AttributeSeq.resolve(package.scala:231)\n",
       "\tat org.apache.spark.sql.catalyst.plans.logical.LogicalPlan.resolveChildren(LogicalPlan.scala:103)\n",
       "\tat org.apache.spark.sql.catalyst.analysis.Analyzer$ResolveReferences$$anonfun$42.apply(Analyzer.scala:919)\n",
       "\tat org.apache.spark.sql.catalyst.analysis.Analyzer$ResolveReferences$$anonfun$42.apply(Analyzer.scala:921)\n",
       "\tat org.apache.spark.sql.catalyst.analysis.package$.withPosition(package.scala:53)\n",
       "\tat org.apache.spark.sql.catalyst.analysis.Analyzer$ResolveReferences$.org$apache$spark$sql$catalyst$analysis$Analyzer$ResolveReferences$$resolve(Analyzer.scala:918)\n",
       "\tat org.apache.spark.sql.catalyst.analysis.Analyzer$ResolveReferences$$anonfun$org$apache$spark$sql$catalyst$analysis$Analyzer$ResolveReferences$$resolve$2.apply(Analyzer.scala:927)\n",
       "\tat org.apache.spark.sql.catalyst.analysis.Analyzer$ResolveReferences$$anonfun$org$apache$spark$sql$catalyst$analysis$Analyzer$ResolveReferences$$resolve$2.apply(Analyzer.scala:927)\n",
       "\tat org.apache.spark.sql.catalyst.trees.TreeNode$$anonfun$8.apply(TreeNode.scala:353)\n",
       "\tat org.apache.spark.sql.catalyst.trees.TreeNode.mapProductIterator(TreeNode.scala:207)\n",
       "\tat org.apache.spark.sql.catalyst.trees.TreeNode.mapChildren(TreeNode.scala:351)\n",
       "\tat org.apache.spark.sql.catalyst.analysis.Analyzer$ResolveReferences$.org$apache$spark$sql$catalyst$analysis$Analyzer$ResolveReferences$$resolve(Analyzer.scala:927)\n",
       "\tat org.apache.spark.sql.catalyst.analysis.Analyzer$ResolveReferences$$anonfun$apply$9$$anonfun$applyOrElse$36.apply(Analyzer.scala:1005)\n",
       "\tat org.apache.spark.sql.catalyst.analysis.Analyzer$ResolveReferences$$anonfun$apply$9$$anonfun$applyOrElse$36.apply(Analyzer.scala:1005)\n",
       "\tat org.apache.spark.sql.catalyst.plans.QueryPlan$$anonfun$3.apply(QueryPlan.scala:106)\n",
       "\tat org.apache.spark.sql.catalyst.plans.QueryPlan$$anonfun$3.apply(QueryPlan.scala:106)\n",
       "\tat org.apache.spark.sql.catalyst.trees.CurrentOrigin$.withOrigin(TreeNode.scala:76)\n",
       "\tat org.apache.spark.sql.catalyst.plans.QueryPlan.transformExpression$1(QueryPlan.scala:105)\n",
       "\tat org.apache.spark.sql.catalyst.plans.QueryPlan.org$apache$spark$sql$catalyst$plans$QueryPlan$$recursiveTransform$1(QueryPlan.scala:117)\n",
       "\tat org.apache.spark.sql.catalyst.plans.QueryPlan$$anonfun$org$apache$spark$sql$catalyst$plans$QueryPlan$$recursiveTransform$1$2.apply(QueryPlan.scala:122)\n",
       "\tat scala.collection.TraversableLike$$anonfun$map$1.apply(TraversableLike.scala:234)\n",
       "\tat scala.collection.TraversableLike$$anonfun$map$1.apply(TraversableLike.scala:234)\n",
       "\tat scala.collection.mutable.ResizableArray$class.foreach(ResizableArray.scala:59)\n",
       "\tat scala.collection.mutable.ArrayBuffer.foreach(ArrayBuffer.scala:48)\n",
       "\tat scala.collection.TraversableLike$class.map(TraversableLike.scala:234)\n",
       "\tat scala.collection.AbstractTraversable.map(Traversable.scala:104)\n",
       "\tat org.apache.spark.sql.catalyst.plans.QueryPlan.org$apache$spark$sql$catalyst$plans$QueryPlan$$recursiveTransform$1(QueryPlan.scala:122)\n",
       "\tat org.apache.spark.sql.catalyst.plans.QueryPlan$$anonfun$4.apply(QueryPlan.scala:127)\n",
       "\tat org.apache.spark.sql.catalyst.trees.TreeNode.mapProductIterator(TreeNode.scala:207)\n",
       "\tat org.apache.spark.sql.catalyst.plans.QueryPlan.mapExpressions(QueryPlan.scala:127)\n",
       "\tat org.apache.spark.sql.catalyst.analysis.Analyzer$ResolveReferences$$anonfun$apply$9.applyOrElse(Analyzer.scala:1005)\n",
       "\tat org.apache.spark.sql.catalyst.analysis.Analyzer$ResolveReferences$$anonfun$apply$9.applyOrElse(Analyzer.scala:930)\n",
       "\tat org.apache.spark.sql.catalyst.plans.logical.AnalysisHelper$$anonfun$resolveOperatorsUp$1$$anonfun$apply$1.apply(AnalysisHelper.scala:90)\n",
       "\tat org.apache.spark.sql.catalyst.plans.logical.AnalysisHelper$$anonfun$resolveOperatorsUp$1$$anonfun$apply$1.apply(AnalysisHelper.scala:90)\n",
       "\tat org.apache.spark.sql.catalyst.trees.CurrentOrigin$.withOrigin(TreeNode.scala:76)\n",
       "\tat org.apache.spark.sql.catalyst.plans.logical.AnalysisHelper$$anonfun$resolveOperatorsUp$1.apply(AnalysisHelper.scala:89)\n",
       "\tat org.apache.spark.sql.catalyst.plans.logical.AnalysisHelper$$anonfun$resolveOperatorsUp$1.apply(AnalysisHelper.scala:86)\n",
       "\tat org.apache.spark.sql.catalyst.plans.logical.AnalysisHelper$.allowInvokingTransformsInAnalyzer(AnalysisHelper.scala:194)\n",
       "\tat org.apache.spark.sql.catalyst.plans.logical.AnalysisHelper$class.resolveOperatorsUp(AnalysisHelper.scala:86)\n",
       "\tat org.apache.spark.sql.catalyst.plans.logical.LogicalPlan.resolveOperatorsUp(LogicalPlan.scala:29)\n",
       "\tat org.apache.spark.sql.catalyst.analysis.Analyzer$ResolveReferences$.apply(Analyzer.scala:930)\n",
       "\tat org.apache.spark.sql.catalyst.analysis.Analyzer$ResolveReferences$.apply(Analyzer.scala:775)\n",
       "\tat org.apache.spark.sql.catalyst.rules.RuleExecutor$$anonfun$execute$1$$anonfun$apply$1.apply(RuleExecutor.scala:112)\n",
       "\tat org.apache.spark.sql.catalyst.rules.RuleExecutor$$anonfun$execute$1$$anonfun$apply$1.apply(RuleExecutor.scala:109)\n",
       "\tat scala.collection.LinearSeqOptimized$class.foldLeft(LinearSeqOptimized.scala:124)\n",
       "\tat scala.collection.immutable.List.foldLeft(List.scala:84)\n",
       "\tat org.apache.spark.sql.catalyst.rules.RuleExecutor$$anonfun$execute$1.apply(RuleExecutor.scala:109)\n",
       "\tat org.apache.spark.sql.catalyst.rules.RuleExecutor$$anonfun$execute$1.apply(RuleExecutor.scala:101)\n",
       "\tat scala.collection.immutable.List.foreach(List.scala:392)\n",
       "\tat org.apache.spark.sql.catalyst.rules.RuleExecutor.execute(RuleExecutor.scala:101)\n",
       "\tat org.apache.spark.sql.catalyst.analysis.Analyzer.org$apache$spark$sql$catalyst$analysis$Analyzer$$executeSameContext(Analyzer.scala:137)\n",
       "\tat org.apache.spark.sql.catalyst.analysis.Analyzer.execute(Analyzer.scala:131)\n",
       "\tat org.apache.spark.sql.catalyst.analysis.Analyzer.execute(Analyzer.scala:103)\n",
       "\tat org.apache.spark.sql.catalyst.rules.RuleExecutor$$anonfun$executeAndTrack$1.apply(RuleExecutor.scala:80)\n",
       "\tat org.apache.spark.sql.catalyst.rules.RuleExecutor$$anonfun$executeAndTrack$1.apply(RuleExecutor.scala:80)\n",
       "\tat org.apache.spark.sql.catalyst.QueryPlanningTracker$.withTracker(QueryPlanningTracker.scala:88)\n",
       "\tat org.apache.spark.sql.catalyst.rules.RuleExecutor.executeAndTrack(RuleExecutor.scala:79)\n",
       "\tat org.apache.spark.sql.catalyst.analysis.Analyzer$$anonfun$executeAndCheck$1.apply(Analyzer.scala:115)\n",
       "\tat org.apache.spark.sql.catalyst.analysis.Analyzer$$anonfun$executeAndCheck$1.apply(Analyzer.scala:114)\n",
       "\tat org.apache.spark.sql.catalyst.plans.logical.AnalysisHelper$.markInAnalyzer(AnalysisHelper.scala:201)\n",
       "\tat org.apache.spark.sql.catalyst.analysis.Analyzer.executeAndCheck(Analyzer.scala:114)\n",
       "\tat org.apache.spark.sql.execution.QueryExecution$$anonfun$analyzed$1.apply(QueryExecution.scala:86)\n",
       "\tat org.apache.spark.sql.execution.QueryExecution$$anonfun$analyzed$1.apply(QueryExecution.scala:83)\n",
       "\tat org.apache.spark.sql.catalyst.QueryPlanningTracker.measurePhase(QueryPlanningTracker.scala:111)\n",
       "\tat org.apache.spark.sql.execution.QueryExecution.analyzed$lzycompute(QueryExecution.scala:83)\n",
       "\tat org.apache.spark.sql.execution.QueryExecution.analyzed(QueryExecution.scala:83)\n",
       "\tat org.apache.spark.sql.execution.QueryExecution.assertAnalyzed(QueryExecution.scala:75)\n",
       "\tat org.apache.spark.sql.Dataset$.ofRows(Dataset.scala:81)\n",
       "\tat org.apache.spark.sql.Dataset.org$apache$spark$sql$Dataset$$withPlan(Dataset.scala:3534)\n",
       "\tat org.apache.spark.sql.Dataset.select(Dataset.scala:1362)\n",
       "\tat org.apache.spark.sql.Dataset.selectExpr(Dataset.scala:1397)\n",
       "\tat sun.reflect.NativeMethodAccessorImpl.invoke0(Native Method)\n",
       "\tat sun.reflect.NativeMethodAccessorImpl.invoke(NativeMethodAccessorImpl.java:62)\n",
       "\tat sun.reflect.DelegatingMethodAccessorImpl.invoke(DelegatingMethodAccessorImpl.java:43)\n",
       "\tat java.lang.reflect.Method.invoke(Method.java:498)\n",
       "\tat py4j.reflection.MethodInvoker.invoke(MethodInvoker.java:244)\n",
       "\tat py4j.reflection.ReflectionEngine.invoke(ReflectionEngine.java:380)\n",
       "\tat py4j.Gateway.invoke(Gateway.java:295)\n",
       "\tat py4j.commands.AbstractCommand.invokeMethod(AbstractCommand.java:132)\n",
       "\tat py4j.commands.CallCommand.execute(CallCommand.java:79)\n",
       "\tat py4j.GatewayConnection.run(GatewayConnection.java:251)\n",
       "\tat java.lang.Thread.run(Thread.java:748)\n",
       "\n",
       "\n",
       "During handling of the above exception, another exception occurred:\n",
       "\n",
       "<span class=\"ansi-red-fg\">AnalysisException</span>                         Traceback (most recent call last)\n",
       "<span class=\"ansi-green-fg\">&lt;command-3935034459191343&gt;</span> in <span class=\"ansi-cyan-fg\">&lt;module&gt;</span>\n",
       "<span class=\"ansi-green-intense-fg ansi-bold\">      3</span> \n",
       "<span class=\"ansi-green-intense-fg ansi-bold\">      4</span> explodeDF <span class=\"ansi-blue-fg\">=</span> unionDF<span class=\"ansi-blue-fg\">.</span>select<span class=\"ansi-blue-fg\">(</span>explode<span class=\"ansi-blue-fg\">(</span><span class=\"ansi-blue-fg\">&#39;students&#39;</span><span class=\"ansi-blue-fg\">)</span><span class=\"ansi-blue-fg\">.</span>alias<span class=\"ansi-blue-fg\">(</span><span class=\"ansi-blue-fg\">&#39;s&#39;</span><span class=\"ansi-blue-fg\">)</span><span class=\"ansi-blue-fg\">)</span>\n",
       "<span class=\"ansi-green-fg\">----&gt; 5</span><span class=\"ansi-red-fg\"> </span>flattenDF <span class=\"ansi-blue-fg\">=</span> explodeDF<span class=\"ansi-blue-fg\">.</span>selectExpr<span class=\"ansi-blue-fg\">(</span><span class=\"ansi-blue-fg\">&#39;s.StudentID&#39;</span><span class=\"ansi-blue-fg\">,</span><span class=\"ansi-blue-fg\">&#39;s.LastName&#39;</span><span class=\"ansi-blue-fg\">,</span> <span class=\"ansi-blue-fg\">&#39;s.FirstName&#39;</span><span class=\"ansi-blue-fg\">,</span> <span class=\"ansi-blue-fg\">&#39;s.PhoneNumber&#39;</span><span class=\"ansi-blue-fg\">,</span> <span class=\"ansi-blue-fg\">&#39;s.GPA&#39;</span><span class=\"ansi-blue-fg\">)</span>\n",
       "<span class=\"ansi-green-intense-fg ansi-bold\">      6</span> \n",
       "<span class=\"ansi-green-intense-fg ansi-bold\">      7</span> flattenDF<span class=\"ansi-blue-fg\">.</span>show<span class=\"ansi-blue-fg\">(</span><span class=\"ansi-blue-fg\">)</span>\n",
       "\n",
       "<span class=\"ansi-green-fg\">/databricks/spark/python/pyspark/sql/dataframe.py</span> in <span class=\"ansi-cyan-fg\">selectExpr</span><span class=\"ansi-blue-fg\">(self, *expr)</span>\n",
       "<span class=\"ansi-green-intense-fg ansi-bold\">   1366</span>         <span class=\"ansi-green-fg\">if</span> len<span class=\"ansi-blue-fg\">(</span>expr<span class=\"ansi-blue-fg\">)</span> <span class=\"ansi-blue-fg\">==</span> <span class=\"ansi-cyan-fg\">1</span> <span class=\"ansi-green-fg\">and</span> isinstance<span class=\"ansi-blue-fg\">(</span>expr<span class=\"ansi-blue-fg\">[</span><span class=\"ansi-cyan-fg\">0</span><span class=\"ansi-blue-fg\">]</span><span class=\"ansi-blue-fg\">,</span> list<span class=\"ansi-blue-fg\">)</span><span class=\"ansi-blue-fg\">:</span>\n",
       "<span class=\"ansi-green-intense-fg ansi-bold\">   1367</span>             expr <span class=\"ansi-blue-fg\">=</span> expr<span class=\"ansi-blue-fg\">[</span><span class=\"ansi-cyan-fg\">0</span><span class=\"ansi-blue-fg\">]</span>\n",
       "<span class=\"ansi-green-fg\">-&gt; 1368</span><span class=\"ansi-red-fg\">         </span>jdf <span class=\"ansi-blue-fg\">=</span> self<span class=\"ansi-blue-fg\">.</span>_jdf<span class=\"ansi-blue-fg\">.</span>selectExpr<span class=\"ansi-blue-fg\">(</span>self<span class=\"ansi-blue-fg\">.</span>_jseq<span class=\"ansi-blue-fg\">(</span>expr<span class=\"ansi-blue-fg\">)</span><span class=\"ansi-blue-fg\">)</span>\n",
       "<span class=\"ansi-green-intense-fg ansi-bold\">   1369</span>         <span class=\"ansi-green-fg\">return</span> DataFrame<span class=\"ansi-blue-fg\">(</span>jdf<span class=\"ansi-blue-fg\">,</span> self<span class=\"ansi-blue-fg\">.</span>sql_ctx<span class=\"ansi-blue-fg\">)</span>\n",
       "<span class=\"ansi-green-intense-fg ansi-bold\">   1370</span> \n",
       "\n",
       "<span class=\"ansi-green-fg\">/databricks/spark/python/lib/py4j-0.10.7-src.zip/py4j/java_gateway.py</span> in <span class=\"ansi-cyan-fg\">__call__</span><span class=\"ansi-blue-fg\">(self, *args)</span>\n",
       "<span class=\"ansi-green-intense-fg ansi-bold\">   1255</span>         answer <span class=\"ansi-blue-fg\">=</span> self<span class=\"ansi-blue-fg\">.</span>gateway_client<span class=\"ansi-blue-fg\">.</span>send_command<span class=\"ansi-blue-fg\">(</span>command<span class=\"ansi-blue-fg\">)</span>\n",
       "<span class=\"ansi-green-intense-fg ansi-bold\">   1256</span>         return_value = get_return_value(\n",
       "<span class=\"ansi-green-fg\">-&gt; 1257</span><span class=\"ansi-red-fg\">             answer, self.gateway_client, self.target_id, self.name)\n",
       "</span><span class=\"ansi-green-intense-fg ansi-bold\">   1258</span> \n",
       "<span class=\"ansi-green-intense-fg ansi-bold\">   1259</span>         <span class=\"ansi-green-fg\">for</span> temp_arg <span class=\"ansi-green-fg\">in</span> temp_args<span class=\"ansi-blue-fg\">:</span>\n",
       "\n",
       "<span class=\"ansi-green-fg\">/databricks/spark/python/pyspark/sql/utils.py</span> in <span class=\"ansi-cyan-fg\">deco</span><span class=\"ansi-blue-fg\">(*a, **kw)</span>\n",
       "<span class=\"ansi-green-intense-fg ansi-bold\">     67</span>                                              e.java_exception.getStackTrace()))\n",
       "<span class=\"ansi-green-intense-fg ansi-bold\">     68</span>             <span class=\"ansi-green-fg\">if</span> s<span class=\"ansi-blue-fg\">.</span>startswith<span class=\"ansi-blue-fg\">(</span><span class=\"ansi-blue-fg\">&#39;org.apache.spark.sql.AnalysisException: &#39;</span><span class=\"ansi-blue-fg\">)</span><span class=\"ansi-blue-fg\">:</span>\n",
       "<span class=\"ansi-green-fg\">---&gt; 69</span><span class=\"ansi-red-fg\">                 </span><span class=\"ansi-green-fg\">raise</span> AnalysisException<span class=\"ansi-blue-fg\">(</span>s<span class=\"ansi-blue-fg\">.</span>split<span class=\"ansi-blue-fg\">(</span><span class=\"ansi-blue-fg\">&#39;: &#39;</span><span class=\"ansi-blue-fg\">,</span> <span class=\"ansi-cyan-fg\">1</span><span class=\"ansi-blue-fg\">)</span><span class=\"ansi-blue-fg\">[</span><span class=\"ansi-cyan-fg\">1</span><span class=\"ansi-blue-fg\">]</span><span class=\"ansi-blue-fg\">,</span> stackTrace<span class=\"ansi-blue-fg\">)</span>\n",
       "<span class=\"ansi-green-intense-fg ansi-bold\">     70</span>             <span class=\"ansi-green-fg\">if</span> s<span class=\"ansi-blue-fg\">.</span>startswith<span class=\"ansi-blue-fg\">(</span><span class=\"ansi-blue-fg\">&#39;org.apache.spark.sql.catalyst.analysis&#39;</span><span class=\"ansi-blue-fg\">)</span><span class=\"ansi-blue-fg\">:</span>\n",
       "<span class=\"ansi-green-intense-fg ansi-bold\">     71</span>                 <span class=\"ansi-green-fg\">raise</span> AnalysisException<span class=\"ansi-blue-fg\">(</span>s<span class=\"ansi-blue-fg\">.</span>split<span class=\"ansi-blue-fg\">(</span><span class=\"ansi-blue-fg\">&#39;: &#39;</span><span class=\"ansi-blue-fg\">,</span> <span class=\"ansi-cyan-fg\">1</span><span class=\"ansi-blue-fg\">)</span><span class=\"ansi-blue-fg\">[</span><span class=\"ansi-cyan-fg\">1</span><span class=\"ansi-blue-fg\">]</span><span class=\"ansi-blue-fg\">,</span> stackTrace<span class=\"ansi-blue-fg\">)</span>\n",
       "\n",
       "<span class=\"ansi-red-fg\">AnalysisException</span>: &#39;No such struct field StudentID in Student ID, LastName, FirstName, PhoneNumber, GPA; line 1 pos 0&#39;</div>"
      ]
     },
     "metadata": {},
     "output_type": "display_data"
    }
   ],
   "source": [
    "# Now we're going to Explode the students column.  What a fun word!\n",
    "from pyspark.sql.functions import explode\n",
    "\n",
    "explodeDF = unionDF.select(explode('students').alias('s'))\n",
    "flattenDF = explodeDF.selectExpr('s.StudentID','s.LastName', 's.FirstName', 's.PhoneNumber', 's.GPA')\n",
    "\n",
    "flattenDF.show()"
   ]
  },
  {
   "cell_type": "code",
   "execution_count": 61,
   "metadata": {},
   "outputs": [
    {
     "data": {
      "text/html": [
       "<style scoped>\n",
       "  .ansiout {\n",
       "    display: block;\n",
       "    unicode-bidi: embed;\n",
       "    white-space: pre-wrap;\n",
       "    word-wrap: break-word;\n",
       "    word-break: break-all;\n",
       "    font-family: \"Source Code Pro\", \"Menlo\", monospace;;\n",
       "    font-size: 13px;\n",
       "    color: #555;\n",
       "    margin-left: 4px;\n",
       "    line-height: 19px;\n",
       "  }\n",
       "</style>\n",
       "<div class=\"ansiout\">Collecting koalas\n",
       "  Downloading https://files.pythonhosted.org/packages/50/b6/86413b835482398002b0609c337113e61998c00e3b0183b8adfaba9c56ee/koalas-1.0.1-py3-none-any.whl (691kB)\n",
       "Requirement already satisfied: matplotlib&gt;=3.0.0 in /databricks/python3/lib/python3.7/site-packages (from koalas) (3.0.3)\n",
       "Requirement already satisfied: pyarrow&gt;=0.10 in /databricks/python3/lib/python3.7/site-packages (from koalas) (0.13.0)\n",
       "Requirement already satisfied: pandas&gt;=0.23.2 in /databricks/python3/lib/python3.7/site-packages (from koalas) (0.24.2)\n",
       "Requirement already satisfied: numpy&gt;=1.14 in /databricks/python3/lib/python3.7/site-packages (from koalas) (1.16.2)\n",
       "Requirement already satisfied: python-dateutil&gt;=2.1 in /databricks/python3/lib/python3.7/site-packages (from matplotlib&gt;=3.0.0-&gt;koalas) (2.8.0)\n",
       "Requirement already satisfied: kiwisolver&gt;=1.0.1 in /databricks/python3/lib/python3.7/site-packages (from matplotlib&gt;=3.0.0-&gt;koalas) (1.1.0)\n",
       "Requirement already satisfied: cycler&gt;=0.10 in /databricks/python3/lib/python3.7/site-packages (from matplotlib&gt;=3.0.0-&gt;koalas) (0.10.0)\n",
       "Requirement already satisfied: pyparsing!=2.0.4,!=2.1.2,!=2.1.6,&gt;=2.0.1 in /databricks/python3/lib/python3.7/site-packages (from matplotlib&gt;=3.0.0-&gt;koalas) (2.4.6)\n",
       "Requirement already satisfied: six&gt;=1.0.0 in /databricks/python3/lib/python3.7/site-packages (from pyarrow&gt;=0.10-&gt;koalas) (1.12.0)\n",
       "Requirement already satisfied: pytz&gt;=2011k in /databricks/python3/lib/python3.7/site-packages (from pandas&gt;=0.23.2-&gt;koalas) (2018.9)\n",
       "Requirement already satisfied: setuptools in /usr/lib/python3.7/site-packages (from kiwisolver&gt;=1.0.1-&gt;matplotlib&gt;=3.0.0-&gt;koalas) (40.8.0)\n",
       "Installing collected packages: koalas\n",
       "Successfully installed koalas-1.0.1\n",
       "You are using pip version 19.0.3, however version 20.2b1 is available.\n",
       "You should consider upgrading via the &#39;pip install --upgrade pip&#39; command.\n",
       "</div>"
      ]
     },
     "metadata": {},
     "output_type": "display_data"
    }
   ],
   "source": [
    "%sh\n",
    "pip install koalas"
   ]
  },
  {
   "cell_type": "code",
   "execution_count": 62,
   "metadata": {},
   "outputs": [
    {
     "data": {
      "text/html": [
       "<style scoped>\n",
       "  .ansiout {\n",
       "    display: block;\n",
       "    unicode-bidi: embed;\n",
       "    white-space: pre-wrap;\n",
       "    word-wrap: break-word;\n",
       "    word-break: break-all;\n",
       "    font-family: \"Source Code Pro\", \"Menlo\", monospace;;\n",
       "    font-size: 13px;\n",
       "    color: #555;\n",
       "    margin-left: 4px;\n",
       "    line-height: 19px;\n",
       "  }\n",
       "</style>\n",
       "<div class=\"ansiout\"></div>"
      ]
     },
     "metadata": {},
     "output_type": "display_data"
    }
   ],
   "source": [
    "import databricks.koalas as ks"
   ]
  },
  {
   "cell_type": "code",
   "execution_count": 63,
   "metadata": {},
   "outputs": [
    {
     "data": {
      "text/html": [
       "<style scoped>\n",
       "  .ansiout {\n",
       "    display: block;\n",
       "    unicode-bidi: embed;\n",
       "    white-space: pre-wrap;\n",
       "    word-wrap: break-word;\n",
       "    word-break: break-all;\n",
       "    font-family: \"Source Code Pro\", \"Menlo\", monospace;;\n",
       "    font-size: 13px;\n",
       "    color: #555;\n",
       "    margin-left: 4px;\n",
       "    line-height: 19px;\n",
       "  }\n",
       "</style>\n",
       "<div class=\"ansiout\"></div>"
      ]
     },
     "metadata": {},
     "output_type": "display_data"
    }
   ],
   "source": [
    "data = ks.read_csv('/FileStore/tables/homework9.csv')\n"
   ]
  },
  {
   "cell_type": "code",
   "execution_count": 64,
   "metadata": {},
   "outputs": [
    {
     "data": {
      "text/html": [
       "<div>\n",
       "<style scoped>\n",
       "    .dataframe tbody tr th:only-of-type {\n",
       "        vertical-align: middle;\n",
       "    }\n",
       "\n",
       "    .dataframe tbody tr th {\n",
       "        vertical-align: top;\n",
       "    }\n",
       "\n",
       "    .dataframe thead th {\n",
       "        text-align: right;\n",
       "    }\n",
       "</style>\n",
       "<table border=\"1\" class=\"dataframe\">\n",
       "  <thead>\n",
       "    <tr style=\"text-align: right;\">\n",
       "      <th></th>\n",
       "      <th>Student ID</th>\n",
       "      <th>LastName</th>\n",
       "      <th>FirstName</th>\n",
       "      <th>PhoneNumber</th>\n",
       "      <th>GPA</th>\n",
       "      <th>LetterGrades</th>\n",
       "    </tr>\n",
       "  </thead>\n",
       "  <tbody>\n",
       "    <tr>\n",
       "      <th>0</th>\n",
       "      <td>541</td>\n",
       "      <td>Washington</td>\n",
       "      <td>George</td>\n",
       "      <td>703-703-1234</td>\n",
       "      <td>4.00</td>\n",
       "      <td>A</td>\n",
       "    </tr>\n",
       "    <tr>\n",
       "      <th>1</th>\n",
       "      <td>542</td>\n",
       "      <td>Adams</td>\n",
       "      <td>John</td>\n",
       "      <td>703-703-1235</td>\n",
       "      <td>3.75</td>\n",
       "      <td>A</td>\n",
       "    </tr>\n",
       "    <tr>\n",
       "      <th>2</th>\n",
       "      <td>543</td>\n",
       "      <td>Jefferson</td>\n",
       "      <td>Thomas</td>\n",
       "      <td>703-703-1236</td>\n",
       "      <td>3.50</td>\n",
       "      <td>A</td>\n",
       "    </tr>\n",
       "    <tr>\n",
       "      <th>3</th>\n",
       "      <td>544</td>\n",
       "      <td>Franklin</td>\n",
       "      <td>Ben</td>\n",
       "      <td>703-703-1237</td>\n",
       "      <td>3.25</td>\n",
       "      <td>B</td>\n",
       "    </tr>\n",
       "    <tr>\n",
       "      <th>4</th>\n",
       "      <td>545</td>\n",
       "      <td>Monroe</td>\n",
       "      <td>James</td>\n",
       "      <td>703-703-1238</td>\n",
       "      <td>3.00</td>\n",
       "      <td>B</td>\n",
       "    </tr>\n",
       "    <tr>\n",
       "      <th>5</th>\n",
       "      <td>546</td>\n",
       "      <td>Henry</td>\n",
       "      <td>Patrick</td>\n",
       "      <td>703-703-1239</td>\n",
       "      <td>2.75</td>\n",
       "      <td>B</td>\n",
       "    </tr>\n",
       "    <tr>\n",
       "      <th>6</th>\n",
       "      <td>547</td>\n",
       "      <td>Mason</td>\n",
       "      <td>George</td>\n",
       "      <td>703-703-1240</td>\n",
       "      <td>2.50</td>\n",
       "      <td>C</td>\n",
       "    </tr>\n",
       "    <tr>\n",
       "      <th>7</th>\n",
       "      <td>548</td>\n",
       "      <td>Madison</td>\n",
       "      <td>James</td>\n",
       "      <td>703-703-1241</td>\n",
       "      <td>2.25</td>\n",
       "      <td>C</td>\n",
       "    </tr>\n",
       "    <tr>\n",
       "      <th>8</th>\n",
       "      <td>549</td>\n",
       "      <td>Burr</td>\n",
       "      <td>Aaron</td>\n",
       "      <td>703-703-1242</td>\n",
       "      <td>2.00</td>\n",
       "      <td>C</td>\n",
       "    </tr>\n",
       "    <tr>\n",
       "      <th>9</th>\n",
       "      <td>550</td>\n",
       "      <td>Hamilton</td>\n",
       "      <td>Alexander</td>\n",
       "      <td>703-703-1243</td>\n",
       "      <td>1.75</td>\n",
       "      <td>C</td>\n",
       "    </tr>\n",
       "  </tbody>\n",
       "</table>\n",
       "</div>"
      ]
     },
     "metadata": {},
     "output_type": "display_data"
    }
   ],
   "source": [
    "def assign_letter_grade(score): \n",
    "    if score >= 3.33: return \"A\"\n",
    "    elif score >= 2.67: return \"B\"\n",
    "    elif score >= 1.67: return \"C\"\n",
    "    elif score >= 0.67: return \"D\"\n",
    "    else : return \"F\"\n",
    "\n",
    "grades = []\n",
    "for i in range(len(data)):\n",
    "  answer = assign_letter_grade(data['GPA'].values[i])\n",
    "  grades.append(answer)\n",
    "gradesdf = ks.DataFrame({'LetterGrades': grades})\n",
    "mergeddf = data.merge(gradesdf, left_index = True, right_index = True)\n",
    "mergeddf"
   ]
  },
  {
   "cell_type": "code",
   "execution_count": 65,
   "metadata": {},
   "outputs": [
    {
     "data": {
      "text/html": [
       "<div>\n",
       "<style scoped>\n",
       "    .dataframe tbody tr th:only-of-type {\n",
       "        vertical-align: middle;\n",
       "    }\n",
       "\n",
       "    .dataframe tbody tr th {\n",
       "        vertical-align: top;\n",
       "    }\n",
       "\n",
       "    .dataframe thead th {\n",
       "        text-align: right;\n",
       "    }\n",
       "</style>\n",
       "<table border=\"1\" class=\"dataframe\">\n",
       "  <thead>\n",
       "    <tr style=\"text-align: right;\">\n",
       "      <th></th>\n",
       "      <th>Student ID</th>\n",
       "      <th>LastName</th>\n",
       "      <th>FirstName</th>\n",
       "      <th>PhoneNumber</th>\n",
       "      <th>GPA</th>\n",
       "      <th>LetterGrades</th>\n",
       "    </tr>\n",
       "  </thead>\n",
       "  <tbody>\n",
       "    <tr>\n",
       "      <th>0</th>\n",
       "      <td>541</td>\n",
       "      <td>Washington</td>\n",
       "      <td>George</td>\n",
       "      <td>703-703-1234</td>\n",
       "      <td>4.00</td>\n",
       "      <td>A</td>\n",
       "    </tr>\n",
       "    <tr>\n",
       "      <th>1</th>\n",
       "      <td>542</td>\n",
       "      <td>Adams</td>\n",
       "      <td>John</td>\n",
       "      <td>703-703-1235</td>\n",
       "      <td>3.75</td>\n",
       "      <td>A</td>\n",
       "    </tr>\n",
       "    <tr>\n",
       "      <th>2</th>\n",
       "      <td>543</td>\n",
       "      <td>Jefferson</td>\n",
       "      <td>Thomas</td>\n",
       "      <td>703-703-1236</td>\n",
       "      <td>3.50</td>\n",
       "      <td>A</td>\n",
       "    </tr>\n",
       "    <tr>\n",
       "      <th>3</th>\n",
       "      <td>544</td>\n",
       "      <td>Franklin</td>\n",
       "      <td>Ben</td>\n",
       "      <td>703-703-1237</td>\n",
       "      <td>3.25</td>\n",
       "      <td>B</td>\n",
       "    </tr>\n",
       "    <tr>\n",
       "      <th>4</th>\n",
       "      <td>545</td>\n",
       "      <td>Monroe</td>\n",
       "      <td>James</td>\n",
       "      <td>703-703-1238</td>\n",
       "      <td>3.00</td>\n",
       "      <td>B</td>\n",
       "    </tr>\n",
       "    <tr>\n",
       "      <th>5</th>\n",
       "      <td>546</td>\n",
       "      <td>Henry</td>\n",
       "      <td>Patrick</td>\n",
       "      <td>703-703-1239</td>\n",
       "      <td>2.75</td>\n",
       "      <td>B</td>\n",
       "    </tr>\n",
       "    <tr>\n",
       "      <th>6</th>\n",
       "      <td>547</td>\n",
       "      <td>Mason</td>\n",
       "      <td>George</td>\n",
       "      <td>703-703-1240</td>\n",
       "      <td>2.50</td>\n",
       "      <td>C</td>\n",
       "    </tr>\n",
       "    <tr>\n",
       "      <th>7</th>\n",
       "      <td>548</td>\n",
       "      <td>Madison</td>\n",
       "      <td>James</td>\n",
       "      <td>703-703-1241</td>\n",
       "      <td>2.25</td>\n",
       "      <td>C</td>\n",
       "    </tr>\n",
       "    <tr>\n",
       "      <th>8</th>\n",
       "      <td>549</td>\n",
       "      <td>Burr</td>\n",
       "      <td>Aaron</td>\n",
       "      <td>703-703-1242</td>\n",
       "      <td>2.00</td>\n",
       "      <td>C</td>\n",
       "    </tr>\n",
       "    <tr>\n",
       "      <th>9</th>\n",
       "      <td>550</td>\n",
       "      <td>Hamilton</td>\n",
       "      <td>Alexander</td>\n",
       "      <td>703-703-1243</td>\n",
       "      <td>1.75</td>\n",
       "      <td>C</td>\n",
       "    </tr>\n",
       "  </tbody>\n",
       "</table>\n",
       "</div>"
      ]
     },
     "metadata": {},
     "output_type": "display_data"
    }
   ],
   "source": [
    "mergeddf"
   ]
  },
  {
   "cell_type": "code",
   "execution_count": 66,
   "metadata": {},
   "outputs": [
    {
     "data": {
      "text/html": [
       "<div>\n",
       "<style scoped>\n",
       "    .dataframe tbody tr th:only-of-type {\n",
       "        vertical-align: middle;\n",
       "    }\n",
       "\n",
       "    .dataframe tbody tr th {\n",
       "        vertical-align: top;\n",
       "    }\n",
       "\n",
       "    .dataframe thead th {\n",
       "        text-align: right;\n",
       "    }\n",
       "</style>\n",
       "<table border=\"1\" class=\"dataframe\">\n",
       "  <thead>\n",
       "    <tr style=\"text-align: right;\">\n",
       "      <th></th>\n",
       "      <th>Student ID</th>\n",
       "      <th>LastName</th>\n",
       "      <th>FirstName</th>\n",
       "      <th>PhoneNumber</th>\n",
       "      <th>GPA</th>\n",
       "    </tr>\n",
       "    <tr>\n",
       "      <th>LetterGrades</th>\n",
       "      <th></th>\n",
       "      <th></th>\n",
       "      <th></th>\n",
       "      <th></th>\n",
       "      <th></th>\n",
       "    </tr>\n",
       "  </thead>\n",
       "  <tbody>\n",
       "    <tr>\n",
       "      <th>B</th>\n",
       "      <td>3</td>\n",
       "      <td>3</td>\n",
       "      <td>3</td>\n",
       "      <td>3</td>\n",
       "      <td>3</td>\n",
       "    </tr>\n",
       "    <tr>\n",
       "      <th>C</th>\n",
       "      <td>4</td>\n",
       "      <td>4</td>\n",
       "      <td>4</td>\n",
       "      <td>4</td>\n",
       "      <td>4</td>\n",
       "    </tr>\n",
       "    <tr>\n",
       "      <th>A</th>\n",
       "      <td>3</td>\n",
       "      <td>3</td>\n",
       "      <td>3</td>\n",
       "      <td>3</td>\n",
       "      <td>3</td>\n",
       "    </tr>\n",
       "  </tbody>\n",
       "</table>\n",
       "</div>"
      ]
     },
     "metadata": {},
     "output_type": "display_data"
    }
   ],
   "source": []
  },
  {
   "cell_type": "code",
   "execution_count": 67,
   "metadata": {},
   "outputs": [
    {
     "data": {
      "text/html": [
       "<style scoped>\n",
       "  .ansiout {\n",
       "    display: block;\n",
       "    unicode-bidi: embed;\n",
       "    white-space: pre-wrap;\n",
       "    word-wrap: break-word;\n",
       "    word-break: break-all;\n",
       "    font-family: \"Source Code Pro\", \"Menlo\", monospace;;\n",
       "    font-size: 13px;\n",
       "    color: #555;\n",
       "    margin-left: 4px;\n",
       "    line-height: 19px;\n",
       "  }\n",
       "</style>\n",
       "<div class=\"ansiout\"></div>"
      ]
     },
     "metadata": {},
     "output_type": "display_data"
    }
   ],
   "source": [
    "# Homework 11, Machine Learning"
   ]
  },
  {
   "cell_type": "code",
   "execution_count": 68,
   "metadata": {},
   "outputs": [
    {
     "data": {
      "text/html": [
       "<style scoped>\n",
       "  .ansiout {\n",
       "    display: block;\n",
       "    unicode-bidi: embed;\n",
       "    white-space: pre-wrap;\n",
       "    word-wrap: break-word;\n",
       "    word-break: break-all;\n",
       "    font-family: \"Source Code Pro\", \"Menlo\", monospace;;\n",
       "    font-size: 13px;\n",
       "    color: #555;\n",
       "    margin-left: 4px;\n",
       "    line-height: 19px;\n",
       "  }\n",
       "</style>\n",
       "<div class=\"ansiout\"></div>"
      ]
     },
     "metadata": {},
     "output_type": "display_data"
    }
   ],
   "source": [
    "flight_distances = ks.read_csv('/FileStore/tables/flight_distances.csv')"
   ]
  },
  {
   "cell_type": "code",
   "execution_count": 69,
   "metadata": {},
   "outputs": [
    {
     "data": {
      "text/html": [
       "<style scoped>\n",
       "  .ansiout {\n",
       "    display: block;\n",
       "    unicode-bidi: embed;\n",
       "    white-space: pre-wrap;\n",
       "    word-wrap: break-word;\n",
       "    word-break: break-all;\n",
       "    font-family: \"Source Code Pro\", \"Menlo\", monospace;;\n",
       "    font-size: 13px;\n",
       "    color: #555;\n",
       "    margin-left: 4px;\n",
       "    line-height: 19px;\n",
       "  }\n",
       "</style>\n",
       "<div class=\"ansiout\"></div>"
      ]
     },
     "metadata": {},
     "output_type": "display_data"
    }
   ],
   "source": [
    "flight_distances = flight_distances.set_index('_c0')"
   ]
  },
  {
   "cell_type": "code",
   "execution_count": 70,
   "metadata": {},
   "outputs": [
    {
     "data": {
      "text/html": [
       "<div>\n",
       "<style scoped>\n",
       "    .dataframe tbody tr th:only-of-type {\n",
       "        vertical-align: middle;\n",
       "    }\n",
       "\n",
       "    .dataframe tbody tr th {\n",
       "        vertical-align: top;\n",
       "    }\n",
       "\n",
       "    .dataframe thead th {\n",
       "        text-align: right;\n",
       "    }\n",
       "</style>\n",
       "<table border=\"1\" class=\"dataframe\">\n",
       "  <thead>\n",
       "    <tr style=\"text-align: right;\">\n",
       "      <th></th>\n",
       "      <th>IAD</th>\n",
       "      <th>ORD</th>\n",
       "      <th>BOS</th>\n",
       "      <th>ATL</th>\n",
       "      <th>LAX</th>\n",
       "      <th>DEN</th>\n",
       "      <th>SFO</th>\n",
       "      <th>LGA</th>\n",
       "      <th>MIA</th>\n",
       "      <th>SEA</th>\n",
       "    </tr>\n",
       "    <tr>\n",
       "      <th>_c0</th>\n",
       "      <th></th>\n",
       "      <th></th>\n",
       "      <th></th>\n",
       "      <th></th>\n",
       "      <th></th>\n",
       "      <th></th>\n",
       "      <th></th>\n",
       "      <th></th>\n",
       "      <th></th>\n",
       "      <th></th>\n",
       "    </tr>\n",
       "  </thead>\n",
       "  <tbody>\n",
       "    <tr>\n",
       "      <th>IAD</th>\n",
       "      <td>0</td>\n",
       "      <td>588</td>\n",
       "      <td>413</td>\n",
       "      <td>534</td>\n",
       "      <td>2288</td>\n",
       "      <td>1452</td>\n",
       "      <td>2419</td>\n",
       "      <td>229</td>\n",
       "      <td>921</td>\n",
       "      <td>2306</td>\n",
       "    </tr>\n",
       "    <tr>\n",
       "      <th>ORD</th>\n",
       "      <td>588</td>\n",
       "      <td>0</td>\n",
       "      <td>867</td>\n",
       "      <td>606</td>\n",
       "      <td>1744</td>\n",
       "      <td>888</td>\n",
       "      <td>1846</td>\n",
       "      <td>733</td>\n",
       "      <td>1197</td>\n",
       "      <td>1721</td>\n",
       "    </tr>\n",
       "    <tr>\n",
       "      <th>BOS</th>\n",
       "      <td>413</td>\n",
       "      <td>867</td>\n",
       "      <td>0</td>\n",
       "      <td>946</td>\n",
       "      <td>2611</td>\n",
       "      <td>1754</td>\n",
       "      <td>2704</td>\n",
       "      <td>184</td>\n",
       "      <td>1258</td>\n",
       "      <td>2496</td>\n",
       "    </tr>\n",
       "    <tr>\n",
       "      <th>ATL</th>\n",
       "      <td>534</td>\n",
       "      <td>606</td>\n",
       "      <td>946</td>\n",
       "      <td>0</td>\n",
       "      <td>1947</td>\n",
       "      <td>1199</td>\n",
       "      <td>2139</td>\n",
       "      <td>762</td>\n",
       "      <td>594</td>\n",
       "      <td>2182</td>\n",
       "    </tr>\n",
       "    <tr>\n",
       "      <th>LAX</th>\n",
       "      <td>2288</td>\n",
       "      <td>1744</td>\n",
       "      <td>2611</td>\n",
       "      <td>1947</td>\n",
       "      <td>0</td>\n",
       "      <td>862</td>\n",
       "      <td>337</td>\n",
       "      <td>2469</td>\n",
       "      <td>2342</td>\n",
       "      <td>954</td>\n",
       "    </tr>\n",
       "    <tr>\n",
       "      <th>DEN</th>\n",
       "      <td>1452</td>\n",
       "      <td>888</td>\n",
       "      <td>1754</td>\n",
       "      <td>1199</td>\n",
       "      <td>862</td>\n",
       "      <td>0</td>\n",
       "      <td>967</td>\n",
       "      <td>1620</td>\n",
       "      <td>1709</td>\n",
       "      <td>1024</td>\n",
       "    </tr>\n",
       "    <tr>\n",
       "      <th>SFO</th>\n",
       "      <td>2419</td>\n",
       "      <td>1846</td>\n",
       "      <td>2704</td>\n",
       "      <td>2139</td>\n",
       "      <td>337</td>\n",
       "      <td>967</td>\n",
       "      <td>0</td>\n",
       "      <td>2579</td>\n",
       "      <td>2585</td>\n",
       "      <td>679</td>\n",
       "    </tr>\n",
       "    <tr>\n",
       "      <th>LGA</th>\n",
       "      <td>229</td>\n",
       "      <td>733</td>\n",
       "      <td>184</td>\n",
       "      <td>762</td>\n",
       "      <td>2469</td>\n",
       "      <td>1620</td>\n",
       "      <td>2579</td>\n",
       "      <td>0</td>\n",
       "      <td>1096</td>\n",
       "      <td>2413</td>\n",
       "    </tr>\n",
       "    <tr>\n",
       "      <th>MIA</th>\n",
       "      <td>921</td>\n",
       "      <td>1197</td>\n",
       "      <td>1258</td>\n",
       "      <td>594</td>\n",
       "      <td>2342</td>\n",
       "      <td>1709</td>\n",
       "      <td>2585</td>\n",
       "      <td>1096</td>\n",
       "      <td>0</td>\n",
       "      <td>2724</td>\n",
       "    </tr>\n",
       "    <tr>\n",
       "      <th>SEA</th>\n",
       "      <td>2306</td>\n",
       "      <td>1721</td>\n",
       "      <td>2496</td>\n",
       "      <td>2182</td>\n",
       "      <td>954</td>\n",
       "      <td>1024</td>\n",
       "      <td>679</td>\n",
       "      <td>2413</td>\n",
       "      <td>2724</td>\n",
       "      <td>0</td>\n",
       "    </tr>\n",
       "  </tbody>\n",
       "</table>\n",
       "</div>"
      ]
     },
     "metadata": {},
     "output_type": "display_data"
    }
   ],
   "source": [
    "flight_distances"
   ]
  },
  {
   "cell_type": "code",
   "execution_count": 71,
   "metadata": {},
   "outputs": [
    {
     "data": {
      "text/html": [
       "<style scoped>\n",
       "  .ansiout {\n",
       "    display: block;\n",
       "    unicode-bidi: embed;\n",
       "    white-space: pre-wrap;\n",
       "    word-wrap: break-word;\n",
       "    word-break: break-all;\n",
       "    font-family: \"Source Code Pro\", \"Menlo\", monospace;;\n",
       "    font-size: 13px;\n",
       "    color: #555;\n",
       "    margin-left: 4px;\n",
       "    line-height: 19px;\n",
       "  }\n",
       "</style>\n",
       "<div class=\"ansiout\">Out[7]: 1846</div>"
      ]
     },
     "metadata": {},
     "output_type": "display_data"
    }
   ],
   "source": [
    "flight = flight_distances.loc['ORD', 'SFO']\n",
    "\n",
    "flight"
   ]
  },
  {
   "cell_type": "code",
   "execution_count": 72,
   "metadata": {},
   "outputs": [
    {
     "data": {
      "text/html": [
       "<style scoped>\n",
       "  .ansiout {\n",
       "    display: block;\n",
       "    unicode-bidi: embed;\n",
       "    white-space: pre-wrap;\n",
       "    word-wrap: break-word;\n",
       "    word-break: break-all;\n",
       "    font-family: \"Source Code Pro\", \"Menlo\", monospace;;\n",
       "    font-size: 13px;\n",
       "    color: #555;\n",
       "    margin-left: 4px;\n",
       "    line-height: 19px;\n",
       "  }\n",
       "</style>\n",
       "<div class=\"ansiout\"></div>"
      ]
     },
     "metadata": {},
     "output_type": "display_data"
    }
   ],
   "source": [
    "import random\n",
    "airports = list(flight_distances.columns)\n",
    "\n",
    "\n",
    "flight_departures = []\n",
    "flight_arrivals = []\n",
    "\n",
    "# OK, I don't have to worry about these being in list formats inside of the outer list\n",
    "\n",
    "n = 0\n",
    "while n < 100:\n",
    "  departure = random.choices(airports)\n",
    "  flight_departures.append(departure)\n",
    "  n += 1\n",
    "\n",
    "for f in flight_departures:\n",
    "  arrival = random.choices(airports)\n",
    "  if f == arrival:\n",
    "    arrival = random.choices(airports)\n",
    "  flight_arrivals.append(arrival)\n",
    "  \n",
    "df_d = ks.DataFrame(flight_departures)\n",
    "df_a = ks.DataFrame(flight_arrivals)\n",
    "\n",
    "df_temp = df_d.merge(df_a, left_index = True, right_index = True)"
   ]
  },
  {
   "cell_type": "code",
   "execution_count": 73,
   "metadata": {},
   "outputs": [
    {
     "data": {
      "text/html": [
       "<style scoped>\n",
       "  .ansiout {\n",
       "    display: block;\n",
       "    unicode-bidi: embed;\n",
       "    white-space: pre-wrap;\n",
       "    word-wrap: break-word;\n",
       "    word-break: break-all;\n",
       "    font-family: \"Source Code Pro\", \"Menlo\", monospace;;\n",
       "    font-size: 13px;\n",
       "    color: #555;\n",
       "    margin-left: 4px;\n",
       "    line-height: 19px;\n",
       "  }\n",
       "</style>\n",
       "<div class=\"ansiout\"></div>"
      ]
     },
     "metadata": {},
     "output_type": "display_data"
    }
   ],
   "source": [
    "# so here I can just use that same logic to compute time, right?\n",
    "\n",
    "distances = []\n",
    "for i, r in df_temp.iterrows():\n",
    "  mph = random.randrange(460, 500)\n",
    "  mpm = mph / 60\n",
    "  distance = flight_distances.loc[r['0_x'], r['0_y']]\n",
    "  duration = distance * mpm\n",
    "  distances.append([r['0_x'], r['0_y'], distance, duration])\n",
    "  \n",
    "\n"
   ]
  },
  {
   "cell_type": "code",
   "execution_count": 74,
   "metadata": {},
   "outputs": [
    {
     "data": {
      "text/html": [
       "<style scoped>\n",
       "  .ansiout {\n",
       "    display: block;\n",
       "    unicode-bidi: embed;\n",
       "    white-space: pre-wrap;\n",
       "    word-wrap: break-word;\n",
       "    word-break: break-all;\n",
       "    font-family: \"Source Code Pro\", \"Menlo\", monospace;;\n",
       "    font-size: 13px;\n",
       "    color: #555;\n",
       "    margin-left: 4px;\n",
       "    line-height: 19px;\n",
       "  }\n",
       "</style>\n",
       "<div class=\"ansiout\"></div>"
      ]
     },
     "metadata": {},
     "output_type": "display_data"
    }
   ],
   "source": [
    "# So, what I have here is a list of originating airports, destination airports, Distances in miles, and the number of minutes that the flight\n",
    "# should take.  I have randomized the speed of the plane between the known operating speeds of the jets, between 460 and 500 mph.\n",
    "\n",
    "# That introduces variability.  Now, no two distances are the same, so I am going to try and solve this with my X being column 2 and my y being column 3\n",
    "\n",
    "df_dist = ks.DataFrame(distances)\n"
   ]
  },
  {
   "cell_type": "code",
   "execution_count": 75,
   "metadata": {},
   "outputs": [
    {
     "data": {
      "text/html": [
       "<style scoped>\n",
       "  .ansiout {\n",
       "    display: block;\n",
       "    unicode-bidi: embed;\n",
       "    white-space: pre-wrap;\n",
       "    word-wrap: break-word;\n",
       "    word-break: break-all;\n",
       "    font-family: \"Source Code Pro\", \"Menlo\", monospace;;\n",
       "    font-size: 13px;\n",
       "    color: #555;\n",
       "    margin-left: 4px;\n",
       "    line-height: 19px;\n",
       "  }\n",
       "</style>\n",
       "<div class=\"ansiout\"></div>"
      ]
     },
     "metadata": {},
     "output_type": "display_data"
    }
   ],
   "source": [
    "df_dist.columns = ['Departure', 'Arrival', 'Mileage', 'Duration (min)']\n",
    "\n",
    "spark_df = df_dist.to_spark()"
   ]
  },
  {
   "cell_type": "code",
   "execution_count": 76,
   "metadata": {},
   "outputs": [
    {
     "data": {
      "text/html": [
       "<style scoped>\n",
       "  .ansiout {\n",
       "    display: block;\n",
       "    unicode-bidi: embed;\n",
       "    white-space: pre-wrap;\n",
       "    word-wrap: break-word;\n",
       "    word-break: break-all;\n",
       "    font-family: \"Source Code Pro\", \"Menlo\", monospace;;\n",
       "    font-size: 13px;\n",
       "    color: #555;\n",
       "    margin-left: 4px;\n",
       "    line-height: 19px;\n",
       "  }\n",
       "</style>\n",
       "<div class=\"ansiout\">+---------+-------+-------+--------------+\n",
       "Departure|Arrival|Mileage|Duration (min)|\n",
       "+---------+-------+-------+--------------+\n",
       "      LGA|    LAX|   2469|       19752.0|\n",
       "      DEN|    LAX|    862|        6809.8|\n",
       "      LAX|    IAD|   2288|       18876.0|\n",
       "      MIA|    DEN|   1709|      13928.35|\n",
       "      SFO|    BOS|   2704|       21496.8|\n",
       "+---------+-------+-------+--------------+\n",
       "only showing top 5 rows\n",
       "\n",
       "</div>"
      ]
     },
     "metadata": {},
     "output_type": "display_data"
    }
   ],
   "source": [
    "spark_df.show(5)"
   ]
  },
  {
   "cell_type": "code",
   "execution_count": 77,
   "metadata": {},
   "outputs": [
    {
     "data": {
      "text/html": [
       "<style scoped>\n",
       "  .ansiout {\n",
       "    display: block;\n",
       "    unicode-bidi: embed;\n",
       "    white-space: pre-wrap;\n",
       "    word-wrap: break-word;\n",
       "    word-break: break-all;\n",
       "    font-family: \"Source Code Pro\", \"Menlo\", monospace;;\n",
       "    font-size: 13px;\n",
       "    color: #555;\n",
       "    margin-left: 4px;\n",
       "    line-height: 19px;\n",
       "  }\n",
       "</style>\n",
       "<div class=\"ansiout\"></div>"
      ]
     },
     "metadata": {},
     "output_type": "display_data"
    }
   ],
   "source": [
    "from pyspark.ml.feature import VectorAssembler\n",
    "\n",
    "stages = []\n",
    "\n",
    "numericCols = ['Mileage']\n",
    "assemblerInputs = numericCols\n",
    "assembler = VectorAssembler(inputCols = assemblerInputs, outputCol = \"features\")\n"
   ]
  },
  {
   "cell_type": "code",
   "execution_count": 78,
   "metadata": {},
   "outputs": [
    {
     "data": {
      "text/html": [
       "<style scoped>\n",
       "  .ansiout {\n",
       "    display: block;\n",
       "    unicode-bidi: embed;\n",
       "    white-space: pre-wrap;\n",
       "    word-wrap: break-word;\n",
       "    word-break: break-all;\n",
       "    font-family: \"Source Code Pro\", \"Menlo\", monospace;;\n",
       "    font-size: 13px;\n",
       "    color: #555;\n",
       "    margin-left: 4px;\n",
       "    line-height: 19px;\n",
       "  }\n",
       "</style>\n",
       "<div class=\"ansiout\">+---------+-------+-------+------------------+--------+\n",
       "Departure|Arrival|Mileage|    Duration (min)|features|\n",
       "+---------+-------+-------+------------------+--------+\n",
       "      BOS|    MIA|   1258|10084.966666666667|[1258.0]|\n",
       "      BOS|    MIA|   1258|10210.766666666666|[1258.0]|\n",
       "      SFO|    IAD|   2419|19674.533333333333|[2419.0]|\n",
       "      ATL|    SFO|   2139|          17147.65|[2139.0]|\n",
       "      SEA|    ATL|   2182|           16910.5|[2182.0]|\n",
       "      LAX|    BOS|   2611|20409.316666666666|[2611.0]|\n",
       "      SEA|    DEN|   1024| 8465.066666666668|[1024.0]|\n",
       "      MIA|    ORD|   1197| 9735.599999999999|[1197.0]|\n",
       "      SFO|    SEA|    679| 5239.616666666667| [679.0]|\n",
       "      ATL|    ORD|    606|            4959.1| [606.0]|\n",
       "      BOS|    LGA|    184|1465.8666666666668| [184.0]|\n",
       "      MIA|    IAD|    921|            7245.2| [921.0]|\n",
       "      ORD|    LAX|   1744|13428.800000000001|[1744.0]|\n",
       "      MIA|    SEA|   2724|           20884.0|[2724.0]|\n",
       "      ORD|    SFO|   1846|14798.766666666668|[1846.0]|\n",
       "      ATL|    MIA|    594| 4910.400000000001| [594.0]|\n",
       "      BOS|    IAD|    413|3214.5166666666664| [413.0]|\n",
       "      DEN|    SEA|   1024| 7953.066666666667|[1024.0]|\n",
       "      IAD|    ATL|    534| 4378.799999999999| [534.0]|\n",
       "      DEN|    LAX|    862| 7097.133333333332| [862.0]|\n",
       "+---------+-------+-------+------------------+--------+\n",
       "only showing top 20 rows\n",
       "\n",
       "</div>"
      ]
     },
     "metadata": {},
     "output_type": "display_data"
    }
   ],
   "source": [
    "spark_df_2 = assembler.transform(spark_df)\n",
    "spark_df_2.show()"
   ]
  },
  {
   "cell_type": "code",
   "execution_count": 79,
   "metadata": {},
   "outputs": [
    {
     "data": {
      "text/html": [
       "<style scoped>\n",
       "  .ansiout {\n",
       "    display: block;\n",
       "    unicode-bidi: embed;\n",
       "    white-space: pre-wrap;\n",
       "    word-wrap: break-word;\n",
       "    word-break: break-all;\n",
       "    font-family: \"Source Code Pro\", \"Menlo\", monospace;;\n",
       "    font-size: 13px;\n",
       "    color: #555;\n",
       "    margin-left: 4px;\n",
       "    line-height: 19px;\n",
       "  }\n",
       "</style>\n",
       "<div class=\"ansiout\"></div>"
      ]
     },
     "metadata": {},
     "output_type": "display_data"
    }
   ],
   "source": [
    "train, test = spark_df_2.randomSplit([0.9, 0.1])"
   ]
  },
  {
   "cell_type": "code",
   "execution_count": 80,
   "metadata": {},
   "outputs": [
    {
     "data": {
      "text/html": [
       "<style scoped>\n",
       "  .ansiout {\n",
       "    display: block;\n",
       "    unicode-bidi: embed;\n",
       "    white-space: pre-wrap;\n",
       "    word-wrap: break-word;\n",
       "    word-break: break-all;\n",
       "    font-family: \"Source Code Pro\", \"Menlo\", monospace;;\n",
       "    font-size: 13px;\n",
       "    color: #555;\n",
       "    margin-left: 4px;\n",
       "    line-height: 19px;\n",
       "  }\n",
       "</style>\n",
       "<div class=\"ansiout\"></div>"
      ]
     },
     "metadata": {},
     "output_type": "display_data"
    }
   ],
   "source": [
    "from pyspark.ml.regression import LinearRegression\n",
    "\n",
    "algo = LinearRegression(featuresCol = 'features', labelCol = 'Duration (min)')"
   ]
  },
  {
   "cell_type": "code",
   "execution_count": 81,
   "metadata": {},
   "outputs": [
    {
     "data": {
      "text/html": [
       "<style scoped>\n",
       "  .ansiout {\n",
       "    display: block;\n",
       "    unicode-bidi: embed;\n",
       "    white-space: pre-wrap;\n",
       "    word-wrap: break-word;\n",
       "    word-break: break-all;\n",
       "    font-family: \"Source Code Pro\", \"Menlo\", monospace;;\n",
       "    font-size: 13px;\n",
       "    color: #555;\n",
       "    margin-left: 4px;\n",
       "    line-height: 19px;\n",
       "  }\n",
       "</style>\n",
       "<div class=\"ansiout\"></div>"
      ]
     },
     "metadata": {},
     "output_type": "display_data"
    }
   ],
   "source": [
    "model = algo.fit(train)"
   ]
  },
  {
   "cell_type": "code",
   "execution_count": 82,
   "metadata": {},
   "outputs": [
    {
     "data": {
      "text/html": [
       "<style scoped>\n",
       "  .ansiout {\n",
       "    display: block;\n",
       "    unicode-bidi: embed;\n",
       "    white-space: pre-wrap;\n",
       "    word-wrap: break-word;\n",
       "    word-break: break-all;\n",
       "    font-family: \"Source Code Pro\", \"Menlo\", monospace;;\n",
       "    font-size: 13px;\n",
       "    color: #555;\n",
       "    margin-left: 4px;\n",
       "    line-height: 19px;\n",
       "  }\n",
       "</style>\n",
       "<div class=\"ansiout\"></div>"
      ]
     },
     "metadata": {},
     "output_type": "display_data"
    }
   ],
   "source": [
    "evaluation_summary = model.evaluate(test)"
   ]
  },
  {
   "cell_type": "code",
   "execution_count": 83,
   "metadata": {},
   "outputs": [
    {
     "data": {
      "text/html": [
       "<style scoped>\n",
       "  .ansiout {\n",
       "    display: block;\n",
       "    unicode-bidi: embed;\n",
       "    white-space: pre-wrap;\n",
       "    word-wrap: break-word;\n",
       "    word-break: break-all;\n",
       "    font-family: \"Source Code Pro\", \"Menlo\", monospace;;\n",
       "    font-size: 13px;\n",
       "    color: #555;\n",
       "    margin-left: 4px;\n",
       "    line-height: 19px;\n",
       "  }\n",
       "</style>\n",
       "<div class=\"ansiout\">282.1609818435481\n",
       "315.2201029257655\n",
       "0.9961624471013434\n",
       "</div>"
      ]
     },
     "metadata": {},
     "output_type": "display_data"
    }
   ],
   "source": [
    "print(evaluation_summary.meanAbsoluteError)\n",
    "print(evaluation_summary.rootMeanSquaredError)\n",
    "print(evaluation_summary.r2)"
   ]
  },
  {
   "cell_type": "code",
   "execution_count": 84,
   "metadata": {},
   "outputs": [
    {
     "data": {
      "text/html": [
       "<style scoped>\n",
       "  .ansiout {\n",
       "    display: block;\n",
       "    unicode-bidi: embed;\n",
       "    white-space: pre-wrap;\n",
       "    word-wrap: break-word;\n",
       "    word-break: break-all;\n",
       "    font-family: \"Source Code Pro\", \"Menlo\", monospace;;\n",
       "    font-size: 13px;\n",
       "    color: #555;\n",
       "    margin-left: 4px;\n",
       "    line-height: 19px;\n",
       "  }\n",
       "</style>\n",
       "<div class=\"ansiout\"></div>"
      ]
     },
     "metadata": {},
     "output_type": "display_data"
    }
   ],
   "source": [
    "predictions = model.transform(test)"
   ]
  },
  {
   "cell_type": "code",
   "execution_count": 85,
   "metadata": {},
   "outputs": [
    {
     "data": {
      "text/html": [
       "<style scoped>\n",
       "  .ansiout {\n",
       "    display: block;\n",
       "    unicode-bidi: embed;\n",
       "    white-space: pre-wrap;\n",
       "    word-wrap: break-word;\n",
       "    word-break: break-all;\n",
       "    font-family: \"Source Code Pro\", \"Menlo\", monospace;;\n",
       "    font-size: 13px;\n",
       "    color: #555;\n",
       "    margin-left: 4px;\n",
       "    line-height: 19px;\n",
       "  }\n",
       "</style>\n",
       "<div class=\"ansiout\">+---------+-------+-------+------------------+--------+------------------+\n",
       "Departure|Arrival|Mileage|    Duration (min)|features|        prediction|\n",
       "+---------+-------+-------+------------------+--------+------------------+\n",
       "      LAX|    BOS|   2611|20409.316666666666|[2611.0]|20821.559145038154|\n",
       "      SEA|    ATL|   2182|           16910.5|[2182.0]| 17401.77011638372|\n",
       "      SEA|    DEN|   1024| 8465.066666666668|[1024.0]| 8170.731199875941|\n",
       "      SFO|    DEN|    967| 7897.166666666666| [967.0]| 7716.353636628149|\n",
       "      SFO|    SEA|    679| 5624.383333333333| [679.0]| 5420.551211797198|\n",
       "      ORD|    MIA|   1197|           9915.15|[1197.0]| 9549.806962013976|\n",
       "      SFO|    IAD|   2419|          18747.25|[2419.0]|19291.024195150854|\n",
       "      ORD|    SEA|   1721|13968.783333333335|[1721.0]|13726.891929414733|\n",
       "      ATL|    BOS|    946| 7315.733333333334| [946.0]| 7548.951376484225|\n",
       "      ATL|    LAX|   1947|15770.699999999999|[1947.0]|15528.459110011243|\n",
       "      ORD|    ATL|    606|            4706.6| [606.0]| 4838.629069392131|\n",
       "      SEA|    ORD|   1721|          13681.95|[1721.0]|13726.891929414733|\n",
       "+---------+-------+-------+------------------+--------+------------------+\n",
       "\n",
       "</div>"
      ]
     },
     "metadata": {},
     "output_type": "display_data"
    }
   ],
   "source": [
    "predictions.show()"
   ]
  },
  {
   "cell_type": "code",
   "execution_count": 86,
   "metadata": {},
   "outputs": [
    {
     "data": {
      "text/html": [
       "<style scoped>\n",
       "  .table-result-container {\n",
       "    max-height: 300px;\n",
       "    overflow: auto;\n",
       "  }\n",
       "  table, th, td {\n",
       "    border: 1px solid black;\n",
       "    border-collapse: collapse;\n",
       "  }\n",
       "  th, td {\n",
       "    padding: 5px;\n",
       "  }\n",
       "  th {\n",
       "    text-align: left;\n",
       "  }\n",
       "</style><div class='table-result-container'><table class='table-result'><thead style='background-color: white'><tr><th>Departure</th><th>Arrival</th><th>Mileage</th><th>Duration (min)</th><th>features</th><th>prediction</th></tr></thead><tbody><tr><td>LAX</td><td>BOS</td><td>2611</td><td>20409.316666666666</td><td>List(1, 1, List(), List(2611.0))</td><td>20821.559145038154</td></tr><tr><td>SEA</td><td>ATL</td><td>2182</td><td>16910.5</td><td>List(1, 1, List(), List(2182.0))</td><td>17401.77011638372</td></tr><tr><td>SEA</td><td>DEN</td><td>1024</td><td>8465.066666666668</td><td>List(1, 1, List(), List(1024.0))</td><td>8170.731199875941</td></tr><tr><td>SFO</td><td>DEN</td><td>967</td><td>7897.166666666666</td><td>List(1, 1, List(), List(967.0))</td><td>7716.353636628149</td></tr><tr><td>SFO</td><td>SEA</td><td>679</td><td>5624.383333333333</td><td>List(1, 1, List(), List(679.0))</td><td>5420.551211797198</td></tr><tr><td>ORD</td><td>MIA</td><td>1197</td><td>9915.15</td><td>List(1, 1, List(), List(1197.0))</td><td>9549.806962013976</td></tr><tr><td>SFO</td><td>IAD</td><td>2419</td><td>18747.25</td><td>List(1, 1, List(), List(2419.0))</td><td>19291.024195150854</td></tr><tr><td>ORD</td><td>SEA</td><td>1721</td><td>13968.783333333335</td><td>List(1, 1, List(), List(1721.0))</td><td>13726.891929414733</td></tr><tr><td>ATL</td><td>BOS</td><td>946</td><td>7315.733333333334</td><td>List(1, 1, List(), List(946.0))</td><td>7548.951376484225</td></tr><tr><td>ATL</td><td>LAX</td><td>1947</td><td>15770.699999999999</td><td>List(1, 1, List(), List(1947.0))</td><td>15528.459110011243</td></tr><tr><td>ORD</td><td>ATL</td><td>606</td><td>4706.6</td><td>List(1, 1, List(), List(606.0))</td><td>4838.629069392131</td></tr><tr><td>SEA</td><td>ORD</td><td>1721</td><td>13681.95</td><td>List(1, 1, List(), List(1721.0))</td><td>13726.891929414733</td></tr></tbody></table></div>"
      ]
     },
     "metadata": {},
     "output_type": "display_data"
    }
   ],
   "source": [
    "display(predictions)"
   ]
  },
  {
   "cell_type": "code",
   "execution_count": 87,
   "metadata": {},
   "outputs": [
    {
     "data": {
      "text/html": [
       "<style scoped>\n",
       "  .table-result-container {\n",
       "    max-height: 300px;\n",
       "    overflow: auto;\n",
       "  }\n",
       "  table, th, td {\n",
       "    border: 1px solid black;\n",
       "    border-collapse: collapse;\n",
       "  }\n",
       "  th, td {\n",
       "    padding: 5px;\n",
       "  }\n",
       "  th {\n",
       "    text-align: left;\n",
       "  }\n",
       "</style><div class='table-result-container'><table class='table-result'><thead style='background-color: white'><tr><th>fitted values</th><th>residuals</th></tr></thead><tbody><tr><td>10036.070670051087</td><td>48.89599661557986</td></tr><tr><td>10036.070670051087</td><td>174.69599661557913</td></tr><tr><td>19291.024195150854</td><td>383.50913818247864</td></tr><tr><td>17058.99405989854</td><td>88.65594010146015</td></tr><tr><td>17401.77011638372</td><td>-491.27011638371914</td></tr><tr><td>20821.559145038154</td><td>-412.2424783714887</td></tr><tr><td>8170.731199875941</td><td>294.33546679072697</td></tr><tr><td>9549.806962013976</td><td>185.79303798602268</td></tr><tr><td>5420.551211797198</td><td>-180.93454513053166</td></tr><tr><td>4838.629069392131</td><td>120.47093060786938</td></tr><tr><td>1474.6407941190027</td><td>-8.77412745233596</td></tr><tr><td>7349.662971550983</td><td>-104.46297155098273</td></tr><tr><td>13910.237261953316</td><td>-481.4372619533151</td></tr><tr><td>21722.34273533641</td><td>-838.3427353364095</td></tr><tr><td>14723.333954080945</td><td>75.4327125857235</td></tr><tr><td>4742.970635024175</td><td>167.4293649758256</td></tr><tr><td>3300.122583307501</td><td>-85.6059166408345</td></tr><tr><td>8170.731199875941</td><td>-217.66453320927394</td></tr><tr><td>4264.678463184393</td><td>114.1215368156063</td></tr><tr><td>6879.342335908531</td><td>217.7909974248014</td></tr><tr><td>11582.548692333046</td><td>-353.7486923330471</td></tr><tr><td>5420.551211797198</td><td>203.83212153613476</td></tr><tr><td>20821.559145038154</td><td>893.2575216285113</td></tr><tr><td>7349.662971550983</td><td>-119.8129715509831</td></tr><tr><td>7716.353636628149</td><td>180.81303003851735</td></tr><tr><td>17058.99405989854</td><td>-125.24405989854131</td></tr><tr><td>17058.99405989854</td><td>-446.09405989853985</td></tr><tr><td>19243.194977966876</td><td>-703.3116446335407</td></tr><tr><td>19243.194977966876</td><td>261.88835536646</td></tr><tr><td>18677.21590795647</td><td>-448.6492412898042</td></tr><tr><td>15528.459110011243</td><td>-147.15911001124186</td></tr><tr><td>20566.469986723605</td><td>108.51334660973225</td></tr><tr><td>7086.602277039103</td><td>76.59772296089704</td></tr><tr><td>5420.551211797198</td><td>147.24878820280082</td></tr><tr><td>9565.750034408637</td><td>126.16663225803131</td></tr><tr><td>4264.678463184393</td><td>114.1215368156063</td></tr><tr><td>9565.750034408637</td><td>166.13329892469665</td></tr><tr><td>7612.723666062862</td><td>-219.22366606286232</td></tr><tr><td>21562.912011389817</td><td>745.087988610183</td></tr><tr><td>6082.188716175562</td><td>-214.7887161755616</td></tr><tr><td>9565.750034408637</td><td>46.23329892469701</td></tr><tr><td>5420.551211797198</td><td>-146.98454513053184</td></tr><tr><td>9549.806962013976</td><td>365.3430379860238</td></tr><tr><td>19291.024195150854</td><td>-543.7741951508542</td></tr><tr><td>11582.548692333046</td><td>9.251307666952926</td></tr><tr><td>13631.233495046778</td><td>325.5998382865546</td></tr><tr><td>12921.766773484434</td><td>-501.76677348443445</td></tr><tr><td>1833.3599229988388</td><td>36.80674366782773</td></tr><tr><td>13631.233495046778</td><td>126.2165049532232</td></tr><tr><td>5851.014166453001</td><td>98.50250021366628</td></tr><tr><td>4742.970635024175</td><td>48.6293649758245</td></tr><tr><td>7.878133810340071</td><td>-7.878133810340071</td></tr><tr><td>17401.77011638372</td><td>-600.3701163837177</td></tr><tr><td>14723.333954080945</td><td>629.232712585721</td></tr><tr><td>17401.77011638372</td><td>-454.9034497170542</td></tr><tr><td>4264.678463184393</td><td>-126.17846318439297</td></tr><tr><td>13989.952623926612</td><td>305.14737607338793</td></tr><tr><td>19243.194977966876</td><td>-703.3116446335407</td></tr><tr><td>2694.2858323104447</td><td>80.34750102288854</td></tr><tr><td>17058.99405989854</td><td>-232.19405989854204</td></tr><tr><td>17058.99405989854</td><td>373.8559401014609</td></tr><tr><td>13726.891929414733</td><td>241.891403918602</td></tr><tr><td>21562.912011389817</td><td>654.9546552768516</td></tr><tr><td>4838.629069392131</td><td>-142.129069392131</td></tr><tr><td>4838.629069392131</td><td>191.1709306078692</td></tr><tr><td>6082.188716175562</td><td>242.41128382443821</td></tr><tr><td>21722.34273533641</td><td>478.25726466359265</td></tr><tr><td>14723.333954080945</td><td>75.4327125857235</td></tr><tr><td>4838.629069392131</td><td>-132.02906939213062</td></tr><tr><td>7548.951376484225</td><td>-233.2180431508914</td></tr><tr><td>20566.469986723605</td><td>-794.1366533902692</td></tr><tr><td>8170.731199875941</td><td>-81.13119987594018</td></tr><tr><td>6919.20001689518</td><td>-185.50001689518012</td></tr><tr><td>13989.952623926612</td><td>-454.9192905932796</td></tr><tr><td>12921.766773484434</td><td>119.23322651556737</td></tr><tr><td>5420.551211797198</td><td>-90.40121179719881</td></tr><tr><td>18246.752953300667</td><td>629.2470466993327</td></tr><tr><td>15528.459110011243</td><td>242.24088998875595</td></tr><tr><td>6879.342335908531</td><td>-198.8423359085309</td></tr><tr><td>1474.6407941190027</td><td>-5.707460785669355</td></tr><tr><td>13726.891929414733</td><td>500.04140391860165</td></tr><tr><td>20566.469986723605</td><td>108.51334660973225</td></tr><tr><td>9565.750034408637</td><td>86.19996559136416</td></tr><tr><td>19689.60100501734</td><td>-513.7010050173376</td></tr><tr><td>13726.891929414733</td><td>-159.6752627480655</td></tr><tr><td>4695.1414178401965</td><td>18.6585821598037</td></tr><tr><td>1833.3599229988388</td><td>-73.87658966550543</td></tr><tr><td>6879.342335908531</td><td>74.12433075813533</td></tr><tr><td>19904.832482345242</td><td>-103.23248234523999</td></tr><tr><td>20821.559145038154</td><td>588.6408549618427</td></tr><tr><td>20821.559145038154</td><td>-64.10914503815366</td></tr><tr><td>13726.891929414733</td><td>-44.94192941473193</td></tr><tr><td>10036.070670051087</td><td>132.76266328224665</td></tr><tr><td>14723.333954080945</td><td>-539.9006207476104</td></tr><tr><td>13910.237261953316</td><td>506.8294047133513</td></tr><tr><td>4742.970635024175</td><td>-139.47063502417495</td></tr><tr><td>9565.750034408637</td><td>-113.63336774196978</td></tr><tr><td>8744.681806083678</td><td>59.85152724965519</td></tr><tr><td>4742.970635024175</td><td>48.6293649758245</td></tr><tr><td>7548.951376484225</td><td>318.61529018244164</td></tr></tbody></table></div>"
      ]
     },
     "metadata": {},
     "output_type": "display_data"
    }
   ],
   "source": [
    "display(model, preppedDataDF, \"fittedVsResiduals\")"
   ]
  },
  {
   "cell_type": "code",
   "execution_count": 88,
   "metadata": {},
   "outputs": [],
   "source": [
    "# Homework 10\n",
    "# Twitter project"
   ]
  },
  {
   "cell_type": "code",
   "execution_count": 89,
   "metadata": {},
   "outputs": [
    {
     "data": {
      "text/html": [
       "<style scoped>\n",
       "  .ansiout {\n",
       "    display: block;\n",
       "    unicode-bidi: embed;\n",
       "    white-space: pre-wrap;\n",
       "    word-wrap: break-word;\n",
       "    word-break: break-all;\n",
       "    font-family: \"Source Code Pro\", \"Menlo\", monospace;;\n",
       "    font-size: 13px;\n",
       "    color: #555;\n",
       "    margin-left: 4px;\n",
       "    line-height: 19px;\n",
       "  }\n",
       "</style>\n",
       "<div class=\"ansiout\">Requirement already satisfied: requests in /databricks/python3/lib/python3.7/site-packages (2.21.0)\n",
       "Requirement already satisfied: requests_oauthlib in /databricks/python3/lib/python3.7/site-packages (1.3.0)\n",
       "Requirement already satisfied: chardet&lt;3.1.0,&gt;=3.0.2 in /databricks/python3/lib/python3.7/site-packages (from requests) (3.0.4)\n",
       "Requirement already satisfied: certifi&gt;=2017.4.17 in /databricks/python3/lib/python3.7/site-packages (from requests) (2019.3.9)\n",
       "Requirement already satisfied: urllib3&lt;1.25,&gt;=1.21.1 in /databricks/python3/lib/python3.7/site-packages (from requests) (1.24.1)\n",
       "Requirement already satisfied: idna&lt;2.9,&gt;=2.5 in /databricks/python3/lib/python3.7/site-packages (from requests) (2.8)\n",
       "Requirement already satisfied: oauthlib&gt;=3.0.0 in /databricks/python3/lib/python3.7/site-packages (from requests_oauthlib) (3.1.0)\n",
       "You are using pip version 19.0.3, however version 20.2b1 is available.\n",
       "You should consider upgrading via the &#39;pip install --upgrade pip&#39; command.\n",
       "</div>"
      ]
     },
     "metadata": {},
     "output_type": "display_data"
    }
   ],
   "source": [
    "%sh\n",
    "pip install requests requests_oauthlib"
   ]
  },
  {
   "cell_type": "code",
   "execution_count": 90,
   "metadata": {},
   "outputs": [
    {
     "data": {
      "text/html": [
       "<style scoped>\n",
       "  .ansiout {\n",
       "    display: block;\n",
       "    unicode-bidi: embed;\n",
       "    white-space: pre-wrap;\n",
       "    word-wrap: break-word;\n",
       "    word-break: break-all;\n",
       "    font-family: \"Source Code Pro\", \"Menlo\", monospace;;\n",
       "    font-size: 13px;\n",
       "    color: #555;\n",
       "    margin-left: 4px;\n",
       "    line-height: 19px;\n",
       "  }\n",
       "</style>\n",
       "<div class=\"ansiout\"></div>"
      ]
     },
     "metadata": {},
     "output_type": "display_data"
    }
   ],
   "source": [
    "import socket\n",
    "import sys\n",
    "import requests\n",
    "import requests_oauthlib\n",
    "import json"
   ]
  },
  {
   "cell_type": "code",
   "execution_count": 91,
   "metadata": {},
   "outputs": [
    {
     "data": {
      "text/html": [
       "<style scoped>\n",
       "  .ansiout {\n",
       "    display: block;\n",
       "    unicode-bidi: embed;\n",
       "    white-space: pre-wrap;\n",
       "    word-wrap: break-word;\n",
       "    word-break: break-all;\n",
       "    font-family: \"Source Code Pro\", \"Menlo\", monospace;;\n",
       "    font-size: 13px;\n",
       "    color: #555;\n",
       "    margin-left: 4px;\n",
       "    line-height: 19px;\n",
       "  }\n",
       "</style>\n",
       "<div class=\"ansiout\"></div>"
      ]
     },
     "metadata": {},
     "output_type": "display_data"
    }
   ],
   "source": [
    "ACCESS_TOKEN = '273581743-siLMhZNxr3vx8w0XizHt9CMqW5ffsDHHuy8CJvMw'\n",
    "ACCESS_SECRET = 'iiRX1RbdjksEWWK70iLmwzXMaZXEN8AsH4Z3ftjELryW1'\n",
    "CONSUMER_KEY = 'lYjK0ZCqsPSW0QXliOBUSAR2Q'\n",
    "CONSUMER_SECRET = 'dksTWPTrXajCkL7CwsNYNRi1DNdCt0OxSSI5seLyIsSjQD2KpM' \n",
    "my_auth = requests_oauthlib.OAuth1(CONSUMER_KEY, CONSUMER_SECRET, ACCESS_TOKEN, ACCESS_SECRET)"
   ]
  },
  {
   "cell_type": "code",
   "execution_count": 92,
   "metadata": {},
   "outputs": [
    {
     "data": {
      "text/html": [
       "<style scoped>\n",
       "  .ansiout {\n",
       "    display: block;\n",
       "    unicode-bidi: embed;\n",
       "    white-space: pre-wrap;\n",
       "    word-wrap: break-word;\n",
       "    word-break: break-all;\n",
       "    font-family: \"Source Code Pro\", \"Menlo\", monospace;;\n",
       "    font-size: 13px;\n",
       "    color: #555;\n",
       "    margin-left: 4px;\n",
       "    line-height: 19px;\n",
       "  }\n",
       "</style>\n",
       "<div class=\"ansiout\"></div>"
      ]
     },
     "metadata": {},
     "output_type": "display_data"
    }
   ],
   "source": [
    "def get_tweets():\n",
    "  url = 'https://stream.twitter.com/1.1/statuses/filter.json'\n",
    "  query_data = [('language', 'en'), ('track', 'trump')]\n",
    "  query_url = url + '?' + '&'.join(str(t[0]) + '='+ str(t[1]) for t in query_data)\n",
    "  response = requests.get(query_url, auth = my_auth, stream = True)\n",
    "  print(query_url, response)\n",
    "  return response"
   ]
  },
  {
   "cell_type": "code",
   "execution_count": 93,
   "metadata": {},
   "outputs": [
    {
     "data": {
      "text/html": [
       "<style scoped>\n",
       "  .ansiout {\n",
       "    display: block;\n",
       "    unicode-bidi: embed;\n",
       "    white-space: pre-wrap;\n",
       "    word-wrap: break-word;\n",
       "    word-break: break-all;\n",
       "    font-family: \"Source Code Pro\", \"Menlo\", monospace;;\n",
       "    font-size: 13px;\n",
       "    color: #555;\n",
       "    margin-left: 4px;\n",
       "    line-height: 19px;\n",
       "  }\n",
       "</style>\n",
       "<div class=\"ansiout\"></div>"
      ]
     },
     "metadata": {},
     "output_type": "display_data"
    }
   ],
   "source": [
    "def send_tweets_to_spark(http_resp, tcp_connection):\n",
    "  for line in http_resp.iter_lines():\n",
    "    try:\n",
    "      full_tweet = json.loads(line)\n",
    "      tweet_text = str(full_tweet['text'].encode('utf-8'))\n",
    "      print('Tweet text: ' + tweet_text)\n",
    "      print('-------------------')\n",
    "      tcp_connection.send(tweet_text + '\\n', 'utf-8')\n",
    "    except:\n",
    "      e = sys.exc_info()[0]\n",
    "      print('Error #1: %s' % e)"
   ]
  },
  {
   "cell_type": "code",
   "execution_count": 94,
   "metadata": {},
   "outputs": [],
   "source": [
    "TCP_IP = 'localhost'\n",
    "TCP_PORT = 9012\n",
    "conn = None\n",
    "s = socket.socket(socket.AF_INET, socket.SOCK_STREAM)\n",
    "s.bind((TCP_IP, TCP_PORT))\n",
    "s.listen(1)\n",
    "print('Waiting for TCP connection...')\n",
    "conn, addr = s.accept()\n",
    "print('Connected...Starting getting tweets.')\n",
    "resp = get_tweets()\n",
    "send_tweets_to_spark(resp, conn)"
   ]
  },
  {
   "cell_type": "code",
   "execution_count": 95,
   "metadata": {},
   "outputs": [
    {
     "data": {
      "text/html": [
       "<style scoped>\n",
       "  .ansiout {\n",
       "    display: block;\n",
       "    unicode-bidi: embed;\n",
       "    white-space: pre-wrap;\n",
       "    word-wrap: break-word;\n",
       "    word-break: break-all;\n",
       "    font-family: \"Source Code Pro\", \"Menlo\", monospace;;\n",
       "    font-size: 13px;\n",
       "    color: #555;\n",
       "    margin-left: 4px;\n",
       "    line-height: 19px;\n",
       "  }\n",
       "</style>\n",
       "<div class=\"ansiout\"></div>"
      ]
     },
     "metadata": {},
     "output_type": "display_data"
    }
   ],
   "source": [
    "from pyspark import SparkConf, SparkContext\n",
    "from pyspark.streaming import StreamingContext\n",
    "from pyspark.sql import Row, SQLContext\n",
    "import sys\n",
    "import requests"
   ]
  },
  {
   "cell_type": "code",
   "execution_count": 96,
   "metadata": {},
   "outputs": [
    {
     "data": {
      "text/html": [
       "<style scoped>\n",
       "  .ansiout {\n",
       "    display: block;\n",
       "    unicode-bidi: embed;\n",
       "    white-space: pre-wrap;\n",
       "    word-wrap: break-word;\n",
       "    word-break: break-all;\n",
       "    font-family: \"Source Code Pro\", \"Menlo\", monospace;;\n",
       "    font-size: 13px;\n",
       "    color: #555;\n",
       "    margin-left: 4px;\n",
       "    line-height: 19px;\n",
       "  }\n",
       "</style>\n",
       "<div class=\"ansiout\"></div>"
      ]
     },
     "metadata": {},
     "output_type": "display_data"
    }
   ],
   "source": [
    "def aggregate_tags_count(new_values, total_sum):\n",
    "  return sum(new_values) + (total_sum or 0)\n",
    "\n",
    "def get_sql_context_instance(spark_context):\n",
    "  if ('sqlContextSingletonInstance' not in globals()):\n",
    "    globals()['sqlContextSingletonInstance'] = SQLContext(spark_context)\n",
    "    return globals()['sqlContextSingletonInstance']\n",
    "  \n",
    "def process_rdd(time, rdd):\n",
    "  print('--------------%s-------------------' %str(time))\n",
    "  try:\n",
    "#     get spark sql singleton context from the current context\n",
    "    sql_context = get_sql_context_instance(rdd.context)\n",
    "  #   convert the RDD to Row RDD\n",
    "    row_rdd = rdd.map(lambda w: Row(hashtag = w[0], hashtag_count = w[1]))\n",
    "    hashtags_df = sql_context.createDataFrame(row_rdd)\n",
    "    hashtags_df.registerTempTable('hashtags')\n",
    "    hashtag_counts_df = sql_context.sql('select hashtag, hashtag_count from hashtags order by hashtag_count desc limit 10')\n",
    "    hashtag_counts_df.show()\n",
    "    send_df_to_dashboard(hashtag_counts_df)\n",
    "  except:\n",
    "    e = sys.exc_info()\n",
    "    print('Error #2: %s' %e)\n",
    "  \n",
    "def send_df_to_dashboard(df):\n",
    "  top_tags = [str(t.hashtag) for t in df.select('hashtag').collect()]\n",
    "  tags_count = [p.hashtag_count for p in df.select('hashtag_count').collect()]\n",
    "  url = 'http://localhost:9009/updateData'\n",
    "  request_data = {'label': str(top_tags), 'data': str(tags_count)}\n",
    "  response = requests.post(url, data = request_data)\n",
    "    "
   ]
  },
  {
   "cell_type": "code",
   "execution_count": 97,
   "metadata": {},
   "outputs": [
    {
     "data": {
      "text/html": [
       "<style scoped>\n",
       "  .ansiout {\n",
       "    display: block;\n",
       "    unicode-bidi: embed;\n",
       "    white-space: pre-wrap;\n",
       "    word-wrap: break-word;\n",
       "    word-break: break-all;\n",
       "    font-family: \"Source Code Pro\", \"Menlo\", monospace;;\n",
       "    font-size: 13px;\n",
       "    color: #555;\n",
       "    margin-left: 4px;\n",
       "    line-height: 19px;\n",
       "  }\n",
       "</style>\n",
       "<div class=\"ansiout\"></div>"
      ]
     },
     "metadata": {},
     "output_type": "display_data"
    }
   ],
   "source": [
    "conf = SparkConf()\n",
    "conf.setAppName('TwitterStreamApp')\n",
    "# sc = SparkContext(conf = conf)\n",
    "sc.setLogLevel('ERROR')\n",
    "\n",
    "ssc = StreamingContext(sc, 2)\n",
    "ssc.checkpoint('/FileStore/checkpoint_TwitterApp')\n",
    "dataStream = ssc.socketTextStream('localhost', 9009)"
   ]
  },
  {
   "cell_type": "code",
   "execution_count": 98,
   "metadata": {},
   "outputs": [],
   "source": [
    "# split each tweet into words\n",
    "words = dataStream.flatMap(lambda line: line.split(\" \"))\n",
    "# filter the words to get only hashtags, then map each hashtag to be a pair of (hashtag, 1)\n",
    "hashtags = words.filter(lambda w: '#' in w).map(lambda x: (x, 1))\n",
    "# addint the count of each hashtag to its last count\n",
    "tags_totals = hashtags.reduceByKey(lambda a,b: a+b)\n",
    "# do processing for each RDD generated in each interval\n",
    "tags_totals.foreachRDD(process_rdd)\n",
    "# start the streaming computation\n",
    "\n",
    "# You need to open this up the first time, and comment it out in subsequent runnings\n",
    "# ssc.start()\n",
    "\n",
    "\n",
    "# wait for the streaming to finish\n",
    "ssc.awaitTermination()"
   ]
  },
  {
   "cell_type": "code",
   "execution_count": 99,
   "metadata": {},
   "outputs": [],
   "source": [
    "import socket\n",
    "import sys\n",
    "import requests\n",
    "import requests_oauthlib\n",
    "import json\n",
    "\n",
    "# Replace the values below with yours\n",
    "# ACCESS_TOKEN = 'YOUR_ACCESS_TOKEN'\n",
    "# ACCESS_SECRET = 'YOUR_ACCESS_SECRET'\n",
    "# CONSUMER_KEY = 'YOUR_CONSUMER_KEY'\n",
    "# CONSUMER_SECRET = 'YOUR_CONSUMER_SECRET'\n",
    "# my_auth = requests_oauthlib.OAuth1(CONSUMER_KEY, CONSUMER_SECRET,ACCESS_TOKEN, ACCESS_SECRET)\n",
    "\n",
    "\n",
    "def send_tweets_to_spark(http_resp, tcp_connection):\n",
    "    for line in http_resp.iter_lines():\n",
    "        try:\n",
    "            full_tweet = json.loads(line)\n",
    "            tweet_text = full_tweet['text'].encode(\"utf-8\") + '\\n' # pyspark can't accept stream, add '\\n'\n",
    "            print(\"Tweet Text: \" + tweet_text)\n",
    "            print (\"------------------------------------------\")\n",
    "            tcp_connection.send(tweet_text + '\\n')\n",
    "        except:\n",
    "            e = sys.exc_info()[0]\n",
    "            print(\"Error: %s\" % e)\n",
    "\n",
    "\n",
    "def get_tweets():\n",
    "    url = 'https://stream.twitter.com/1.1/statuses/filter.json'\n",
    "    query_data = [('language', 'en'), ('track','umbc')]\n",
    "    #query_data = [(locations', '-122.75,36.8,-121.75,37.8,-74,40,-73,41'), ('track', '#')] #this location value is San Francisco & NYC\n",
    "    query_url = url + '?' + '&'.join([str(t[0]) + '=' + str(t[1]) for t in query_data])\n",
    "    response = requests.get(query_url, auth=my_auth, stream=True)\n",
    "    print(query_url, response)\n",
    "    return response\n",
    "\n",
    "\n",
    "TCP_IP = \"localhost\"\n",
    "TCP_PORT = 9010\n",
    "conn = None\n",
    "s = socket.socket(socket.AF_INET, socket.SOCK_STREAM)\n",
    "s.bind((TCP_IP, TCP_PORT))\n",
    "s.listen(1)\n",
    "print(\"Waiting for TCP connection...\")\n",
    "conn, addr = s.accept()\n",
    "print(\"Connected... Starting getting tweets.\")\n",
    "resp = get_tweets()\n",
    "send_tweets_to_spark(resp,conn)\n",
    "\n",
    "\n"
   ]
  },
  {
   "cell_type": "code",
   "execution_count": 100,
   "metadata": {},
   "outputs": [],
   "source": []
  }
 ],
 "metadata": {
  "kernelspec": {
   "display_name": "Python 3",
   "language": "python",
   "name": "python3"
  },
  "language_info": {
   "codemirror_mode": {
    "name": "ipython",
    "version": 3
   },
   "file_extension": ".py",
   "mimetype": "text/x-python",
   "name": "python",
   "nbconvert_exporter": "python",
   "pygments_lexer": "ipython3",
   "version": "3.7.3"
  },
  "name": "DataScience 603",
  "notebookId": 1626975377870619
 },
 "nbformat": 4,
 "nbformat_minor": 1
}
