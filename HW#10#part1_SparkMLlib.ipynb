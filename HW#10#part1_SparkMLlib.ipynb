{
 "cells": [
  {
   "cell_type": "code",
   "execution_count": null,
   "metadata": {},
   "outputs": [],
   "source": [
    "!pip install requests requests_oauthlib\n",
    "!pip install pyspark-utils\n",
    "!pip install pypandoc\n",
    "!pip install Twitter.utils"
   ]
  },
  {
   "cell_type": "code",
   "execution_count": null,
   "metadata": {},
   "outputs": [],
   "source": [
    "from __future__ import print_function\n",
    "from pyspark import SparkContext\n",
    "from  pyspark.streaming import StreamingContext\n",
    "import sys\n",
    "from pyspark.sql import SQLContext"
   ]
  },
  {
   "cell_type": "code",
   "execution_count": null,
   "metadata": {},
   "outputs": [],
   "source": [
    "sc = SparkContext(appName=\"StreamingDemo\")\n",
    "sc.setLogLevel(\"ERROR\")\n",
    "ssc = StreamingContext(sc, 10)"
   ]
  },
  {
   "cell_type": "code",
   "execution_count": null,
   "metadata": {},
   "outputs": [],
   "source": [
    "socket_stream = ssc.socketTextStream(\"127.0.0.1\", 9000)"
   ]
  },
  {
   "cell_type": "code",
   "execution_count": null,
   "metadata": {},
   "outputs": [],
   "source": [
    "lines = socket_stream.window(60)\n",
    "hashtags = lines.flatMap( lambda text: text.split( \" \" )).filter( lambda word: word.lower().startswith(\"#\")).map( lambda word: (word.lower(), 1)).reduceByKey( lambda a,b: a+b) \n",
    "author_counts_sorted_dstream = hashtags.transform( lambda foo: foo.sortBy(lambda x:x[0].lower()).sortBy(lambda x: x[1], ascending=False))   \n",
    "author_counts_sorted_dstream.pprint()\n",
    "\n",
    "ssc.start()\n",
    "\n",
    "ssc.awaitTermination()\n"
   ]
  },
  {
   "cell_type": "code",
   "execution_count": null,
   "metadata": {},
   "outputs": [],
   "source": [
    "def aggregate_tags_count(new_values, total_sum):\n",
    "    return sum(new_values) + (total_sum or 0)"
   ]
  },
  {
   "cell_type": "code",
   "execution_count": null,
   "metadata": {},
   "outputs": [],
   "source": [
    "def get_sql_context_instance(spark_context):\n",
    "    if('sqlContextSingletonInstance' not in globals()):\n",
    "        globals()['sqlContextSingletonInstance'] = SQLContext(spark_context)\n",
    "        \n",
    "    return globals()['sqlContextSingletonInstance']\n",
    "\n",
    "def process_rdd(time, rdd):\n",
    "\tprint(\"----------- %s -----------\" % str(time))\n",
    "\ttry:\n",
    "    \t# Get spark sql singleton context from the current context\n",
    "        sql_context = get_sql_context_instance(rdd.context)\n",
    "    \t# convert the RDD to Row RDD\n",
    "    \trow_rdd = rdd.map(lambda w: Row(hashtag=w[0], hashtag_count=w[1]))\n",
    "    \t# create a DF from the Row RDD\n",
    "    \thashtags_df = sql_context.createDataFrame(row_rdd)\n",
    "    \t# Register the dataframe as table\n",
    "    \thashtags_df.registerTempTable(\"hashtags\")\n",
    "    \t# get the top 10 hashtags from the table using SQL and print them\n",
    "    \thashtag_counts_df = sql_context.sql(\"select hashtag, hashtag_count from hashtags order by hashtag_count desc limit 10\")\n",
    "    \thashtag_counts_df.show()\n",
    "    \t# call this method to prepare top 10 hashtags DF and send them\n",
    "    \tsend_df_to_dashboard(hashtag_counts_df)\n",
    "\texcept:\n",
    "    \te = sys.exc_info()[0]\n",
    "    \tprint(\"Error: %s\" % e)"
   ]
  },
  {
   "cell_type": "code",
   "execution_count": null,
   "metadata": {},
   "outputs": [],
   "source": [
    "def send_df_to_dashboard(df):\n",
    "\t# extract the hashtags from dataframe and convert them into array\n",
    "\ttop_tags = [str(t.hashtag) for t in df.select(\"hashtag\").collect()]\n",
    "\t# extract the counts from dataframe and convert them into array\n",
    "\ttags_count = [p.hashtag_count for p in df.select(\"hashtag_count\").collect()]\n",
    "\t# initialize and send the data through REST API\n",
    "\turl = 'http://localhost:5001/updateData'\n",
    "\trequest_data = {'label': str(top_tags), 'data': str(tags_count)}\n",
    "\tresponse = requests.post(url, data=request_data)"
   ]
  },
  {
   "cell_type": "code",
   "execution_count": null,
   "metadata": {},
   "outputs": [],
   "source": []
  },
  {
   "cell_type": "code",
   "execution_count": null,
   "metadata": {},
   "outputs": [],
   "source": [
    "# split each tweet into words\n",
    "words = socket_stream.flatMap(lambda line: line.split(\" \"))\n",
    "# filter the words to get only hashtags, then map each hashtag to be a pair of (hashtag,1)\n",
    "hashtags = words.filter(lambda w: '#' in w).map(lambda x: (x, 1))\n",
    "# adding the count of each hashtag to its last count\n",
    "tags_totals = hashtags.updateStateByKey(aggregate_tags_count)\n",
    "# do processing for each RDD generated in each interval\n",
    "tags_totals.foreachRDD(process_rdd)\n",
    "# start the streaming computation\n",
    "ssc.start()\n",
    "# wait for the streaming to finish\n",
    "ssc.awaitTermination()"
   ]
  }
 ],
 "metadata": {
  "kernelspec": {
   "display_name": "Python 3",
   "language": "python",
   "name": "python3"
  },
  "language_info": {
   "codemirror_mode": {
    "name": "ipython",
    "version": 3
   },
   "file_extension": ".py",
   "mimetype": "text/x-python",
   "name": "python",
   "nbconvert_exporter": "python",
   "pygments_lexer": "ipython3",
   "version": "3.7.3"
  }
 },
 "nbformat": 4,
 "nbformat_minor": 2
}
